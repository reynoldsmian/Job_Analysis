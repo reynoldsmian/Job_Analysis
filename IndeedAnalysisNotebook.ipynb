{
 "cells": [
  {
   "cell_type": "markdown",
   "metadata": {},
   "source": [
    "# Introduction:\n",
    "This is an example run through pulling 25 pages of jobs.\n",
    "Parameters:\n",
    "job = 'Engineer'\n",
    "loctation = 'Canada'\n",
    "specific jobs that were examined =\n",
    "    * 'project engineer',\n",
    "    * 'project manager',\n",
    "    * 'mechanical engineer',\n",
    "    * 'manufacturing engineer',\n",
    "    * 'mechancial designer',\n",
    "    * 'process engineer',\n",
    "    * 'chemical engineer',\n",
    "    * 'civil engineer',\n",
    "    * 'structural engineer',\n",
    "    * 'electrical engineer',\n",
    "    * 'petroleum'\n",
    "keywords that were searched = \n",
    "    * 'autocad',\n",
    "    * 'solidworks',\n",
    "    * 'autodesk', \n",
    "    * 'revit'\n",
    "    \n",
    " All of these can be adjusted \n",
    "\n",
    "\n"
   ]
  },
  {
   "cell_type": "markdown",
   "metadata": {},
   "source": [
    "# Imports"
   ]
  },
  {
   "cell_type": "code",
   "execution_count": 4,
   "metadata": {},
   "outputs": [],
   "source": [
    "import numpy as np\n",
    "import pandas as pd\n",
    "from pandas import read_html\n",
    "import datetime\n",
    "import sqlite3\n",
    "import matplotlib.pyplot as plt\n",
    "import seaborn as sns\n",
    "sns.set_style('whitegrid')\n",
    "%matplotlib inline"
   ]
  },
  {
   "cell_type": "markdown",
   "metadata": {},
   "source": [
    "# Data"
   ]
  },
  {
   "cell_type": "markdown",
   "metadata": {},
   "source": [
    "## Inputs"
   ]
  },
  {
   "cell_type": "code",
   "execution_count": 42,
   "metadata": {},
   "outputs": [],
   "source": [
    "job = 'Engineer'\n",
    "location = 'Canada'\n",
    "\n",
    "jobs_to_search = [\n",
    "    'project engineer',\n",
    "    'project manager',\n",
    "    'mechanical engineer',\n",
    "    'manufacturing engineer',\n",
    "    'mechancial designer',\n",
    "    'process engineer',\n",
    "    'chemical engineer',\n",
    "    'civil engineer',\n",
    "    'structural engineer',\n",
    "    'electrical engineer',\n",
    "    'petroleum'\n",
    "]\n",
    "\n",
    "keywords_to_search = [\n",
    "    'autocad',\n",
    "    'solidworks',\n",
    "    'autodesk', \n",
    "    'revit']\n",
    "\n",
    "main_file = '{}_{}_{}.csv'.format(job, location, datetime.datetime.now().strftime(\"%Y-%m-%d\"))\n",
    "descr_file = '{}_{}_JobDescript_{}.csv'.format(job, location, datetime.datetime.now().strftime(\"%Y-%m-%d\"))"
   ]
  },
  {
   "cell_type": "markdown",
   "metadata": {},
   "source": [
    "## Scraper"
   ]
  },
  {
   "cell_type": "code",
   "execution_count": 41,
   "metadata": {},
   "outputs": [
    {
     "name": "stdout",
     "output_type": "stream",
     "text": [
      "Request:555; Frequency: 0.6931080428126556 requests/s\n"
     ]
    }
   ],
   "source": [
    "from indeed_auto_main import web_scraper\n",
    "search1 = web_scraper(job,location)\n",
    "search1.scrape_export_title_comp_loc_descr()"
   ]
  },
  {
   "cell_type": "markdown",
   "metadata": {},
   "source": [
    "## Dataframes"
   ]
  },
  {
   "cell_type": "code",
   "execution_count": 43,
   "metadata": {},
   "outputs": [],
   "source": [
    "df = pd.read_csv('scrape_csvs/{}'.format(main_file),header=None)"
   ]
  },
  {
   "cell_type": "code",
   "execution_count": 44,
   "metadata": {},
   "outputs": [],
   "source": [
    "df.columns= ['Job_Id','Company', 'JobTitle', 'Location']"
   ]
  },
  {
   "cell_type": "code",
   "execution_count": 45,
   "metadata": {},
   "outputs": [],
   "source": [
    "#Drop duplicate entries\n",
    "df = df.drop_duplicates(subset=['Company','JobTitle','Location'])"
   ]
  },
  {
   "cell_type": "code",
   "execution_count": 46,
   "metadata": {},
   "outputs": [
    {
     "data": {
      "text/html": [
       "<div>\n",
       "<style scoped>\n",
       "    .dataframe tbody tr th:only-of-type {\n",
       "        vertical-align: middle;\n",
       "    }\n",
       "\n",
       "    .dataframe tbody tr th {\n",
       "        vertical-align: top;\n",
       "    }\n",
       "\n",
       "    .dataframe thead th {\n",
       "        text-align: right;\n",
       "    }\n",
       "</style>\n",
       "<table border=\"1\" class=\"dataframe\">\n",
       "  <thead>\n",
       "    <tr style=\"text-align: right;\">\n",
       "      <th></th>\n",
       "      <th>Job_Id</th>\n",
       "      <th>Company</th>\n",
       "      <th>JobTitle</th>\n",
       "      <th>Location</th>\n",
       "    </tr>\n",
       "  </thead>\n",
       "  <tbody>\n",
       "    <tr>\n",
       "      <th>0</th>\n",
       "      <td>1</td>\n",
       "      <td>adhawk microsystems</td>\n",
       "      <td>junior mechatronics engineer</td>\n",
       "      <td>kitchener, on</td>\n",
       "    </tr>\n",
       "    <tr>\n",
       "      <th>1</th>\n",
       "      <td>2</td>\n",
       "      <td>canadian nuclear laboratories</td>\n",
       "      <td>decommissioning field engineer</td>\n",
       "      <td>chalk river, on</td>\n",
       "    </tr>\n",
       "    <tr>\n",
       "      <th>2</th>\n",
       "      <td>3</td>\n",
       "      <td>ams automated manufacturing systems</td>\n",
       "      <td>project engineer coordinator</td>\n",
       "      <td>brampton, on</td>\n",
       "    </tr>\n",
       "    <tr>\n",
       "      <th>3</th>\n",
       "      <td>4</td>\n",
       "      <td>emergent biosolutions</td>\n",
       "      <td>associate engineer, process support</td>\n",
       "      <td>winnipeg, mb</td>\n",
       "    </tr>\n",
       "    <tr>\n",
       "      <th>4</th>\n",
       "      <td>5</td>\n",
       "      <td>potential motors</td>\n",
       "      <td>automotive engineer</td>\n",
       "      <td>fredericton, nb</td>\n",
       "    </tr>\n",
       "  </tbody>\n",
       "</table>\n",
       "</div>"
      ],
      "text/plain": [
       "   Job_Id                              Company  \\\n",
       "0       1                  adhawk microsystems   \n",
       "1       2        canadian nuclear laboratories   \n",
       "2       3  ams automated manufacturing systems   \n",
       "3       4                emergent biosolutions   \n",
       "4       5                     potential motors   \n",
       "\n",
       "                              JobTitle         Location  \n",
       "0         junior mechatronics engineer    kitchener, on  \n",
       "1       decommissioning field engineer  chalk river, on  \n",
       "2         project engineer coordinator     brampton, on  \n",
       "3  associate engineer, process support     winnipeg, mb  \n",
       "4                  automotive engineer  fredericton, nb  "
      ]
     },
     "execution_count": 46,
     "metadata": {},
     "output_type": "execute_result"
    }
   ],
   "source": [
    "df.head()"
   ]
  },
  {
   "cell_type": "code",
   "execution_count": 47,
   "metadata": {},
   "outputs": [
    {
     "name": "stdout",
     "output_type": "stream",
     "text": [
      "<class 'pandas.core.frame.DataFrame'>\n",
      "Int64Index: 254 entries, 0 to 539\n",
      "Data columns (total 4 columns):\n",
      " #   Column    Non-Null Count  Dtype \n",
      "---  ------    --------------  ----- \n",
      " 0   Job_Id    254 non-null    int64 \n",
      " 1   Company   254 non-null    object\n",
      " 2   JobTitle  254 non-null    object\n",
      " 3   Location  254 non-null    object\n",
      "dtypes: int64(1), object(3)\n",
      "memory usage: 9.9+ KB\n"
     ]
    }
   ],
   "source": [
    "df.info()"
   ]
  },
  {
   "cell_type": "code",
   "execution_count": 48,
   "metadata": {},
   "outputs": [],
   "source": [
    "# Cleaning up some normal outlier entries\n",
    "df = df.replace('remote','canada')\n",
    "df = df.replace('montréal, qc','montreal, qc')\n",
    "df = df.replace('greater toronto area','toronto')\n",
    "df = df.replace('greater toronto area, on','toronto')\n",
    "df = df.replace('british columbia','bc')\n",
    "df = df.replace('alberta','ab')\n",
    "df = df.replace('saskatchewan','sk')\n",
    "df = df.replace('manitoba','mn')\n",
    "df = df.replace('ontario','on')\n",
    "df = df.replace('newfoundland and labrador','nl')"
   ]
  },
  {
   "cell_type": "code",
   "execution_count": 49,
   "metadata": {},
   "outputs": [],
   "source": [
    "# Creating new columns for City/Province\n",
    "df['City'] = df.apply(lambda row: row['Location'].split(',')[0], axis=1)\n",
    "df['Province'] = df.apply(lambda row: row['Location'].split(',')[1] if len(row['Location'].split(',')) > 1 else row['Location'], axis=1)"
   ]
  },
  {
   "cell_type": "markdown",
   "metadata": {},
   "source": [
    "## Getting gps coord for locations"
   ]
  },
  {
   "cell_type": "markdown",
   "metadata": {},
   "source": [
    "### Create Missing Locations List"
   ]
  },
  {
   "cell_type": "code",
   "execution_count": 50,
   "metadata": {
    "scrolled": true
   },
   "outputs": [],
   "source": [
    "# Creating a list of locations as well as a column that will represent the location count\n",
    "\n",
    "Location_group = df.groupby('Location').count()\n",
    "Location_group.reset_index(inplace=True)\n",
    "Location_group.sort_values(by='Company')\n",
    "\n",
    "df['location_count'] = df.groupby('Location')['Location'].transform('count')\n",
    "\n",
    "location_list = Location_group['Location'].tolist()"
   ]
  },
  {
   "cell_type": "code",
   "execution_count": 57,
   "metadata": {},
   "outputs": [],
   "source": [
    "# Create a list of locations that are not in the sqlite database \n",
    "\n",
    "conn = sqlite3.connect('LocationLatLong.db')\n",
    "c = conn.cursor()\n",
    "\n",
    "c.execute(''' SELECT count(name) FROM sqlite_master WHERE type='table' AND name='LocationLatLong' ''')\n",
    "\n",
    "if c.fetchone()[0]==1:\n",
    "    Location_database_df = pd.read_sql_query(\"SELECT location FROM LocationLatLong\", conn)\n",
    "    Location_database_df_list = Location_database_df['location'].tolist()\n",
    "\n",
    "    missing_locations = []\n",
    "    for location in location_list:\n",
    "        if location not in Location_database_df_list:\n",
    "            missing_locations.append(location)\n",
    "            \n",
    "else:\n",
    "    missing_locations = Location_database_df_list"
   ]
  },
  {
   "cell_type": "markdown",
   "metadata": {},
   "source": [
    "### Append Location Lat/Long db"
   ]
  },
  {
   "cell_type": "code",
   "execution_count": 59,
   "metadata": {},
   "outputs": [],
   "source": [
    "# Check if there are new locations not in the sqlite database\n",
    "# If there are missing locations:\n",
    "    # Go through the geopy process of getting lat/long for each missing location\n",
    "    # Create an updated df with the location lat/longs \n",
    "    # Merge this onto existing database \n",
    "# If there are no missing locations:\n",
    "    # Create a df from the existing database \n",
    "\n",
    "if len(missing_locations) != 0:  \n",
    "    import certifi\n",
    "    import ssl\n",
    "    import geopy\n",
    "    from geopy.geocoders import Nominatim\n",
    "    from time import sleep\n",
    "    ctx = ssl.create_default_context(cafile=certifi.where())\n",
    "    geopy.geocoders.options.default_ssl_context = ctx\n",
    "\n",
    "    #Initialize lat and long\n",
    "    long = []\n",
    "    lat = []\n",
    "    \n",
    "    #Iterate through the values and append in any missing locations to the database\n",
    "    #For each new location, find the lat and long\n",
    "    for location in missing_locations:\n",
    "        geolocator = Nominatim(user_agent = 'personal', scheme='http',timeout=20)\n",
    "        location = geolocator.geocode(location)\n",
    "        lat.append(location.latitude)\n",
    "        long.append(location.longitude)\n",
    "        sleep(2)\n",
    "    \n",
    "    #Create a new dataframe with the location/lat/long\n",
    "    New_LocationLatLong_df = pd.DataFrame(\n",
    "        {'location': missing_locations,\n",
    "         'lat': lat,\n",
    "         'long': long\n",
    "        })\n",
    "\n",
    "    #Initialize sql connection\n",
    "    conn = sqlite3.connect('LocationLatLong.db')\n",
    "    c = conn.cursor()\n",
    "    \n",
    "    #Create a table if does not exist\n",
    "    c.execute('''CREATE TABLE IF NOT EXISTS LocationLatLong\n",
    "                 ([generated_id] INTEGER PRIMARY KEY,[location] text, [lat] integer, [long] integer)''')\n",
    "    \n",
    "    #Append new values to table\n",
    "    New_LocationLatLong_df.to_sql('LocationLatLong', conn, if_exists='append', index = False)  \n",
    "    \n",
    "    \n",
    "# If there are no new values, create a dataframe from existing table   \n",
    "\n",
    "conn = sqlite3.connect('LocationLatLong.db')\n",
    "LocationLatLong_df = pd.read_sql_query(\"SELECT * FROM LocationLatLong\", conn)"
   ]
  },
  {
   "cell_type": "markdown",
   "metadata": {},
   "source": [
    "### Merge Location with Lat/Long and Population"
   ]
  },
  {
   "cell_type": "code",
   "execution_count": 62,
   "metadata": {},
   "outputs": [],
   "source": [
    "lat_dict = LocationLatLong_df.set_index('location')['lat'].to_dict()\n",
    "long_dict = LocationLatLong_df.set_index('location')['long'].to_dict()"
   ]
  },
  {
   "cell_type": "code",
   "execution_count": 63,
   "metadata": {},
   "outputs": [],
   "source": [
    "df['lat'] = df['Location'].map(lat_dict)\n",
    "df['long'] = df['Location'].map(long_dict)"
   ]
  },
  {
   "cell_type": "code",
   "execution_count": 68,
   "metadata": {},
   "outputs": [],
   "source": [
    "# Creating a df from the population info\n",
    "\n",
    "pop_df = pd.read_csv('Population.csv')\n",
    "pop_df = pop_df.drop('location',axis=1)\n",
    "pop_df['asciiname'] = pop_df['asciiname'].str.lower()"
   ]
  },
  {
   "cell_type": "code",
   "execution_count": 66,
   "metadata": {},
   "outputs": [],
   "source": [
    "# Merging this onto the main df\n",
    "\n",
    "pop_dict = pop_df.set_index('asciiname')['population'].to_dict()\n",
    "df['population'] = df['City'].map(pop_dict)"
   ]
  },
  {
   "cell_type": "markdown",
   "metadata": {},
   "source": [
    "## Final DF Head"
   ]
  },
  {
   "cell_type": "code",
   "execution_count": 82,
   "metadata": {},
   "outputs": [
    {
     "data": {
      "text/html": [
       "<div>\n",
       "<style scoped>\n",
       "    .dataframe tbody tr th:only-of-type {\n",
       "        vertical-align: middle;\n",
       "    }\n",
       "\n",
       "    .dataframe tbody tr th {\n",
       "        vertical-align: top;\n",
       "    }\n",
       "\n",
       "    .dataframe thead th {\n",
       "        text-align: right;\n",
       "    }\n",
       "</style>\n",
       "<table border=\"1\" class=\"dataframe\">\n",
       "  <thead>\n",
       "    <tr style=\"text-align: right;\">\n",
       "      <th></th>\n",
       "      <th>Job_Id</th>\n",
       "      <th>Company</th>\n",
       "      <th>JobTitle</th>\n",
       "      <th>Location</th>\n",
       "      <th>City</th>\n",
       "      <th>Province</th>\n",
       "      <th>location_count</th>\n",
       "      <th>lat</th>\n",
       "      <th>long</th>\n",
       "      <th>population</th>\n",
       "    </tr>\n",
       "  </thead>\n",
       "  <tbody>\n",
       "    <tr>\n",
       "      <th>0</th>\n",
       "      <td>1</td>\n",
       "      <td>adhawk microsystems</td>\n",
       "      <td>junior mechatronics engineer</td>\n",
       "      <td>kitchener, on</td>\n",
       "      <td>kitchener</td>\n",
       "      <td>on</td>\n",
       "      <td>5</td>\n",
       "      <td>43.453168</td>\n",
       "      <td>-80.494423</td>\n",
       "      <td>233700.0</td>\n",
       "    </tr>\n",
       "    <tr>\n",
       "      <th>1</th>\n",
       "      <td>2</td>\n",
       "      <td>canadian nuclear laboratories</td>\n",
       "      <td>decommissioning field engineer</td>\n",
       "      <td>chalk river, on</td>\n",
       "      <td>chalk river</td>\n",
       "      <td>on</td>\n",
       "      <td>2</td>\n",
       "      <td>46.081129</td>\n",
       "      <td>-77.606637</td>\n",
       "      <td>NaN</td>\n",
       "    </tr>\n",
       "    <tr>\n",
       "      <th>2</th>\n",
       "      <td>3</td>\n",
       "      <td>ams automated manufacturing systems</td>\n",
       "      <td>project engineer coordinator</td>\n",
       "      <td>brampton, on</td>\n",
       "      <td>brampton</td>\n",
       "      <td>on</td>\n",
       "      <td>1</td>\n",
       "      <td>43.685815</td>\n",
       "      <td>-79.759934</td>\n",
       "      <td>433806.0</td>\n",
       "    </tr>\n",
       "    <tr>\n",
       "      <th>3</th>\n",
       "      <td>4</td>\n",
       "      <td>emergent biosolutions</td>\n",
       "      <td>associate engineer, process support</td>\n",
       "      <td>winnipeg, mb</td>\n",
       "      <td>winnipeg</td>\n",
       "      <td>mb</td>\n",
       "      <td>4</td>\n",
       "      <td>49.895537</td>\n",
       "      <td>-97.138458</td>\n",
       "      <td>632063.0</td>\n",
       "    </tr>\n",
       "    <tr>\n",
       "      <th>4</th>\n",
       "      <td>5</td>\n",
       "      <td>potential motors</td>\n",
       "      <td>automotive engineer</td>\n",
       "      <td>fredericton, nb</td>\n",
       "      <td>fredericton</td>\n",
       "      <td>nb</td>\n",
       "      <td>1</td>\n",
       "      <td>45.966425</td>\n",
       "      <td>-66.645813</td>\n",
       "      <td>52337.0</td>\n",
       "    </tr>\n",
       "  </tbody>\n",
       "</table>\n",
       "</div>"
      ],
      "text/plain": [
       "   Job_Id                              Company  \\\n",
       "0       1                  adhawk microsystems   \n",
       "1       2        canadian nuclear laboratories   \n",
       "2       3  ams automated manufacturing systems   \n",
       "3       4                emergent biosolutions   \n",
       "4       5                     potential motors   \n",
       "\n",
       "                              JobTitle         Location         City Province  \\\n",
       "0         junior mechatronics engineer    kitchener, on    kitchener       on   \n",
       "1       decommissioning field engineer  chalk river, on  chalk river       on   \n",
       "2         project engineer coordinator     brampton, on     brampton       on   \n",
       "3  associate engineer, process support     winnipeg, mb     winnipeg       mb   \n",
       "4                  automotive engineer  fredericton, nb  fredericton       nb   \n",
       "\n",
       "   location_count        lat       long  population  \n",
       "0               5  43.453168 -80.494423    233700.0  \n",
       "1               2  46.081129 -77.606637         NaN  \n",
       "2               1  43.685815 -79.759934    433806.0  \n",
       "3               4  49.895537 -97.138458    632063.0  \n",
       "4               1  45.966425 -66.645813     52337.0  "
      ]
     },
     "execution_count": 82,
     "metadata": {},
     "output_type": "execute_result"
    }
   ],
   "source": [
    "df.head()"
   ]
  },
  {
   "cell_type": "code",
   "execution_count": 83,
   "metadata": {},
   "outputs": [
    {
     "name": "stdout",
     "output_type": "stream",
     "text": [
      "<class 'pandas.core.frame.DataFrame'>\n",
      "Int64Index: 254 entries, 0 to 539\n",
      "Data columns (total 10 columns):\n",
      " #   Column          Non-Null Count  Dtype  \n",
      "---  ------          --------------  -----  \n",
      " 0   Job_Id          254 non-null    int64  \n",
      " 1   Company         254 non-null    object \n",
      " 2   JobTitle        254 non-null    object \n",
      " 3   Location        254 non-null    object \n",
      " 4   City            254 non-null    object \n",
      " 5   Province        254 non-null    object \n",
      " 6   location_count  254 non-null    int64  \n",
      " 7   lat             254 non-null    float64\n",
      " 8   long            254 non-null    float64\n",
      " 9   population      198 non-null    float64\n",
      "dtypes: float64(3), int64(2), object(5)\n",
      "memory usage: 31.8+ KB\n"
     ]
    }
   ],
   "source": [
    "df.info()"
   ]
  },
  {
   "cell_type": "markdown",
   "metadata": {},
   "source": [
    "# Visualization"
   ]
  },
  {
   "cell_type": "markdown",
   "metadata": {},
   "source": [
    "## Map"
   ]
  },
  {
   "cell_type": "code",
   "execution_count": 80,
   "metadata": {},
   "outputs": [
    {
     "data": {
      "text/html": [
       "        <script type=\"text/javascript\">\n",
       "        window.PlotlyConfig = {MathJaxConfig: 'local'};\n",
       "        if (window.MathJax) {MathJax.Hub.Config({SVG: {font: \"STIX-Web\"}});}\n",
       "        if (typeof require !== 'undefined') {\n",
       "        require.undef(\"plotly\");\n",
       "        requirejs.config({\n",
       "            paths: {\n",
       "                'plotly': ['https://cdn.plot.ly/plotly-latest.min']\n",
       "            }\n",
       "        });\n",
       "        require(['plotly'], function(Plotly) {\n",
       "            window._Plotly = Plotly;\n",
       "        });\n",
       "        }\n",
       "        </script>\n",
       "        "
      ]
     },
     "metadata": {},
     "output_type": "display_data"
    },
    {
     "data": {
      "application/vnd.plotly.v1+json": {
       "config": {
        "linkText": "Export to plot.ly",
        "plotlyServerURL": "https://plot.ly",
        "showLink": false
       },
       "data": [
        {
         "lat": [
          43.453168,
          46.0811286,
          43.6858146,
          49.8955367,
          45.966425,
          43.590338,
          43.653963,
          53.535411,
          42.9836747,
          49.2608724,
          49.163168,
          43.590338,
          52.129081,
          43.590338,
          43.193234,
          49.592949450000006,
          54.881347,
          43.7941544,
          43.653963,
          50.6536237,
          46.581496900000005,
          44.1534596,
          49.2618661,
          51.7971316,
          46.581496900000005,
          45.421106,
          49.246293,
          51.0534234,
          45.3446891,
          52.8236857,
          39.3600507,
          43.653963,
          43.466874,
          43.854336,
          42.317099,
          43.453168,
          39.3600507,
          44.648618,
          52.131802,
          43.773077,
          46.8259601,
          43.453168,
          45.421106,
          54.2700377,
          42.035586,
          54.12738935,
          45.421106,
          49.163168,
          50.7149911,
          44.056258,
          49.2608724,
          53.535411,
          49.485667,
          45.421106,
          39.3600507,
          43.590338,
          49.1913033,
          43.854336,
          51.766667,
          43.653963,
          51.0534234,
          49.8955367,
          43.3248924,
          43.447436,
          44.267641,
          53.5259625,
          51.0534234,
          49.1913033,
          50.5504793,
          52.4428508,
          45.7234763,
          46.581496900000005,
          45.4972159,
          45.3724897,
          43.653963,
          45.421106,
          48.450155,
          51.0534234,
          49.7332695,
          54.7792074,
          43.466874,
          42.317099,
          56.7291997,
          43.2560802,
          43.773077,
          45.5256161,
          42.317099,
          54.3126572,
          39.3600507,
          43.3248924,
          52.131802,
          45.278752,
          50.000678,
          43.590338,
          61.0666922,
          43.590338,
          49.0521162,
          49.889326,
          43.513671,
          46.0811286,
          42.9836747,
          49.8955367,
          43.3248924,
          49.2608724,
          42.9836747,
          45.5088774,
          48.4283182,
          45.278752,
          53.8242258,
          53.535411,
          43.653963,
          46.581496900000005,
          53.535411,
          48.4283182,
          43.880078,
          43.653963,
          45.421106,
          43.835765,
          43.7543263,
          42.9746137,
          49.889326,
          43.466874,
          43.590338,
          49.2608724,
          52.5001698,
          46.9189808,
          50.000678,
          58.4378352,
          45.421106,
          43.653963,
          59.5000147,
          49.1637594,
          43.653963,
          49.8955367,
          44.230687,
          42.8100954,
          43.590338,
          49.157677,
          53.535411,
          45.5086157,
          43.854336,
          49.523345750000004,
          45.421106,
          51.0534234,
          43.99973,
          43.653963,
          43.854336,
          53.535411,
          50.3818371,
          50.04303,
          43.653963,
          53.535411,
          45.421106,
          43.6,
          53.535411,
          42.317099,
          51.0534234,
          49.246293,
          48.477473,
          45.60558895,
          47.51822475,
          53.535411,
          43.671459150000004,
          50.4964465,
          43.653963,
          45.5088774,
          43.3248924,
          49.2433804,
          51.8970328,
          45.1275604,
          43.447436,
          43.6534817,
          43.590338,
          61.0666922,
          42.8544957,
          49.1637594,
          44.6799707,
          61.0666922,
          43.590338,
          43.653963,
          42.317099,
          43.653963,
          43.453168,
          48.4283182,
          50.44876,
          43.653963,
          43.590338,
          49.2608724,
          50.000678,
          43.466874,
          55.001251,
          43.590338,
          43.653963,
          53.535411,
          49.1913033,
          43.653963,
          42.9836747,
          49.2608724,
          44.0310471,
          43.653963,
          43.653963,
          49.5107477,
          43.466874,
          49.889326,
          51.4662795,
          45.2159633,
          43.7941544,
          43.590338,
          45.421106,
          43.590338,
          50.6758269,
          53.535411,
          49.1913033,
          44.648618,
          48.1649405,
          43.653963,
          45.4529194,
          45.3056879,
          43.453168,
          49.2433804,
          49.106471850000005,
          45.421106,
          45.9914512,
          61.0666922,
          43.590338,
          50.44876,
          44.7303901,
          43.653963,
          50.000678,
          48.154177,
          49.2608724,
          43.653963,
          43.590338,
          43.7941544,
          43.653963,
          51.0534234,
          43.99973,
          43.653963,
          43.653963,
          44.1633264,
          49.2207623,
          53.535411,
          51.0534234,
          43.466874,
          51.0534234,
          43.590338,
          45.421106,
          43.653963,
          44.3893113,
          53.535411,
          44.1776378,
          50.000678,
          51.0534234,
          49.2608724
         ],
         "locationmode": "country names",
         "lon": [
          -80.494423,
          -77.6066366,
          -79.7599337,
          -97.1384584,
          -66.645813,
          -79.645729,
          -79.387207,
          -113.507996,
          -81.2496068,
          -123.1139529,
          -123.137414,
          -79.645729,
          -122.1397346,
          -79.645729,
          -80.384281,
          -125.70255696124094,
          -100.020905,
          -79.5268023,
          -79.387207,
          -102.0763357,
          -81.06853818206032,
          -79.869157,
          -122.9555509,
          -114.6394148,
          -81.06853818206032,
          -75.690308,
          -55.059357,
          -114.0625892,
          -75.7639408,
          -110.6639823,
          -85.9546011,
          -79.387207,
          -80.524635,
          -79.326782,
          -83.0353434,
          -80.494423,
          -85.9546011,
          -63.5859487,
          -106.660767,
          -79.257774,
          -71.2352226,
          -80.494423,
          -75.690308,
          -113.8513211,
          -82.9183594,
          -115.6515975137172,
          -75.690308,
          -123.137414,
          -105.2091139,
          -79.461708,
          -123.1139529,
          -113.507996,
          -113.9502919,
          -75.690308,
          -85.9546011,
          -79.645729,
          -122.8491439,
          -79.326782,
          -104.183333,
          -79.387207,
          -114.0625892,
          -97.1384584,
          -79.7966835,
          -79.666672,
          -81.543365,
          -114.3464942,
          -114.0625892,
          -122.8491439,
          -119.1397789,
          -109.1548985,
          -65.5104239,
          -81.06853818206032,
          -73.6103642,
          -73.5704589,
          -79.387207,
          -75.690308,
          -68.529968,
          -114.0625892,
          -114.8858477,
          -127.1760991,
          -80.524635,
          -83.0353434,
          -111.3885221,
          -79.8728583,
          -79.257774,
          -73.3391798,
          -83.0353434,
          -130.32549,
          -85.9546011,
          -79.7966835,
          -106.660767,
          -66.058044,
          -86.000977,
          -79.645729,
          -107.9917071,
          -79.645729,
          -122.3294792,
          -119.498291,
          -79.882817,
          -77.6066366,
          -81.2496068,
          -97.1384584,
          -79.7966835,
          -123.1139529,
          -81.2496068,
          -73.6875187,
          -123.3649533,
          -66.058044,
          -113.3282658,
          -113.507996,
          -79.387207,
          -81.06853818206032,
          -113.507996,
          -123.3649533,
          -79.439392,
          -79.387207,
          -75.690308,
          -79.090576,
          -79.44911696639593,
          -82.4065585,
          -119.498291,
          -80.524635,
          -79.645729,
          -123.1139529,
          5.7480821,
          -64.039147,
          -86.000977,
          -129.9954981,
          -75.690308,
          -79.387207,
          -134.2464954,
          -123.9379719,
          -79.387207,
          -97.1384584,
          -76.481323,
          -80.0728118,
          -79.645729,
          -121.9514307,
          -113.507996,
          -73.5903112,
          -79.326782,
          -123.48384294534686,
          -75.690308,
          -114.0625892,
          -79.467545,
          -79.387207,
          -79.326782,
          -113.507996,
          -101.700617,
          -110.679016,
          -79.387207,
          -113.507996,
          -75.690308,
          -80.557654,
          -113.507996,
          -83.0353434,
          -114.0625892,
          -55.059357,
          -81.330414,
          -73.73441730569056,
          -52.81541665213203,
          -113.507996,
          -79.55249206611668,
          -104.6407957,
          -79.387207,
          -73.6875187,
          -79.7966835,
          -122.9725459,
          -106.060853,
          -66.8269836,
          -79.666672,
          -79.3839347,
          -79.645729,
          -107.9917071,
          -80.4983709,
          -123.9379719,
          -63.5720232,
          -107.9917071,
          -79.645729,
          -79.387207,
          -83.0353434,
          -79.387207,
          -80.494423,
          -123.3649533,
          -104.61731,
          -79.387207,
          -79.645729,
          -123.1139529,
          -86.000977,
          -80.524635,
          -115.002136,
          -79.645729,
          -79.387207,
          -113.507996,
          -122.8491439,
          -79.387207,
          -81.2496068,
          -123.1139529,
          -78.949678,
          -79.387207,
          -79.387207,
          -115.7672772,
          -80.524635,
          -119.498291,
          -112.7046642,
          -72.5102422,
          -79.5268023,
          -79.645729,
          -75.690308,
          -79.645729,
          -120.3394159,
          -113.507996,
          -122.8491439,
          -63.5859487,
          -64.9799033,
          -79.387207,
          -73.8647559,
          -73.2533401,
          -80.494423,
          -122.9725459,
          -122.5501311568147,
          -75.690308,
          -67.2410679,
          -107.9917071,
          -79.645729,
          -104.61731,
          -63.6582365,
          -79.387207,
          -86.000977,
          -80.031281,
          -123.1139529,
          -79.387207,
          -79.645729,
          -79.5268023,
          -79.387207,
          -114.0625892,
          -79.467545,
          -79.387207,
          -79.387207,
          -77.3852556,
          -122.6901534,
          -113.507996,
          -114.0625892,
          -80.524635,
          -114.0625892,
          -79.645729,
          -75.690308,
          -79.387207,
          -79.6901736,
          -113.507996,
          -81.6348713,
          -86.000977,
          -114.0625892,
          -123.1139529
         ],
         "marker": {
          "color": [
           5,
           2,
           1,
           4,
           1,
           17,
           26,
           13,
           4,
           8,
           2,
           17,
           1,
           17,
           1,
           1,
           1,
           3,
           26,
           1,
           4,
           1,
           1,
           1,
           4,
           11,
           2,
           10,
           1,
           1,
           4,
           26,
           6,
           4,
           5,
           5,
           4,
           2,
           2,
           2,
           1,
           5,
           11,
           1,
           1,
           1,
           11,
           2,
           1,
           1,
           8,
           13,
           1,
           1,
           4,
           17,
           4,
           4,
           1,
           26,
           10,
           4,
           4,
           2,
           1,
           1,
           10,
           4,
           1,
           1,
           1,
           4,
           1,
           1,
           26,
           11,
           1,
           10,
           1,
           1,
           6,
           5,
           1,
           1,
           2,
           1,
           5,
           1,
           4,
           4,
           2,
           2,
           4,
           17,
           4,
           17,
           1,
           3,
           1,
           2,
           4,
           4,
           4,
           8,
           4,
           2,
           3,
           2,
           1,
           13,
           26,
           4,
           13,
           3,
           1,
           26,
           11,
           1,
           1,
           1,
           3,
           6,
           17,
           8,
           1,
           1,
           4,
           1,
           11,
           26,
           1,
           2,
           26,
           4,
           1,
           1,
           17,
           1,
           13,
           1,
           4,
           1,
           11,
           10,
           2,
           26,
           4,
           13,
           1,
           1,
           26,
           13,
           11,
           1,
           13,
           5,
           10,
           2,
           1,
           1,
           1,
           13,
           1,
           1,
           26,
           2,
           4,
           2,
           1,
           1,
           2,
           1,
           17,
           4,
           1,
           2,
           1,
           4,
           17,
           26,
           5,
           26,
           5,
           3,
           2,
           26,
           17,
           8,
           4,
           6,
           1,
           17,
           26,
           13,
           4,
           26,
           4,
           8,
           1,
           26,
           26,
           1,
           6,
           3,
           1,
           1,
           3,
           17,
           11,
           17,
           1,
           13,
           4,
           2,
           1,
           26,
           1,
           1,
           5,
           2,
           1,
           11,
           1,
           4,
           17,
           2,
           1,
           26,
           1,
           1,
           8,
           26,
           17,
           3,
           26,
           10,
           2,
           26,
           26,
           1,
           1,
           13,
           10,
           6,
           10,
           17,
           11,
           26,
           1,
           13,
           1,
           4,
           10,
           8
          ],
          "colorbar": {
           "tickmode": "array",
           "title": {
            "side": "top",
            "text": "Job_Count"
           }
          },
          "colorscale": [
           [
            0,
            "#440154"
           ],
           [
            0.1111111111111111,
            "#482878"
           ],
           [
            0.2222222222222222,
            "#3e4989"
           ],
           [
            0.3333333333333333,
            "#31688e"
           ],
           [
            0.4444444444444444,
            "#26828e"
           ],
           [
            0.5555555555555556,
            "#1f9e89"
           ],
           [
            0.6666666666666666,
            "#35b779"
           ],
           [
            0.7777777777777778,
            "#6ece58"
           ],
           [
            0.8888888888888888,
            "#b5de2b"
           ],
           [
            1,
            "#fde725"
           ]
          ],
          "size": [
           15,
           6,
           3,
           12,
           3,
           51,
           78,
           39,
           12,
           24,
           6,
           51,
           3,
           51,
           3,
           3,
           3,
           9,
           78,
           3,
           12,
           3,
           3,
           3,
           12,
           33,
           6,
           30,
           3,
           3,
           12,
           78,
           18,
           12,
           15,
           15,
           12,
           6,
           6,
           6,
           3,
           15,
           33,
           3,
           3,
           3,
           33,
           6,
           3,
           3,
           24,
           39,
           3,
           3,
           12,
           51,
           12,
           12,
           3,
           78,
           30,
           12,
           12,
           6,
           3,
           3,
           30,
           12,
           3,
           3,
           3,
           12,
           3,
           3,
           78,
           33,
           3,
           30,
           3,
           3,
           18,
           15,
           3,
           3,
           6,
           3,
           15,
           3,
           12,
           12,
           6,
           6,
           12,
           51,
           12,
           51,
           3,
           9,
           3,
           6,
           12,
           12,
           12,
           24,
           12,
           6,
           9,
           6,
           3,
           39,
           78,
           12,
           39,
           9,
           3,
           78,
           33,
           3,
           3,
           3,
           9,
           18,
           51,
           24,
           3,
           3,
           12,
           3,
           33,
           78,
           3,
           6,
           78,
           12,
           3,
           3,
           51,
           3,
           39,
           3,
           12,
           3,
           33,
           30,
           6,
           78,
           12,
           39,
           3,
           3,
           78,
           39,
           33,
           3,
           39,
           15,
           30,
           6,
           3,
           3,
           3,
           39,
           3,
           3,
           78,
           6,
           12,
           6,
           3,
           3,
           6,
           3,
           51,
           12,
           3,
           6,
           3,
           12,
           51,
           78,
           15,
           78,
           15,
           9,
           6,
           78,
           51,
           24,
           12,
           18,
           3,
           51,
           78,
           39,
           12,
           78,
           12,
           24,
           3,
           78,
           78,
           3,
           18,
           9,
           3,
           3,
           9,
           51,
           33,
           51,
           3,
           39,
           12,
           6,
           3,
           78,
           3,
           3,
           15,
           6,
           3,
           33,
           3,
           12,
           51,
           6,
           3,
           78,
           3,
           3,
           24,
           78,
           51,
           9,
           78,
           30,
           6,
           78,
           78,
           3,
           3,
           39,
           30,
           18,
           30,
           51,
           33,
           78,
           3,
           39,
           3,
           12,
           30,
           24
          ]
         },
         "mode": "markers",
         "text": [
          "kitchener, on, 5",
          "chalk river, on, 2",
          "brampton, on, 1",
          "winnipeg, mb, 4",
          "fredericton, nb, 1",
          "mississauga, on, 17",
          "toronto, on, 26",
          "edmonton, ab, 13",
          "london, on, 4",
          "vancouver, bc, 8",
          "richmond, bc, 2",
          "mississauga, on, 17",
          "williams lake, bc, 1",
          "mississauga, on, 17",
          "paris, on, 1",
          "vancouver island, bc, 1",
          "snow lake, mb, 1",
          "vaughan, on, 3",
          "toronto, on, 26",
          "esterhazy, sk, 1",
          "greater sudbury, on, 4",
          "alliston, on, 1",
          "metro vancouver regional district, bc, 1",
          "sundre, ab, 1",
          "greater sudbury, on, 4",
          "ottawa, on, 11",
          "lewisporte, nl, 2",
          "calgary, ab, 10",
          "nepean, on, 1",
          "wainwright, ab, 1",
          "cambridge, on, 4",
          "toronto, on, 26",
          "waterloo, on, 6",
          "markham, on, 4",
          "windsor, on, 5",
          "kitchener, on, 5",
          "cambridge, on, 4",
          "halifax, ns, 2",
          "saskatoon, sk, 2",
          "scarborough, on, 2",
          "quebec city, qc, 1",
          "kitchener, on, 5",
          "ottawa, on, 11",
          "westlock, ab, 1",
          "harrow, on, 1",
          "whitecourt, ab, 1",
          "ottawa, on, 11",
          "richmond, bc, 2",
          "bethune, sk, 1",
          "newmarket, on, 1",
          "vancouver, bc, 8",
          "edmonton, ab, 13",
          "pincher creek, ab, 1",
          "ottawa west, on, 1",
          "cambridge, on, 4",
          "mississauga, on, 17",
          "surrey, bc, 4",
          "markham, on, 4",
          "wynyard, sk, 1",
          "toronto, on, 26",
          "calgary, ab, 10",
          "winnipeg, mb, 4",
          "burlington, on, 4",
          "oakville, on, 2",
          "tiverton, on, 1",
          "duffield, ab, 1",
          "calgary, ab, 10",
          "surrey, bc, 4",
          "enderby, bc, 1",
          "unity, sk, 1",
          "sussex, nb, 1",
          "greater sudbury, on, 4",
          "montreal, qc, 1",
          "saint-constant, qc, 1",
          "toronto, on, 26",
          "ottawa, on, 11",
          "rimouski, qc, 1",
          "calgary, ab, 10",
          "sparwood, bc, 1",
          "smithers, bc, 1",
          "waterloo, on, 6",
          "windsor, on, 5",
          "fort mcmurray, ab, 1",
          "hamilton, on, 1",
          "scarborough, on, 2",
          "saint-bruno-de-montarville, qc, 1",
          "windsor, on, 5",
          "prince rupert, bc, 1",
          "cambridge, on, 4",
          "burlington, on, 4",
          "saskatoon, sk, 2",
          "saint john, nb, 2",
          "on, 4",
          "mississauga, on, 17",
          "canada, 4",
          "mississauga, on, 17",
          "abbotsford, bc, 1",
          "kelowna, bc, 3",
          "milton, on, 1",
          "chalk river, on, 2",
          "london, on, 4",
          "winnipeg, mb, 4",
          "burlington, on, 4",
          "vancouver, bc, 8",
          "london, on, 4",
          "saint-laurent, qc, 2",
          "victoria, bc, 3",
          "saint john, nb, 2",
          "gibbons, ab, 1",
          "edmonton, ab, 13",
          "toronto, on, 26",
          "greater sudbury, on, 4",
          "edmonton, ab, 13",
          "victoria, bc, 3",
          "richmond hill, on, 1",
          "toronto, on, 26",
          "ottawa, on, 11",
          "pickering, on, 1",
          "north york, on, 1",
          "sarnia, on, 1",
          "kelowna, bc, 3",
          "waterloo, on, 6",
          "mississauga, on, 17",
          "vancouver, bc, 8",
          "nl, 1",
          "tignish, pe, 1",
          "on, 4",
          "dease lake, bc, 1",
          "ottawa, on, 11",
          "toronto, on, 26",
          "engineer, bc, 1",
          "nanaimo, bc, 2",
          "toronto, on, 26",
          "winnipeg, mb, 4",
          "kingston, on, 1",
          "nanticoke, on, 1",
          "mississauga, on, 17",
          "chilliwack, bc, 1",
          "edmonton, ab, 13",
          "mont-royal, qc, 1",
          "markham, on, 4",
          "howe sound, bc, 1",
          "ottawa, on, 11",
          "calgary, ab, 10",
          "aurora, on, 2",
          "toronto, on, 26",
          "markham, on, 4",
          "edmonton, ab, 13",
          "rocanville, sk, 1",
          "medicine hat, ab, 1",
          "toronto, on, 26",
          "edmonton, ab, 13",
          "ottawa, on, 11",
          "elmira, on, 1",
          "edmonton, ab, 13",
          "windsor, on, 5",
          "calgary, ab, 10",
          "lewisporte, nl, 2",
          "timmins, on, 1",
          "laval, qc, 1",
          "mount pearl, nl, 1",
          "edmonton, ab, 13",
          "etobicoke, on, 1",
          "englewood, sk, 1",
          "toronto, on, 26",
          "saint-laurent, qc, 2",
          "burlington, on, 4",
          "burnaby, bc, 2",
          "allan, sk, 1",
          "st. george, nb, 1",
          "oakville, on, 2",
          "toronto, 1",
          "mississauga, on, 17",
          "canada, 4",
          "delhi, on, 1",
          "nanaimo, bc, 2",
          "dartmouth, ns, 1",
          "canada, 4",
          "mississauga, on, 17",
          "toronto, on, 26",
          "windsor, on, 5",
          "toronto, on, 26",
          "kitchener, on, 5",
          "victoria, bc, 3",
          "regina, sk, 2",
          "toronto, on, 26",
          "mississauga, on, 17",
          "vancouver, bc, 8",
          "on, 4",
          "waterloo, on, 6",
          "ab, 1",
          "mississauga, on, 17",
          "toronto, on, 26",
          "edmonton, ab, 13",
          "surrey, bc, 4",
          "toronto, on, 26",
          "london, on, 4",
          "vancouver, bc, 8",
          "durham region, on, 1",
          "toronto, on, 26",
          "toronto, on, 26",
          "cranbrook, bc, 1",
          "waterloo, on, 6",
          "kelowna, bc, 3",
          "drumheller, ab, 1",
          "knowlton, qc, 1",
          "vaughan, on, 3",
          "mississauga, on, 17",
          "ottawa, on, 11",
          "mississauga, on, 17",
          "kamloops, bc, 1",
          "edmonton, ab, 13",
          "surrey, bc, 4",
          "halifax, ns, 2",
          "port-daniel--gascons, qc, 1",
          "toronto, on, 26",
          "kirkland, qc, 1",
          "saint-jean-sur-richelieu, qc, 1",
          "kitchener, on, 5",
          "burnaby, bc, 2",
          "langley, bc, 1",
          "ottawa, on, 11",
          "nackawic, nb, 1",
          "canada, 4",
          "mississauga, on, 17",
          "regina, sk, 2",
          "bedford, ns, 1",
          "toronto, on, 26",
          "kanata, on, 1",
          "kirkland lake, on, 1",
          "vancouver, bc, 8",
          "toronto, on, 26",
          "mississauga, on, 17",
          "vaughan, on, 3",
          "toronto, on, 26",
          "calgary, ab, 10",
          "aurora, on, 2",
          "toronto, on, 26",
          "toronto, on, 26",
          "belleville, on, 1",
          "pitt meadows, bc, 1",
          "edmonton, ab, 13",
          "calgary, ab, 10",
          "waterloo, on, 6",
          "calgary, ab, 10",
          "mississauga, on, 17",
          "ottawa, on, 11",
          "toronto, on, 26",
          "barrie, on, 1",
          "edmonton, ab, 13",
          "kincardine, on, 1",
          "on, 4",
          "calgary, ab, 10",
          "vancouver, bc, 8"
         ],
         "type": "scattergeo"
        }
       ],
       "layout": {
        "autosize": true,
        "geo": {
         "countrycolor": "rgb(217, 217, 217)",
         "countrywidth": 0.5,
         "landcolor": "rgb(250, 250, 250)",
         "projection": {
          "type": "equirectangular"
         },
         "scope": "north america",
         "showland": true,
         "subunitcolor": "rgb(217, 217, 217)",
         "subunitwidth": 0.5
        },
        "template": {
         "data": {
          "bar": [
           {
            "error_x": {
             "color": "#2a3f5f"
            },
            "error_y": {
             "color": "#2a3f5f"
            },
            "marker": {
             "line": {
              "color": "#E5ECF6",
              "width": 0.5
             }
            },
            "type": "bar"
           }
          ],
          "barpolar": [
           {
            "marker": {
             "line": {
              "color": "#E5ECF6",
              "width": 0.5
             }
            },
            "type": "barpolar"
           }
          ],
          "carpet": [
           {
            "aaxis": {
             "endlinecolor": "#2a3f5f",
             "gridcolor": "white",
             "linecolor": "white",
             "minorgridcolor": "white",
             "startlinecolor": "#2a3f5f"
            },
            "baxis": {
             "endlinecolor": "#2a3f5f",
             "gridcolor": "white",
             "linecolor": "white",
             "minorgridcolor": "white",
             "startlinecolor": "#2a3f5f"
            },
            "type": "carpet"
           }
          ],
          "choropleth": [
           {
            "colorbar": {
             "outlinewidth": 0,
             "ticks": ""
            },
            "type": "choropleth"
           }
          ],
          "contour": [
           {
            "colorbar": {
             "outlinewidth": 0,
             "ticks": ""
            },
            "colorscale": [
             [
              0,
              "#0d0887"
             ],
             [
              0.1111111111111111,
              "#46039f"
             ],
             [
              0.2222222222222222,
              "#7201a8"
             ],
             [
              0.3333333333333333,
              "#9c179e"
             ],
             [
              0.4444444444444444,
              "#bd3786"
             ],
             [
              0.5555555555555556,
              "#d8576b"
             ],
             [
              0.6666666666666666,
              "#ed7953"
             ],
             [
              0.7777777777777778,
              "#fb9f3a"
             ],
             [
              0.8888888888888888,
              "#fdca26"
             ],
             [
              1,
              "#f0f921"
             ]
            ],
            "type": "contour"
           }
          ],
          "contourcarpet": [
           {
            "colorbar": {
             "outlinewidth": 0,
             "ticks": ""
            },
            "type": "contourcarpet"
           }
          ],
          "heatmap": [
           {
            "colorbar": {
             "outlinewidth": 0,
             "ticks": ""
            },
            "colorscale": [
             [
              0,
              "#0d0887"
             ],
             [
              0.1111111111111111,
              "#46039f"
             ],
             [
              0.2222222222222222,
              "#7201a8"
             ],
             [
              0.3333333333333333,
              "#9c179e"
             ],
             [
              0.4444444444444444,
              "#bd3786"
             ],
             [
              0.5555555555555556,
              "#d8576b"
             ],
             [
              0.6666666666666666,
              "#ed7953"
             ],
             [
              0.7777777777777778,
              "#fb9f3a"
             ],
             [
              0.8888888888888888,
              "#fdca26"
             ],
             [
              1,
              "#f0f921"
             ]
            ],
            "type": "heatmap"
           }
          ],
          "heatmapgl": [
           {
            "colorbar": {
             "outlinewidth": 0,
             "ticks": ""
            },
            "colorscale": [
             [
              0,
              "#0d0887"
             ],
             [
              0.1111111111111111,
              "#46039f"
             ],
             [
              0.2222222222222222,
              "#7201a8"
             ],
             [
              0.3333333333333333,
              "#9c179e"
             ],
             [
              0.4444444444444444,
              "#bd3786"
             ],
             [
              0.5555555555555556,
              "#d8576b"
             ],
             [
              0.6666666666666666,
              "#ed7953"
             ],
             [
              0.7777777777777778,
              "#fb9f3a"
             ],
             [
              0.8888888888888888,
              "#fdca26"
             ],
             [
              1,
              "#f0f921"
             ]
            ],
            "type": "heatmapgl"
           }
          ],
          "histogram": [
           {
            "marker": {
             "colorbar": {
              "outlinewidth": 0,
              "ticks": ""
             }
            },
            "type": "histogram"
           }
          ],
          "histogram2d": [
           {
            "colorbar": {
             "outlinewidth": 0,
             "ticks": ""
            },
            "colorscale": [
             [
              0,
              "#0d0887"
             ],
             [
              0.1111111111111111,
              "#46039f"
             ],
             [
              0.2222222222222222,
              "#7201a8"
             ],
             [
              0.3333333333333333,
              "#9c179e"
             ],
             [
              0.4444444444444444,
              "#bd3786"
             ],
             [
              0.5555555555555556,
              "#d8576b"
             ],
             [
              0.6666666666666666,
              "#ed7953"
             ],
             [
              0.7777777777777778,
              "#fb9f3a"
             ],
             [
              0.8888888888888888,
              "#fdca26"
             ],
             [
              1,
              "#f0f921"
             ]
            ],
            "type": "histogram2d"
           }
          ],
          "histogram2dcontour": [
           {
            "colorbar": {
             "outlinewidth": 0,
             "ticks": ""
            },
            "colorscale": [
             [
              0,
              "#0d0887"
             ],
             [
              0.1111111111111111,
              "#46039f"
             ],
             [
              0.2222222222222222,
              "#7201a8"
             ],
             [
              0.3333333333333333,
              "#9c179e"
             ],
             [
              0.4444444444444444,
              "#bd3786"
             ],
             [
              0.5555555555555556,
              "#d8576b"
             ],
             [
              0.6666666666666666,
              "#ed7953"
             ],
             [
              0.7777777777777778,
              "#fb9f3a"
             ],
             [
              0.8888888888888888,
              "#fdca26"
             ],
             [
              1,
              "#f0f921"
             ]
            ],
            "type": "histogram2dcontour"
           }
          ],
          "mesh3d": [
           {
            "colorbar": {
             "outlinewidth": 0,
             "ticks": ""
            },
            "type": "mesh3d"
           }
          ],
          "parcoords": [
           {
            "line": {
             "colorbar": {
              "outlinewidth": 0,
              "ticks": ""
             }
            },
            "type": "parcoords"
           }
          ],
          "pie": [
           {
            "automargin": true,
            "type": "pie"
           }
          ],
          "scatter": [
           {
            "marker": {
             "colorbar": {
              "outlinewidth": 0,
              "ticks": ""
             }
            },
            "type": "scatter"
           }
          ],
          "scatter3d": [
           {
            "line": {
             "colorbar": {
              "outlinewidth": 0,
              "ticks": ""
             }
            },
            "marker": {
             "colorbar": {
              "outlinewidth": 0,
              "ticks": ""
             }
            },
            "type": "scatter3d"
           }
          ],
          "scattercarpet": [
           {
            "marker": {
             "colorbar": {
              "outlinewidth": 0,
              "ticks": ""
             }
            },
            "type": "scattercarpet"
           }
          ],
          "scattergeo": [
           {
            "marker": {
             "colorbar": {
              "outlinewidth": 0,
              "ticks": ""
             }
            },
            "type": "scattergeo"
           }
          ],
          "scattergl": [
           {
            "marker": {
             "colorbar": {
              "outlinewidth": 0,
              "ticks": ""
             }
            },
            "type": "scattergl"
           }
          ],
          "scattermapbox": [
           {
            "marker": {
             "colorbar": {
              "outlinewidth": 0,
              "ticks": ""
             }
            },
            "type": "scattermapbox"
           }
          ],
          "scatterpolar": [
           {
            "marker": {
             "colorbar": {
              "outlinewidth": 0,
              "ticks": ""
             }
            },
            "type": "scatterpolar"
           }
          ],
          "scatterpolargl": [
           {
            "marker": {
             "colorbar": {
              "outlinewidth": 0,
              "ticks": ""
             }
            },
            "type": "scatterpolargl"
           }
          ],
          "scatterternary": [
           {
            "marker": {
             "colorbar": {
              "outlinewidth": 0,
              "ticks": ""
             }
            },
            "type": "scatterternary"
           }
          ],
          "surface": [
           {
            "colorbar": {
             "outlinewidth": 0,
             "ticks": ""
            },
            "colorscale": [
             [
              0,
              "#0d0887"
             ],
             [
              0.1111111111111111,
              "#46039f"
             ],
             [
              0.2222222222222222,
              "#7201a8"
             ],
             [
              0.3333333333333333,
              "#9c179e"
             ],
             [
              0.4444444444444444,
              "#bd3786"
             ],
             [
              0.5555555555555556,
              "#d8576b"
             ],
             [
              0.6666666666666666,
              "#ed7953"
             ],
             [
              0.7777777777777778,
              "#fb9f3a"
             ],
             [
              0.8888888888888888,
              "#fdca26"
             ],
             [
              1,
              "#f0f921"
             ]
            ],
            "type": "surface"
           }
          ],
          "table": [
           {
            "cells": {
             "fill": {
              "color": "#EBF0F8"
             },
             "line": {
              "color": "white"
             }
            },
            "header": {
             "fill": {
              "color": "#C8D4E3"
             },
             "line": {
              "color": "white"
             }
            },
            "type": "table"
           }
          ]
         },
         "layout": {
          "annotationdefaults": {
           "arrowcolor": "#2a3f5f",
           "arrowhead": 0,
           "arrowwidth": 1
          },
          "coloraxis": {
           "colorbar": {
            "outlinewidth": 0,
            "ticks": ""
           }
          },
          "colorscale": {
           "diverging": [
            [
             0,
             "#8e0152"
            ],
            [
             0.1,
             "#c51b7d"
            ],
            [
             0.2,
             "#de77ae"
            ],
            [
             0.3,
             "#f1b6da"
            ],
            [
             0.4,
             "#fde0ef"
            ],
            [
             0.5,
             "#f7f7f7"
            ],
            [
             0.6,
             "#e6f5d0"
            ],
            [
             0.7,
             "#b8e186"
            ],
            [
             0.8,
             "#7fbc41"
            ],
            [
             0.9,
             "#4d9221"
            ],
            [
             1,
             "#276419"
            ]
           ],
           "sequential": [
            [
             0,
             "#0d0887"
            ],
            [
             0.1111111111111111,
             "#46039f"
            ],
            [
             0.2222222222222222,
             "#7201a8"
            ],
            [
             0.3333333333333333,
             "#9c179e"
            ],
            [
             0.4444444444444444,
             "#bd3786"
            ],
            [
             0.5555555555555556,
             "#d8576b"
            ],
            [
             0.6666666666666666,
             "#ed7953"
            ],
            [
             0.7777777777777778,
             "#fb9f3a"
            ],
            [
             0.8888888888888888,
             "#fdca26"
            ],
            [
             1,
             "#f0f921"
            ]
           ],
           "sequentialminus": [
            [
             0,
             "#0d0887"
            ],
            [
             0.1111111111111111,
             "#46039f"
            ],
            [
             0.2222222222222222,
             "#7201a8"
            ],
            [
             0.3333333333333333,
             "#9c179e"
            ],
            [
             0.4444444444444444,
             "#bd3786"
            ],
            [
             0.5555555555555556,
             "#d8576b"
            ],
            [
             0.6666666666666666,
             "#ed7953"
            ],
            [
             0.7777777777777778,
             "#fb9f3a"
            ],
            [
             0.8888888888888888,
             "#fdca26"
            ],
            [
             1,
             "#f0f921"
            ]
           ]
          },
          "colorway": [
           "#636efa",
           "#EF553B",
           "#00cc96",
           "#ab63fa",
           "#FFA15A",
           "#19d3f3",
           "#FF6692",
           "#B6E880",
           "#FF97FF",
           "#FECB52"
          ],
          "font": {
           "color": "#2a3f5f"
          },
          "geo": {
           "bgcolor": "white",
           "lakecolor": "white",
           "landcolor": "#E5ECF6",
           "showlakes": true,
           "showland": true,
           "subunitcolor": "white"
          },
          "hoverlabel": {
           "align": "left"
          },
          "hovermode": "closest",
          "mapbox": {
           "style": "light"
          },
          "paper_bgcolor": "white",
          "plot_bgcolor": "#E5ECF6",
          "polar": {
           "angularaxis": {
            "gridcolor": "white",
            "linecolor": "white",
            "ticks": ""
           },
           "bgcolor": "#E5ECF6",
           "radialaxis": {
            "gridcolor": "white",
            "linecolor": "white",
            "ticks": ""
           }
          },
          "scene": {
           "xaxis": {
            "backgroundcolor": "#E5ECF6",
            "gridcolor": "white",
            "gridwidth": 2,
            "linecolor": "white",
            "showbackground": true,
            "ticks": "",
            "zerolinecolor": "white"
           },
           "yaxis": {
            "backgroundcolor": "#E5ECF6",
            "gridcolor": "white",
            "gridwidth": 2,
            "linecolor": "white",
            "showbackground": true,
            "ticks": "",
            "zerolinecolor": "white"
           },
           "zaxis": {
            "backgroundcolor": "#E5ECF6",
            "gridcolor": "white",
            "gridwidth": 2,
            "linecolor": "white",
            "showbackground": true,
            "ticks": "",
            "zerolinecolor": "white"
           }
          },
          "shapedefaults": {
           "line": {
            "color": "#2a3f5f"
           }
          },
          "ternary": {
           "aaxis": {
            "gridcolor": "white",
            "linecolor": "white",
            "ticks": ""
           },
           "baxis": {
            "gridcolor": "white",
            "linecolor": "white",
            "ticks": ""
           },
           "bgcolor": "#E5ECF6",
           "caxis": {
            "gridcolor": "white",
            "linecolor": "white",
            "ticks": ""
           }
          },
          "title": {
           "x": 0.05
          },
          "xaxis": {
           "automargin": true,
           "gridcolor": "white",
           "linecolor": "white",
           "ticks": "",
           "title": {
            "standoff": 15
           },
           "zerolinecolor": "white",
           "zerolinewidth": 2
          },
          "yaxis": {
           "automargin": true,
           "gridcolor": "white",
           "linecolor": "white",
           "ticks": "",
           "title": {
            "standoff": 15
           },
           "zerolinecolor": "white",
           "zerolinewidth": 2
          }
         }
        },
        "title": {
         "text": "Job locations"
        }
       }
      },
      "text/html": [
       "<div>\n",
       "        \n",
       "        \n",
       "            <div id=\"4fe066b4-84ab-4930-a29e-2537c4e72f77\" class=\"plotly-graph-div\" style=\"height:525px; width:100%;\"></div>\n",
       "            <script type=\"text/javascript\">\n",
       "                require([\"plotly\"], function(Plotly) {\n",
       "                    window.PLOTLYENV=window.PLOTLYENV || {};\n",
       "                    \n",
       "                if (document.getElementById(\"4fe066b4-84ab-4930-a29e-2537c4e72f77\")) {\n",
       "                    Plotly.newPlot(\n",
       "                        '4fe066b4-84ab-4930-a29e-2537c4e72f77',\n",
       "                        [{\"lat\": [43.453168, 46.0811286, 43.6858146, 49.8955367, 45.966425, 43.590338, 43.653963, 53.535411, 42.9836747, 49.2608724, 49.163168, 43.590338, 52.129081, 43.590338, 43.193234, 49.592949450000006, 54.881347, 43.7941544, 43.653963, 50.6536237, 46.581496900000005, 44.1534596, 49.2618661, 51.7971316, 46.581496900000005, 45.421106, 49.246293, 51.0534234, 45.3446891, 52.8236857, 39.3600507, 43.653963, 43.466874, 43.854336, 42.317099, 43.453168, 39.3600507, 44.648618, 52.131802, 43.773077, 46.8259601, 43.453168, 45.421106, 54.2700377, 42.035586, 54.12738935, 45.421106, 49.163168, 50.7149911, 44.056258, 49.2608724, 53.535411, 49.485667, 45.421106, 39.3600507, 43.590338, 49.1913033, 43.854336, 51.766667, 43.653963, 51.0534234, 49.8955367, 43.3248924, 43.447436, 44.267641, 53.5259625, 51.0534234, 49.1913033, 50.5504793, 52.4428508, 45.7234763, 46.581496900000005, 45.4972159, 45.3724897, 43.653963, 45.421106, 48.450155, 51.0534234, 49.7332695, 54.7792074, 43.466874, 42.317099, 56.7291997, 43.2560802, 43.773077, 45.5256161, 42.317099, 54.3126572, 39.3600507, 43.3248924, 52.131802, 45.278752, 50.000678, 43.590338, 61.0666922, 43.590338, 49.0521162, 49.889326, 43.513671, 46.0811286, 42.9836747, 49.8955367, 43.3248924, 49.2608724, 42.9836747, 45.5088774, 48.4283182, 45.278752, 53.8242258, 53.535411, 43.653963, 46.581496900000005, 53.535411, 48.4283182, 43.880078, 43.653963, 45.421106, 43.835765, 43.7543263, 42.9746137, 49.889326, 43.466874, 43.590338, 49.2608724, 52.5001698, 46.9189808, 50.000678, 58.4378352, 45.421106, 43.653963, 59.5000147, 49.1637594, 43.653963, 49.8955367, 44.230687, 42.8100954, 43.590338, 49.157677, 53.535411, 45.5086157, 43.854336, 49.523345750000004, 45.421106, 51.0534234, 43.99973, 43.653963, 43.854336, 53.535411, 50.3818371, 50.04303, 43.653963, 53.535411, 45.421106, 43.6, 53.535411, 42.317099, 51.0534234, 49.246293, 48.477473, 45.60558895, 47.51822475, 53.535411, 43.671459150000004, 50.4964465, 43.653963, 45.5088774, 43.3248924, 49.2433804, 51.8970328, 45.1275604, 43.447436, 43.6534817, 43.590338, 61.0666922, 42.8544957, 49.1637594, 44.6799707, 61.0666922, 43.590338, 43.653963, 42.317099, 43.653963, 43.453168, 48.4283182, 50.44876, 43.653963, 43.590338, 49.2608724, 50.000678, 43.466874, 55.001251, 43.590338, 43.653963, 53.535411, 49.1913033, 43.653963, 42.9836747, 49.2608724, 44.0310471, 43.653963, 43.653963, 49.5107477, 43.466874, 49.889326, 51.4662795, 45.2159633, 43.7941544, 43.590338, 45.421106, 43.590338, 50.6758269, 53.535411, 49.1913033, 44.648618, 48.1649405, 43.653963, 45.4529194, 45.3056879, 43.453168, 49.2433804, 49.106471850000005, 45.421106, 45.9914512, 61.0666922, 43.590338, 50.44876, 44.7303901, 43.653963, 50.000678, 48.154177, 49.2608724, 43.653963, 43.590338, 43.7941544, 43.653963, 51.0534234, 43.99973, 43.653963, 43.653963, 44.1633264, 49.2207623, 53.535411, 51.0534234, 43.466874, 51.0534234, 43.590338, 45.421106, 43.653963, 44.3893113, 53.535411, 44.1776378, 50.000678, 51.0534234, 49.2608724], \"locationmode\": \"country names\", \"lon\": [-80.494423, -77.6066366, -79.7599337, -97.1384584, -66.645813, -79.645729, -79.387207, -113.507996, -81.2496068, -123.1139529, -123.137414, -79.645729, -122.1397346, -79.645729, -80.384281, -125.70255696124094, -100.020905, -79.5268023, -79.387207, -102.0763357, -81.06853818206032, -79.869157, -122.9555509, -114.6394148, -81.06853818206032, -75.690308, -55.059357, -114.0625892, -75.7639408, -110.6639823, -85.9546011, -79.387207, -80.524635, -79.326782, -83.0353434, -80.494423, -85.9546011, -63.5859487, -106.660767, -79.257774, -71.2352226, -80.494423, -75.690308, -113.8513211, -82.9183594, -115.6515975137172, -75.690308, -123.137414, -105.2091139, -79.461708, -123.1139529, -113.507996, -113.9502919, -75.690308, -85.9546011, -79.645729, -122.8491439, -79.326782, -104.183333, -79.387207, -114.0625892, -97.1384584, -79.7966835, -79.666672, -81.543365, -114.3464942, -114.0625892, -122.8491439, -119.1397789, -109.1548985, -65.5104239, -81.06853818206032, -73.6103642, -73.5704589, -79.387207, -75.690308, -68.529968, -114.0625892, -114.8858477, -127.1760991, -80.524635, -83.0353434, -111.3885221, -79.8728583, -79.257774, -73.3391798, -83.0353434, -130.32549, -85.9546011, -79.7966835, -106.660767, -66.058044, -86.000977, -79.645729, -107.9917071, -79.645729, -122.3294792, -119.498291, -79.882817, -77.6066366, -81.2496068, -97.1384584, -79.7966835, -123.1139529, -81.2496068, -73.6875187, -123.3649533, -66.058044, -113.3282658, -113.507996, -79.387207, -81.06853818206032, -113.507996, -123.3649533, -79.439392, -79.387207, -75.690308, -79.090576, -79.44911696639593, -82.4065585, -119.498291, -80.524635, -79.645729, -123.1139529, 5.7480821, -64.039147, -86.000977, -129.9954981, -75.690308, -79.387207, -134.2464954, -123.9379719, -79.387207, -97.1384584, -76.481323, -80.0728118, -79.645729, -121.9514307, -113.507996, -73.5903112, -79.326782, -123.48384294534686, -75.690308, -114.0625892, -79.467545, -79.387207, -79.326782, -113.507996, -101.700617, -110.679016, -79.387207, -113.507996, -75.690308, -80.557654, -113.507996, -83.0353434, -114.0625892, -55.059357, -81.330414, -73.73441730569056, -52.81541665213203, -113.507996, -79.55249206611668, -104.6407957, -79.387207, -73.6875187, -79.7966835, -122.9725459, -106.060853, -66.8269836, -79.666672, -79.3839347, -79.645729, -107.9917071, -80.4983709, -123.9379719, -63.5720232, -107.9917071, -79.645729, -79.387207, -83.0353434, -79.387207, -80.494423, -123.3649533, -104.61731, -79.387207, -79.645729, -123.1139529, -86.000977, -80.524635, -115.002136, -79.645729, -79.387207, -113.507996, -122.8491439, -79.387207, -81.2496068, -123.1139529, -78.949678, -79.387207, -79.387207, -115.7672772, -80.524635, -119.498291, -112.7046642, -72.5102422, -79.5268023, -79.645729, -75.690308, -79.645729, -120.3394159, -113.507996, -122.8491439, -63.5859487, -64.9799033, -79.387207, -73.8647559, -73.2533401, -80.494423, -122.9725459, -122.5501311568147, -75.690308, -67.2410679, -107.9917071, -79.645729, -104.61731, -63.6582365, -79.387207, -86.000977, -80.031281, -123.1139529, -79.387207, -79.645729, -79.5268023, -79.387207, -114.0625892, -79.467545, -79.387207, -79.387207, -77.3852556, -122.6901534, -113.507996, -114.0625892, -80.524635, -114.0625892, -79.645729, -75.690308, -79.387207, -79.6901736, -113.507996, -81.6348713, -86.000977, -114.0625892, -123.1139529], \"marker\": {\"color\": [5, 2, 1, 4, 1, 17, 26, 13, 4, 8, 2, 17, 1, 17, 1, 1, 1, 3, 26, 1, 4, 1, 1, 1, 4, 11, 2, 10, 1, 1, 4, 26, 6, 4, 5, 5, 4, 2, 2, 2, 1, 5, 11, 1, 1, 1, 11, 2, 1, 1, 8, 13, 1, 1, 4, 17, 4, 4, 1, 26, 10, 4, 4, 2, 1, 1, 10, 4, 1, 1, 1, 4, 1, 1, 26, 11, 1, 10, 1, 1, 6, 5, 1, 1, 2, 1, 5, 1, 4, 4, 2, 2, 4, 17, 4, 17, 1, 3, 1, 2, 4, 4, 4, 8, 4, 2, 3, 2, 1, 13, 26, 4, 13, 3, 1, 26, 11, 1, 1, 1, 3, 6, 17, 8, 1, 1, 4, 1, 11, 26, 1, 2, 26, 4, 1, 1, 17, 1, 13, 1, 4, 1, 11, 10, 2, 26, 4, 13, 1, 1, 26, 13, 11, 1, 13, 5, 10, 2, 1, 1, 1, 13, 1, 1, 26, 2, 4, 2, 1, 1, 2, 1, 17, 4, 1, 2, 1, 4, 17, 26, 5, 26, 5, 3, 2, 26, 17, 8, 4, 6, 1, 17, 26, 13, 4, 26, 4, 8, 1, 26, 26, 1, 6, 3, 1, 1, 3, 17, 11, 17, 1, 13, 4, 2, 1, 26, 1, 1, 5, 2, 1, 11, 1, 4, 17, 2, 1, 26, 1, 1, 8, 26, 17, 3, 26, 10, 2, 26, 26, 1, 1, 13, 10, 6, 10, 17, 11, 26, 1, 13, 1, 4, 10, 8], \"colorbar\": {\"tickmode\": \"array\", \"title\": {\"side\": \"top\", \"text\": \"Job_Count\"}}, \"colorscale\": [[0.0, \"#440154\"], [0.1111111111111111, \"#482878\"], [0.2222222222222222, \"#3e4989\"], [0.3333333333333333, \"#31688e\"], [0.4444444444444444, \"#26828e\"], [0.5555555555555556, \"#1f9e89\"], [0.6666666666666666, \"#35b779\"], [0.7777777777777778, \"#6ece58\"], [0.8888888888888888, \"#b5de2b\"], [1.0, \"#fde725\"]], \"size\": [15, 6, 3, 12, 3, 51, 78, 39, 12, 24, 6, 51, 3, 51, 3, 3, 3, 9, 78, 3, 12, 3, 3, 3, 12, 33, 6, 30, 3, 3, 12, 78, 18, 12, 15, 15, 12, 6, 6, 6, 3, 15, 33, 3, 3, 3, 33, 6, 3, 3, 24, 39, 3, 3, 12, 51, 12, 12, 3, 78, 30, 12, 12, 6, 3, 3, 30, 12, 3, 3, 3, 12, 3, 3, 78, 33, 3, 30, 3, 3, 18, 15, 3, 3, 6, 3, 15, 3, 12, 12, 6, 6, 12, 51, 12, 51, 3, 9, 3, 6, 12, 12, 12, 24, 12, 6, 9, 6, 3, 39, 78, 12, 39, 9, 3, 78, 33, 3, 3, 3, 9, 18, 51, 24, 3, 3, 12, 3, 33, 78, 3, 6, 78, 12, 3, 3, 51, 3, 39, 3, 12, 3, 33, 30, 6, 78, 12, 39, 3, 3, 78, 39, 33, 3, 39, 15, 30, 6, 3, 3, 3, 39, 3, 3, 78, 6, 12, 6, 3, 3, 6, 3, 51, 12, 3, 6, 3, 12, 51, 78, 15, 78, 15, 9, 6, 78, 51, 24, 12, 18, 3, 51, 78, 39, 12, 78, 12, 24, 3, 78, 78, 3, 18, 9, 3, 3, 9, 51, 33, 51, 3, 39, 12, 6, 3, 78, 3, 3, 15, 6, 3, 33, 3, 12, 51, 6, 3, 78, 3, 3, 24, 78, 51, 9, 78, 30, 6, 78, 78, 3, 3, 39, 30, 18, 30, 51, 33, 78, 3, 39, 3, 12, 30, 24]}, \"mode\": \"markers\", \"text\": [\"kitchener, on, 5\", \"chalk river, on, 2\", \"brampton, on, 1\", \"winnipeg, mb, 4\", \"fredericton, nb, 1\", \"mississauga, on, 17\", \"toronto, on, 26\", \"edmonton, ab, 13\", \"london, on, 4\", \"vancouver, bc, 8\", \"richmond, bc, 2\", \"mississauga, on, 17\", \"williams lake, bc, 1\", \"mississauga, on, 17\", \"paris, on, 1\", \"vancouver island, bc, 1\", \"snow lake, mb, 1\", \"vaughan, on, 3\", \"toronto, on, 26\", \"esterhazy, sk, 1\", \"greater sudbury, on, 4\", \"alliston, on, 1\", \"metro vancouver regional district, bc, 1\", \"sundre, ab, 1\", \"greater sudbury, on, 4\", \"ottawa, on, 11\", \"lewisporte, nl, 2\", \"calgary, ab, 10\", \"nepean, on, 1\", \"wainwright, ab, 1\", \"cambridge, on, 4\", \"toronto, on, 26\", \"waterloo, on, 6\", \"markham, on, 4\", \"windsor, on, 5\", \"kitchener, on, 5\", \"cambridge, on, 4\", \"halifax, ns, 2\", \"saskatoon, sk, 2\", \"scarborough, on, 2\", \"quebec city, qc, 1\", \"kitchener, on, 5\", \"ottawa, on, 11\", \"westlock, ab, 1\", \"harrow, on, 1\", \"whitecourt, ab, 1\", \"ottawa, on, 11\", \"richmond, bc, 2\", \"bethune, sk, 1\", \"newmarket, on, 1\", \"vancouver, bc, 8\", \"edmonton, ab, 13\", \"pincher creek, ab, 1\", \"ottawa west, on, 1\", \"cambridge, on, 4\", \"mississauga, on, 17\", \"surrey, bc, 4\", \"markham, on, 4\", \"wynyard, sk, 1\", \"toronto, on, 26\", \"calgary, ab, 10\", \"winnipeg, mb, 4\", \"burlington, on, 4\", \"oakville, on, 2\", \"tiverton, on, 1\", \"duffield, ab, 1\", \"calgary, ab, 10\", \"surrey, bc, 4\", \"enderby, bc, 1\", \"unity, sk, 1\", \"sussex, nb, 1\", \"greater sudbury, on, 4\", \"montreal, qc, 1\", \"saint-constant, qc, 1\", \"toronto, on, 26\", \"ottawa, on, 11\", \"rimouski, qc, 1\", \"calgary, ab, 10\", \"sparwood, bc, 1\", \"smithers, bc, 1\", \"waterloo, on, 6\", \"windsor, on, 5\", \"fort mcmurray, ab, 1\", \"hamilton, on, 1\", \"scarborough, on, 2\", \"saint-bruno-de-montarville, qc, 1\", \"windsor, on, 5\", \"prince rupert, bc, 1\", \"cambridge, on, 4\", \"burlington, on, 4\", \"saskatoon, sk, 2\", \"saint john, nb, 2\", \"on, 4\", \"mississauga, on, 17\", \"canada, 4\", \"mississauga, on, 17\", \"abbotsford, bc, 1\", \"kelowna, bc, 3\", \"milton, on, 1\", \"chalk river, on, 2\", \"london, on, 4\", \"winnipeg, mb, 4\", \"burlington, on, 4\", \"vancouver, bc, 8\", \"london, on, 4\", \"saint-laurent, qc, 2\", \"victoria, bc, 3\", \"saint john, nb, 2\", \"gibbons, ab, 1\", \"edmonton, ab, 13\", \"toronto, on, 26\", \"greater sudbury, on, 4\", \"edmonton, ab, 13\", \"victoria, bc, 3\", \"richmond hill, on, 1\", \"toronto, on, 26\", \"ottawa, on, 11\", \"pickering, on, 1\", \"north york, on, 1\", \"sarnia, on, 1\", \"kelowna, bc, 3\", \"waterloo, on, 6\", \"mississauga, on, 17\", \"vancouver, bc, 8\", \"nl, 1\", \"tignish, pe, 1\", \"on, 4\", \"dease lake, bc, 1\", \"ottawa, on, 11\", \"toronto, on, 26\", \"engineer, bc, 1\", \"nanaimo, bc, 2\", \"toronto, on, 26\", \"winnipeg, mb, 4\", \"kingston, on, 1\", \"nanticoke, on, 1\", \"mississauga, on, 17\", \"chilliwack, bc, 1\", \"edmonton, ab, 13\", \"mont-royal, qc, 1\", \"markham, on, 4\", \"howe sound, bc, 1\", \"ottawa, on, 11\", \"calgary, ab, 10\", \"aurora, on, 2\", \"toronto, on, 26\", \"markham, on, 4\", \"edmonton, ab, 13\", \"rocanville, sk, 1\", \"medicine hat, ab, 1\", \"toronto, on, 26\", \"edmonton, ab, 13\", \"ottawa, on, 11\", \"elmira, on, 1\", \"edmonton, ab, 13\", \"windsor, on, 5\", \"calgary, ab, 10\", \"lewisporte, nl, 2\", \"timmins, on, 1\", \"laval, qc, 1\", \"mount pearl, nl, 1\", \"edmonton, ab, 13\", \"etobicoke, on, 1\", \"englewood, sk, 1\", \"toronto, on, 26\", \"saint-laurent, qc, 2\", \"burlington, on, 4\", \"burnaby, bc, 2\", \"allan, sk, 1\", \"st. george, nb, 1\", \"oakville, on, 2\", \"toronto, 1\", \"mississauga, on, 17\", \"canada, 4\", \"delhi, on, 1\", \"nanaimo, bc, 2\", \"dartmouth, ns, 1\", \"canada, 4\", \"mississauga, on, 17\", \"toronto, on, 26\", \"windsor, on, 5\", \"toronto, on, 26\", \"kitchener, on, 5\", \"victoria, bc, 3\", \"regina, sk, 2\", \"toronto, on, 26\", \"mississauga, on, 17\", \"vancouver, bc, 8\", \"on, 4\", \"waterloo, on, 6\", \"ab, 1\", \"mississauga, on, 17\", \"toronto, on, 26\", \"edmonton, ab, 13\", \"surrey, bc, 4\", \"toronto, on, 26\", \"london, on, 4\", \"vancouver, bc, 8\", \"durham region, on, 1\", \"toronto, on, 26\", \"toronto, on, 26\", \"cranbrook, bc, 1\", \"waterloo, on, 6\", \"kelowna, bc, 3\", \"drumheller, ab, 1\", \"knowlton, qc, 1\", \"vaughan, on, 3\", \"mississauga, on, 17\", \"ottawa, on, 11\", \"mississauga, on, 17\", \"kamloops, bc, 1\", \"edmonton, ab, 13\", \"surrey, bc, 4\", \"halifax, ns, 2\", \"port-daniel--gascons, qc, 1\", \"toronto, on, 26\", \"kirkland, qc, 1\", \"saint-jean-sur-richelieu, qc, 1\", \"kitchener, on, 5\", \"burnaby, bc, 2\", \"langley, bc, 1\", \"ottawa, on, 11\", \"nackawic, nb, 1\", \"canada, 4\", \"mississauga, on, 17\", \"regina, sk, 2\", \"bedford, ns, 1\", \"toronto, on, 26\", \"kanata, on, 1\", \"kirkland lake, on, 1\", \"vancouver, bc, 8\", \"toronto, on, 26\", \"mississauga, on, 17\", \"vaughan, on, 3\", \"toronto, on, 26\", \"calgary, ab, 10\", \"aurora, on, 2\", \"toronto, on, 26\", \"toronto, on, 26\", \"belleville, on, 1\", \"pitt meadows, bc, 1\", \"edmonton, ab, 13\", \"calgary, ab, 10\", \"waterloo, on, 6\", \"calgary, ab, 10\", \"mississauga, on, 17\", \"ottawa, on, 11\", \"toronto, on, 26\", \"barrie, on, 1\", \"edmonton, ab, 13\", \"kincardine, on, 1\", \"on, 4\", \"calgary, ab, 10\", \"vancouver, bc, 8\"], \"type\": \"scattergeo\"}],\n",
       "                        {\"autosize\": true, \"geo\": {\"countrycolor\": \"rgb(217, 217, 217)\", \"countrywidth\": 0.5, \"landcolor\": \"rgb(250, 250, 250)\", \"projection\": {\"type\": \"equirectangular\"}, \"scope\": \"north america\", \"showland\": true, \"subunitcolor\": \"rgb(217, 217, 217)\", \"subunitwidth\": 0.5}, \"template\": {\"data\": {\"bar\": [{\"error_x\": {\"color\": \"#2a3f5f\"}, \"error_y\": {\"color\": \"#2a3f5f\"}, \"marker\": {\"line\": {\"color\": \"#E5ECF6\", \"width\": 0.5}}, \"type\": \"bar\"}], \"barpolar\": [{\"marker\": {\"line\": {\"color\": \"#E5ECF6\", \"width\": 0.5}}, \"type\": \"barpolar\"}], \"carpet\": [{\"aaxis\": {\"endlinecolor\": \"#2a3f5f\", \"gridcolor\": \"white\", \"linecolor\": \"white\", \"minorgridcolor\": \"white\", \"startlinecolor\": \"#2a3f5f\"}, \"baxis\": {\"endlinecolor\": \"#2a3f5f\", \"gridcolor\": \"white\", \"linecolor\": \"white\", \"minorgridcolor\": \"white\", \"startlinecolor\": \"#2a3f5f\"}, \"type\": \"carpet\"}], \"choropleth\": [{\"colorbar\": {\"outlinewidth\": 0, \"ticks\": \"\"}, \"type\": \"choropleth\"}], \"contour\": [{\"colorbar\": {\"outlinewidth\": 0, \"ticks\": \"\"}, \"colorscale\": [[0.0, \"#0d0887\"], [0.1111111111111111, \"#46039f\"], [0.2222222222222222, \"#7201a8\"], [0.3333333333333333, \"#9c179e\"], [0.4444444444444444, \"#bd3786\"], [0.5555555555555556, \"#d8576b\"], [0.6666666666666666, \"#ed7953\"], [0.7777777777777778, \"#fb9f3a\"], [0.8888888888888888, \"#fdca26\"], [1.0, \"#f0f921\"]], \"type\": \"contour\"}], \"contourcarpet\": [{\"colorbar\": {\"outlinewidth\": 0, \"ticks\": \"\"}, \"type\": \"contourcarpet\"}], \"heatmap\": [{\"colorbar\": {\"outlinewidth\": 0, \"ticks\": \"\"}, \"colorscale\": [[0.0, \"#0d0887\"], [0.1111111111111111, \"#46039f\"], [0.2222222222222222, \"#7201a8\"], [0.3333333333333333, \"#9c179e\"], [0.4444444444444444, \"#bd3786\"], [0.5555555555555556, \"#d8576b\"], [0.6666666666666666, \"#ed7953\"], [0.7777777777777778, \"#fb9f3a\"], [0.8888888888888888, \"#fdca26\"], [1.0, \"#f0f921\"]], \"type\": \"heatmap\"}], \"heatmapgl\": [{\"colorbar\": {\"outlinewidth\": 0, \"ticks\": \"\"}, \"colorscale\": [[0.0, \"#0d0887\"], [0.1111111111111111, \"#46039f\"], [0.2222222222222222, \"#7201a8\"], [0.3333333333333333, \"#9c179e\"], [0.4444444444444444, \"#bd3786\"], [0.5555555555555556, \"#d8576b\"], [0.6666666666666666, \"#ed7953\"], [0.7777777777777778, \"#fb9f3a\"], [0.8888888888888888, \"#fdca26\"], [1.0, \"#f0f921\"]], \"type\": \"heatmapgl\"}], \"histogram\": [{\"marker\": {\"colorbar\": {\"outlinewidth\": 0, \"ticks\": \"\"}}, \"type\": \"histogram\"}], \"histogram2d\": [{\"colorbar\": {\"outlinewidth\": 0, \"ticks\": \"\"}, \"colorscale\": [[0.0, \"#0d0887\"], [0.1111111111111111, \"#46039f\"], [0.2222222222222222, \"#7201a8\"], [0.3333333333333333, \"#9c179e\"], [0.4444444444444444, \"#bd3786\"], [0.5555555555555556, \"#d8576b\"], [0.6666666666666666, \"#ed7953\"], [0.7777777777777778, \"#fb9f3a\"], [0.8888888888888888, \"#fdca26\"], [1.0, \"#f0f921\"]], \"type\": \"histogram2d\"}], \"histogram2dcontour\": [{\"colorbar\": {\"outlinewidth\": 0, \"ticks\": \"\"}, \"colorscale\": [[0.0, \"#0d0887\"], [0.1111111111111111, \"#46039f\"], [0.2222222222222222, \"#7201a8\"], [0.3333333333333333, \"#9c179e\"], [0.4444444444444444, \"#bd3786\"], [0.5555555555555556, \"#d8576b\"], [0.6666666666666666, \"#ed7953\"], [0.7777777777777778, \"#fb9f3a\"], [0.8888888888888888, \"#fdca26\"], [1.0, \"#f0f921\"]], \"type\": \"histogram2dcontour\"}], \"mesh3d\": [{\"colorbar\": {\"outlinewidth\": 0, \"ticks\": \"\"}, \"type\": \"mesh3d\"}], \"parcoords\": [{\"line\": {\"colorbar\": {\"outlinewidth\": 0, \"ticks\": \"\"}}, \"type\": \"parcoords\"}], \"pie\": [{\"automargin\": true, \"type\": \"pie\"}], \"scatter\": [{\"marker\": {\"colorbar\": {\"outlinewidth\": 0, \"ticks\": \"\"}}, \"type\": \"scatter\"}], \"scatter3d\": [{\"line\": {\"colorbar\": {\"outlinewidth\": 0, \"ticks\": \"\"}}, \"marker\": {\"colorbar\": {\"outlinewidth\": 0, \"ticks\": \"\"}}, \"type\": \"scatter3d\"}], \"scattercarpet\": [{\"marker\": {\"colorbar\": {\"outlinewidth\": 0, \"ticks\": \"\"}}, \"type\": \"scattercarpet\"}], \"scattergeo\": [{\"marker\": {\"colorbar\": {\"outlinewidth\": 0, \"ticks\": \"\"}}, \"type\": \"scattergeo\"}], \"scattergl\": [{\"marker\": {\"colorbar\": {\"outlinewidth\": 0, \"ticks\": \"\"}}, \"type\": \"scattergl\"}], \"scattermapbox\": [{\"marker\": {\"colorbar\": {\"outlinewidth\": 0, \"ticks\": \"\"}}, \"type\": \"scattermapbox\"}], \"scatterpolar\": [{\"marker\": {\"colorbar\": {\"outlinewidth\": 0, \"ticks\": \"\"}}, \"type\": \"scatterpolar\"}], \"scatterpolargl\": [{\"marker\": {\"colorbar\": {\"outlinewidth\": 0, \"ticks\": \"\"}}, \"type\": \"scatterpolargl\"}], \"scatterternary\": [{\"marker\": {\"colorbar\": {\"outlinewidth\": 0, \"ticks\": \"\"}}, \"type\": \"scatterternary\"}], \"surface\": [{\"colorbar\": {\"outlinewidth\": 0, \"ticks\": \"\"}, \"colorscale\": [[0.0, \"#0d0887\"], [0.1111111111111111, \"#46039f\"], [0.2222222222222222, \"#7201a8\"], [0.3333333333333333, \"#9c179e\"], [0.4444444444444444, \"#bd3786\"], [0.5555555555555556, \"#d8576b\"], [0.6666666666666666, \"#ed7953\"], [0.7777777777777778, \"#fb9f3a\"], [0.8888888888888888, \"#fdca26\"], [1.0, \"#f0f921\"]], \"type\": \"surface\"}], \"table\": [{\"cells\": {\"fill\": {\"color\": \"#EBF0F8\"}, \"line\": {\"color\": \"white\"}}, \"header\": {\"fill\": {\"color\": \"#C8D4E3\"}, \"line\": {\"color\": \"white\"}}, \"type\": \"table\"}]}, \"layout\": {\"annotationdefaults\": {\"arrowcolor\": \"#2a3f5f\", \"arrowhead\": 0, \"arrowwidth\": 1}, \"coloraxis\": {\"colorbar\": {\"outlinewidth\": 0, \"ticks\": \"\"}}, \"colorscale\": {\"diverging\": [[0, \"#8e0152\"], [0.1, \"#c51b7d\"], [0.2, \"#de77ae\"], [0.3, \"#f1b6da\"], [0.4, \"#fde0ef\"], [0.5, \"#f7f7f7\"], [0.6, \"#e6f5d0\"], [0.7, \"#b8e186\"], [0.8, \"#7fbc41\"], [0.9, \"#4d9221\"], [1, \"#276419\"]], \"sequential\": [[0.0, \"#0d0887\"], [0.1111111111111111, \"#46039f\"], [0.2222222222222222, \"#7201a8\"], [0.3333333333333333, \"#9c179e\"], [0.4444444444444444, \"#bd3786\"], [0.5555555555555556, \"#d8576b\"], [0.6666666666666666, \"#ed7953\"], [0.7777777777777778, \"#fb9f3a\"], [0.8888888888888888, \"#fdca26\"], [1.0, \"#f0f921\"]], \"sequentialminus\": [[0.0, \"#0d0887\"], [0.1111111111111111, \"#46039f\"], [0.2222222222222222, \"#7201a8\"], [0.3333333333333333, \"#9c179e\"], [0.4444444444444444, \"#bd3786\"], [0.5555555555555556, \"#d8576b\"], [0.6666666666666666, \"#ed7953\"], [0.7777777777777778, \"#fb9f3a\"], [0.8888888888888888, \"#fdca26\"], [1.0, \"#f0f921\"]]}, \"colorway\": [\"#636efa\", \"#EF553B\", \"#00cc96\", \"#ab63fa\", \"#FFA15A\", \"#19d3f3\", \"#FF6692\", \"#B6E880\", \"#FF97FF\", \"#FECB52\"], \"font\": {\"color\": \"#2a3f5f\"}, \"geo\": {\"bgcolor\": \"white\", \"lakecolor\": \"white\", \"landcolor\": \"#E5ECF6\", \"showlakes\": true, \"showland\": true, \"subunitcolor\": \"white\"}, \"hoverlabel\": {\"align\": \"left\"}, \"hovermode\": \"closest\", \"mapbox\": {\"style\": \"light\"}, \"paper_bgcolor\": \"white\", \"plot_bgcolor\": \"#E5ECF6\", \"polar\": {\"angularaxis\": {\"gridcolor\": \"white\", \"linecolor\": \"white\", \"ticks\": \"\"}, \"bgcolor\": \"#E5ECF6\", \"radialaxis\": {\"gridcolor\": \"white\", \"linecolor\": \"white\", \"ticks\": \"\"}}, \"scene\": {\"xaxis\": {\"backgroundcolor\": \"#E5ECF6\", \"gridcolor\": \"white\", \"gridwidth\": 2, \"linecolor\": \"white\", \"showbackground\": true, \"ticks\": \"\", \"zerolinecolor\": \"white\"}, \"yaxis\": {\"backgroundcolor\": \"#E5ECF6\", \"gridcolor\": \"white\", \"gridwidth\": 2, \"linecolor\": \"white\", \"showbackground\": true, \"ticks\": \"\", \"zerolinecolor\": \"white\"}, \"zaxis\": {\"backgroundcolor\": \"#E5ECF6\", \"gridcolor\": \"white\", \"gridwidth\": 2, \"linecolor\": \"white\", \"showbackground\": true, \"ticks\": \"\", \"zerolinecolor\": \"white\"}}, \"shapedefaults\": {\"line\": {\"color\": \"#2a3f5f\"}}, \"ternary\": {\"aaxis\": {\"gridcolor\": \"white\", \"linecolor\": \"white\", \"ticks\": \"\"}, \"baxis\": {\"gridcolor\": \"white\", \"linecolor\": \"white\", \"ticks\": \"\"}, \"bgcolor\": \"#E5ECF6\", \"caxis\": {\"gridcolor\": \"white\", \"linecolor\": \"white\", \"ticks\": \"\"}}, \"title\": {\"x\": 0.05}, \"xaxis\": {\"automargin\": true, \"gridcolor\": \"white\", \"linecolor\": \"white\", \"ticks\": \"\", \"title\": {\"standoff\": 15}, \"zerolinecolor\": \"white\", \"zerolinewidth\": 2}, \"yaxis\": {\"automargin\": true, \"gridcolor\": \"white\", \"linecolor\": \"white\", \"ticks\": \"\", \"title\": {\"standoff\": 15}, \"zerolinecolor\": \"white\", \"zerolinewidth\": 2}}}, \"title\": {\"text\": \"Job locations\"}},\n",
       "                        {\"responsive\": true}\n",
       "                    ).then(function(){\n",
       "                            \n",
       "var gd = document.getElementById('4fe066b4-84ab-4930-a29e-2537c4e72f77');\n",
       "var x = new MutationObserver(function (mutations, observer) {{\n",
       "        var display = window.getComputedStyle(gd).display;\n",
       "        if (!display || display === 'none') {{\n",
       "            console.log([gd, 'removed!']);\n",
       "            Plotly.purge(gd);\n",
       "            observer.disconnect();\n",
       "        }}\n",
       "}});\n",
       "\n",
       "// Listen for the removal of the full notebook cells\n",
       "var notebookContainer = gd.closest('#notebook-container');\n",
       "if (notebookContainer) {{\n",
       "    x.observe(notebookContainer, {childList: true});\n",
       "}}\n",
       "\n",
       "// Listen for the clearing of the current output cell\n",
       "var outputEl = gd.closest('.output');\n",
       "if (outputEl) {{\n",
       "    x.observe(outputEl, {childList: true});\n",
       "}}\n",
       "\n",
       "                        })\n",
       "                };\n",
       "                });\n",
       "            </script>\n",
       "        </div>"
      ]
     },
     "metadata": {},
     "output_type": "display_data"
    }
   ],
   "source": [
    "# Interactive location plot\n",
    "\n",
    "import plotly.graph_objs as go \n",
    "from plotly.offline import init_notebook_mode,iplot\n",
    "init_notebook_mode(connected=True) \n",
    "\n",
    "data = [\n",
    "        go.Scattergeo(\n",
    "        locationmode = 'country names',\n",
    "        lon = df['long'],\n",
    "        lat = df['lat'],\n",
    "        text = df['Location']+', '+df['location_count'].astype('str'),\n",
    "        mode = 'markers',\n",
    "        marker = dict( \n",
    "            size = df['location_count']*3,\n",
    "            colorscale= 'Viridis',  \n",
    "            color = df['location_count'],\n",
    "            colorbar = dict(\n",
    "                title = 'Job_Count',\n",
    "                titleside = 'top',\n",
    "                tickmode = 'array',\n",
    "        )))]\n",
    "\n",
    "layout = dict(\n",
    "        title = 'Job locations', \n",
    "        autosize=True,\n",
    "        geo = dict(\n",
    "            scope='north america',\n",
    "            projection=dict(type = 'equirectangular'),\n",
    "            showland = True,\n",
    "            landcolor = \"rgb(250, 250, 250)\",\n",
    "            subunitcolor = \"rgb(217, 217, 217)\",\n",
    "            countrycolor = \"rgb(217, 217, 217)\",\n",
    "            countrywidth = 0.5,\n",
    "            subunitwidth = 0.5        \n",
    "        ),\n",
    "    )\n",
    "\n",
    "fig = go.Figure(data = data, layout = layout)\n",
    "iplot(fig,validate=False)"
   ]
  },
  {
   "cell_type": "markdown",
   "metadata": {},
   "source": [
    "## Postings per Province "
   ]
  },
  {
   "cell_type": "code",
   "execution_count": 70,
   "metadata": {},
   "outputs": [
    {
     "data": {
      "text/plain": [
       "(array([0, 1, 2, 3, 4, 5, 6, 7, 8, 9]), <a list of 10 Text xticklabel objects>)"
      ]
     },
     "execution_count": 70,
     "metadata": {},
     "output_type": "execute_result"
    },
    {
     "data": {
      "image/png": "[encoded data removed]",
      "text/plain": [
       "<Figure size 720x432 with 1 Axes>"
      ]
     },
     "metadata": {
      "needs_background": "light"
     },
     "output_type": "display_data"
    }
   ],
   "source": [
    "# Plot of postings per province (top 10)\n",
    "\n",
    "plt.figure(figsize=(10,6))\n",
    "splot = sns.countplot('Province', data=df, order = df['Province'].value_counts().iloc[:10].index, palette = 'coolwarm')\n",
    "\n",
    "for p in splot.patches:\n",
    "    splot.annotate(format(p.get_height()), (p.get_x() + p.get_width() / 2., p.get_height()), ha = 'center', va = 'center', xytext = (0, 10), textcoords = 'offset points')\n",
    "plt.xticks(rotation=90)"
   ]
  },
  {
   "cell_type": "markdown",
   "metadata": {},
   "source": [
    "## Postings per City"
   ]
  },
  {
   "cell_type": "code",
   "execution_count": 71,
   "metadata": {},
   "outputs": [
    {
     "data": {
      "text/plain": [
       "(array([0, 1, 2, 3, 4, 5, 6, 7, 8, 9]), <a list of 10 Text xticklabel objects>)"
      ]
     },
     "execution_count": 71,
     "metadata": {},
     "output_type": "execute_result"
    },
    {
     "data": {
      "image/png": "[encoded data removed]",
      "text/plain": [
       "<Figure size 720x432 with 1 Axes>"
      ]
     },
     "metadata": {
      "needs_background": "light"
     },
     "output_type": "display_data"
    }
   ],
   "source": [
    "# Plot of postings per city (top 10)\n",
    "\n",
    "plt.figure(figsize=(10,6))\n",
    "splot = sns.countplot('City', data=df, order = df['City'].value_counts().iloc[:10].index, palette='coolwarm')\n",
    "\n",
    "for p in splot.patches:\n",
    "    splot.annotate(format(p.get_height()), (p.get_x() + p.get_width() / 2., p.get_height()), ha = 'center', va = 'center', xytext = (0, 10), textcoords = 'offset points')\n",
    "plt.xticks(rotation=90)"
   ]
  },
  {
   "cell_type": "markdown",
   "metadata": {},
   "source": [
    "## Postings per Company"
   ]
  },
  {
   "cell_type": "code",
   "execution_count": 72,
   "metadata": {},
   "outputs": [
    {
     "data": {
      "text/plain": [
       "(array([0, 1, 2, 3, 4, 5, 6, 7, 8, 9]), <a list of 10 Text xticklabel objects>)"
      ]
     },
     "execution_count": 72,
     "metadata": {},
     "output_type": "execute_result"
    },
    {
     "data": {
      "image/png": "[encoded data removed]",
      "text/plain": [
       "<Figure size 720x432 with 1 Axes>"
      ]
     },
     "metadata": {
      "needs_background": "light"
     },
     "output_type": "display_data"
    }
   ],
   "source": [
    "# Plot of postings per Company (top 10)\n",
    "\n",
    "plt.figure(figsize=(10,6))\n",
    "splot = sns.countplot('Company', data=df, order = df['Company'].value_counts().iloc[:10].index, palette='coolwarm')\n",
    "\n",
    "for p in splot.patches:\n",
    "    splot.annotate(format(p.get_height()), (p.get_x() + p.get_width() / 2., p.get_height()), ha = 'center', va = 'center', xytext = (0, 10), textcoords = 'offset points')\n",
    "plt.xticks(rotation=90)"
   ]
  },
  {
   "cell_type": "markdown",
   "metadata": {},
   "source": [
    "## Job-Title Search"
   ]
  },
  {
   "cell_type": "code",
   "execution_count": 73,
   "metadata": {},
   "outputs": [],
   "source": [
    "d = {el:0 for el in jobs_to_search}\n",
    "\n",
    "def job_search(df):\n",
    "    for job in df['JobTitle']:\n",
    "        for search_job in jobs_to_search:\n",
    "            if search_job in job:\n",
    "                d[search_job] = d[search_job]+1\n",
    "    job_counts = pd.DataFrame(d,index=[1])\n",
    "    return job_counts.transpose().reset_index().sort_values(by=1,ascending=False).rename(columns={'index':'Job',1:'Count'})\n",
    "\n",
    "job_search_df = job_search(df)"
   ]
  },
  {
   "cell_type": "code",
   "execution_count": 74,
   "metadata": {},
   "outputs": [
    {
     "data": {
      "text/plain": [
       "(0, 50)"
      ]
     },
     "execution_count": 74,
     "metadata": {},
     "output_type": "execute_result"
    },
    {
     "data": {
      "image/png": "[encoded data removed]",
      "text/plain": [
       "<Figure size 720x432 with 1 Axes>"
      ]
     },
     "metadata": {
      "needs_background": "light"
     },
     "output_type": "display_data"
    }
   ],
   "source": [
    "plt.figure(figsize=(10,6))\n",
    "splot = sns.barplot(x=job_search_df['Job'],y=job_search_df['Count'], palette='coolwarm')\n",
    "\n",
    "for p in splot.patches:\n",
    "    splot.annotate(format(p.get_height()), (p.get_x() + p.get_width() / 2., p.get_height()), ha = 'center', va = 'center', xytext = (0, 10), textcoords = 'offset points')\n",
    "plt.xticks(rotation=90)\n",
    "plt.ylim(0,50)"
   ]
  },
  {
   "cell_type": "markdown",
   "metadata": {},
   "source": [
    "## Keyword Search"
   ]
  },
  {
   "cell_type": "code",
   "execution_count": 75,
   "metadata": {},
   "outputs": [],
   "source": [
    "from text_breakdown import word_search"
   ]
  },
  {
   "cell_type": "code",
   "execution_count": 76,
   "metadata": {},
   "outputs": [
    {
     "name": "stdout",
     "output_type": "stream",
     "text": [
      "\n",
      "555 jobs have been searched. The result is:\n",
      "\n",
      "{'autocad': 57, 'solidworks': 31, 'autodesk': 0, 'revit': 7}\n"
     ]
    }
   ],
   "source": [
    "search1 = word_search(keywords_to_search,'scrape_csvs/{}'.format(descr_file))\n",
    "search_values = search1.complete()"
   ]
  },
  {
   "cell_type": "code",
   "execution_count": 77,
   "metadata": {},
   "outputs": [
    {
     "data": {
      "text/plain": [
       "(0, 100)"
      ]
     },
     "execution_count": 77,
     "metadata": {},
     "output_type": "execute_result"
    },
    {
     "data": {
      "image/png": "[encoded data removed]",
      "text/plain": [
       "<Figure size 720x432 with 1 Axes>"
      ]
     },
     "metadata": {
      "needs_background": "light"
     },
     "output_type": "display_data"
    }
   ],
   "source": [
    "search_value_df = pd.DataFrame(search_values,index=[1])\n",
    "search_value_df = search_value_df.transpose().reset_index().rename(columns={'index':'Searched Value',1:'Count'})\n",
    "\n",
    "plt.figure(figsize=(10,6))\n",
    "splot = sns.barplot(x=search_value_df['Searched Value'],y=search_value_df['Count'], palette='coolwarm')\n",
    "\n",
    "for p in splot.patches:\n",
    "    splot.annotate(format(p.get_height()), (p.get_x() + p.get_width() / 2., p.get_height()), ha = 'center', va = 'center', xytext = (0, 10), textcoords = 'offset points')\n",
    "plt.xticks(rotation=90)\n",
    "plt.ylim(0,100)\n"
   ]
  },
  {
   "cell_type": "code",
   "execution_count": null,
   "metadata": {},
   "outputs": [],
   "source": []
  }
 ],
 "metadata": {
  "kernelspec": {
   "display_name": "indeed_project_venv",
   "language": "python",
   "name": "project_venv"
  },
  "language_info": {
   "codemirror_mode": {
    "name": "ipython",
    "version": 3
   },
   "file_extension": ".py",
   "mimetype": "text/x-python",
   "name": "python",
   "nbconvert_exporter": "python",
   "pygments_lexer": "ipython3",
   "version": "3.7.5"
  },
  "toc": {
   "base_numbering": 1,
   "nav_menu": {},
   "number_sections": true,
   "sideBar": true,
   "skip_h1_title": false,
   "title_cell": "Table of Contents",
   "title_sidebar": "Contents",
   "toc_cell": false,
   "toc_position": {},
   "toc_section_display": true,
   "toc_window_display": true
  }
 },
 "nbformat": 4,
 "nbformat_minor": 4
}
