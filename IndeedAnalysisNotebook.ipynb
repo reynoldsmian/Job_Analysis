{
 "cells": [
  {
   "cell_type": "markdown",
   "metadata": {},
   "source": [
    "## Introduction:\n",
    "This is an example run through pulling 25 pages of jobs.\n",
    "Parameters:\n",
    "job = 'Engineer'\n",
    "loctation = 'Canada'\n",
    "specific jobs that were examined =\n",
    "    'project engineer',\n",
    "    'project manager',\n",
    "    'mechanical engineer',\n",
    "    'manufacturing engineer',\n",
    "    'mechancial designer',\n",
    "    'process engineer',\n",
    "    'chemical engineer',\n",
    "    'civil engineer',\n",
    "    'structural engineer',\n",
    "    'electrical engineer',\n",
    "    'petroleum'\n",
    "keywords that were searched = \n",
    "    'autocad',\n",
    "    'solidworks',\n",
    "    'autodesk', \n",
    "    'revit'\n",
    "    \n",
    " All of these can be adjusted \n",
    "\n",
    "\n"
   ]
  },
  {
   "cell_type": "markdown",
   "metadata": {},
   "source": [
    "## Import packages "
   ]
  },
  {
   "cell_type": "code",
   "execution_count": 1,
   "metadata": {},
   "outputs": [],
   "source": [
    "import numpy as np\n",
    "import pandas as pd\n",
    "from pandas import read_html\n",
    "import sqlite3"
   ]
  },
  {
   "cell_type": "code",
   "execution_count": 2,
   "metadata": {},
   "outputs": [],
   "source": [
    "import matplotlib.pyplot as plt\n",
    "import seaborn as sns\n",
    "sns.set_style('whitegrid')\n",
    "%matplotlib inline"
   ]
  },
  {
   "cell_type": "code",
   "execution_count": 3,
   "metadata": {},
   "outputs": [],
   "source": [
    "import datetime"
   ]
  },
  {
   "cell_type": "markdown",
   "metadata": {},
   "source": [
    "## Running the scraper and word search"
   ]
  },
  {
   "cell_type": "code",
   "execution_count": 4,
   "metadata": {},
   "outputs": [],
   "source": [
    "job = 'Engineer'\n",
    "location = 'Canada'\n",
    "main_file = '{}_{}_{}.csv'.format(job, location, datetime.datetime.now().strftime(\"%Y-%m-%d\"))\n",
    "descr_file = '{}_{}_JobDescript_{}.csv'.format(job, location, datetime.datetime.now().strftime(\"%Y-%m-%d\"))"
   ]
  },
  {
   "cell_type": "code",
   "execution_count": 5,
   "metadata": {},
   "outputs": [
    {
     "name": "stdout",
     "output_type": "stream",
     "text": [
      "Request:560; Frequency: 0.5472441032224792 requests/s\n"
     ]
    }
   ],
   "source": [
    "from indeed_auto_main import web_scraper\n",
    "search1 = web_scraper(job,location)\n",
    "search1.scrape_export_title_comp_loc_descr()"
   ]
  },
  {
   "cell_type": "markdown",
   "metadata": {},
   "source": [
    "## Import data "
   ]
  },
  {
   "cell_type": "code",
   "execution_count": 117,
   "metadata": {},
   "outputs": [],
   "source": [
    "df = pd.read_csv(main_file,header=None)"
   ]
  },
  {
   "cell_type": "code",
   "execution_count": 118,
   "metadata": {},
   "outputs": [],
   "source": [
    "df.columns= ['Job_Id','Company', 'JobTitle', 'Location']"
   ]
  },
  {
   "cell_type": "code",
   "execution_count": 127,
   "metadata": {},
   "outputs": [],
   "source": [
    "#Drop duplicate entries\n",
    "df = df.drop_duplicates(subset=['Company','JobTitle','Location'])"
   ]
  },
  {
   "cell_type": "code",
   "execution_count": 129,
   "metadata": {},
   "outputs": [
    {
     "data": {
      "text/html": [
       "<div>\n",
       "<style scoped>\n",
       "    .dataframe tbody tr th:only-of-type {\n",
       "        vertical-align: middle;\n",
       "    }\n",
       "\n",
       "    .dataframe tbody tr th {\n",
       "        vertical-align: top;\n",
       "    }\n",
       "\n",
       "    .dataframe thead th {\n",
       "        text-align: right;\n",
       "    }\n",
       "</style>\n",
       "<table border=\"1\" class=\"dataframe\">\n",
       "  <thead>\n",
       "    <tr style=\"text-align: right;\">\n",
       "      <th></th>\n",
       "      <th>Job_Id</th>\n",
       "      <th>Company</th>\n",
       "      <th>JobTitle</th>\n",
       "      <th>Location</th>\n",
       "    </tr>\n",
       "  </thead>\n",
       "  <tbody>\n",
       "    <tr>\n",
       "      <th>0</th>\n",
       "      <td>1</td>\n",
       "      <td>lenano diagnostics</td>\n",
       "      <td>r&amp;d engineer / supervisor</td>\n",
       "      <td>waterloo, on</td>\n",
       "    </tr>\n",
       "    <tr>\n",
       "      <th>1</th>\n",
       "      <td>2</td>\n",
       "      <td>bloom recruitment</td>\n",
       "      <td>systems engineer</td>\n",
       "      <td>vancouver, bc</td>\n",
       "    </tr>\n",
       "    <tr>\n",
       "      <th>2</th>\n",
       "      <td>3</td>\n",
       "      <td>vanrx pharmasystems</td>\n",
       "      <td>manufacturing engineer</td>\n",
       "      <td>vancouver, bc</td>\n",
       "    </tr>\n",
       "    <tr>\n",
       "      <th>3</th>\n",
       "      <td>4</td>\n",
       "      <td>expleo</td>\n",
       "      <td>hvac system engineer</td>\n",
       "      <td>saint-bruno-de-montarville, qc</td>\n",
       "    </tr>\n",
       "    <tr>\n",
       "      <th>4</th>\n",
       "      <td>5</td>\n",
       "      <td>noreast electronics</td>\n",
       "      <td>electrical engineer</td>\n",
       "      <td>hawkesbury, on</td>\n",
       "    </tr>\n",
       "  </tbody>\n",
       "</table>\n",
       "</div>"
      ],
      "text/plain": [
       "   Job_Id              Company                   JobTitle  \\\n",
       "0       1   lenano diagnostics  r&d engineer / supervisor   \n",
       "1       2    bloom recruitment           systems engineer   \n",
       "2       3  vanrx pharmasystems     manufacturing engineer   \n",
       "3       4               expleo       hvac system engineer   \n",
       "4       5  noreast electronics        electrical engineer   \n",
       "\n",
       "                         Location  \n",
       "0                    waterloo, on  \n",
       "1                   vancouver, bc  \n",
       "2                   vancouver, bc  \n",
       "3  saint-bruno-de-montarville, qc  \n",
       "4                  hawkesbury, on  "
      ]
     },
     "execution_count": 129,
     "metadata": {},
     "output_type": "execute_result"
    }
   ],
   "source": [
    "df.head()"
   ]
  },
  {
   "cell_type": "code",
   "execution_count": 130,
   "metadata": {},
   "outputs": [
    {
     "name": "stdout",
     "output_type": "stream",
     "text": [
      "<class 'pandas.core.frame.DataFrame'>\n",
      "Int64Index: 296 entries, 0 to 559\n",
      "Data columns (total 4 columns):\n",
      " #   Column    Non-Null Count  Dtype \n",
      "---  ------    --------------  ----- \n",
      " 0   Job_Id    296 non-null    int64 \n",
      " 1   Company   296 non-null    object\n",
      " 2   JobTitle  296 non-null    object\n",
      " 3   Location  296 non-null    object\n",
      "dtypes: int64(1), object(3)\n",
      "memory usage: 11.6+ KB\n"
     ]
    }
   ],
   "source": [
    "df.info()"
   ]
  },
  {
   "cell_type": "code",
   "execution_count": 131,
   "metadata": {},
   "outputs": [],
   "source": [
    "# Cleaning up some normal outlier entries\n",
    "df = df.replace('remote','canada')\n",
    "df = df.replace('montréal, qc','montreal, qc')\n",
    "df = df.replace('greater toronto area','toronto')\n",
    "df = df.replace('greater toronto area, on','toronto')\n",
    "df = df.replace('british columbia','bc')\n",
    "df = df.replace('alberta','ab')\n",
    "df = df.replace('saskatchewan','sk')\n",
    "df = df.replace('manitoba','mn')\n",
    "df = df.replace('ontario','on')\n",
    "df = df.replace('newfoundland and labrador','nl')"
   ]
  },
  {
   "cell_type": "code",
   "execution_count": 132,
   "metadata": {},
   "outputs": [],
   "source": [
    "# Creating new columns for City/Province\n",
    "df['City'] = df.apply(lambda row: row['Location'].split(',')[0], axis=1)\n",
    "df['Province'] = df.apply(lambda row: row['Location'].split(',')[1] if len(row['Location'].split(',')) > 1 else row['Location'], axis=1)"
   ]
  },
  {
   "cell_type": "markdown",
   "metadata": {},
   "source": [
    "## Getting gps coord for locations"
   ]
  },
  {
   "cell_type": "code",
   "execution_count": 133,
   "metadata": {
    "scrolled": true
   },
   "outputs": [],
   "source": [
    "# Creating a list of locations as well as a column that will represent the location count\n",
    "\n",
    "Location_group = df.groupby('Location').count()\n",
    "Location_group.reset_index(inplace=True)\n",
    "Location_group.sort_values(by='Company')\n",
    "\n",
    "df['location_count'] = df.groupby('Location')['Location'].transform('count')\n",
    "\n",
    "location_list = Location_group['Location'].tolist()"
   ]
  },
  {
   "cell_type": "code",
   "execution_count": 134,
   "metadata": {},
   "outputs": [],
   "source": [
    "# Create a list of locations that are not in the sqlite database \n",
    "\n",
    "conn = sqlite3.connect('LocationLatLong.db')\n",
    "c = conn.cursor()\n",
    "\n",
    "c.execute(''' SELECT count(name) FROM sqlite_master WHERE type='table' AND name='LocationLatLong' ''')\n",
    "\n",
    "if c.fetchone()[0]==1:\n",
    "    Location_database_df = pd.read_sql_query(\"SELECT location FROM LocationLatLong\", conn)\n",
    "    Location_database_df_list = Location_database_df['location'].tolist()\n",
    "\n",
    "    missing_locations = []\n",
    "    for location in location_list:\n",
    "        if location not in Location_database_df_list:\n",
    "            missing_locations.append(location)\n",
    "            \n",
    "else:\n",
    "    missing_locations = Location_database_df_list"
   ]
  },
  {
   "cell_type": "code",
   "execution_count": 135,
   "metadata": {},
   "outputs": [],
   "source": [
    "# Check if there are new locations not in the sqlite database\n",
    "# If there are missing locations:\n",
    "    # Go through the geopy process of getting lat/long for each missing location\n",
    "    # Create an updated df with the location lat/longs \n",
    "    # Merge this onto existing database \n",
    "# If there are no missing locations:\n",
    "    # Create a df from the existing database \n",
    "\n",
    "if len(missing_locations) != 0:  \n",
    "    import certifi\n",
    "    import ssl\n",
    "    import geopy\n",
    "    from geopy.geocoders import Nominatim\n",
    "    from time import sleep\n",
    "    ctx = ssl.create_default_context(cafile=certifi.where())\n",
    "    geopy.geocoders.options.default_ssl_context = ctx\n",
    "\n",
    "    #Initialize lat and long\n",
    "    long = []\n",
    "    lat = []\n",
    "    \n",
    "    #Iterate through the values and append in any missing locations to the database\n",
    "    #For each new location, find the lat and long\n",
    "    for location in missing_locations:\n",
    "        geolocator = Nominatim(user_agent = 'personal', scheme='http',timeout=20)\n",
    "        location = geolocator.geocode(location)\n",
    "        lat.append(location.latitude)\n",
    "        long.append(location.longitude)\n",
    "        sleep(2)\n",
    "    \n",
    "    #Create a new dataframe with the location/lat/long\n",
    "    New_LocationLatLong_df = pd.DataFrame(\n",
    "        {'location': missing_locations,\n",
    "         'lat': lat,\n",
    "         'long': long\n",
    "        })\n",
    "\n",
    "    #Initialize sql connection\n",
    "    conn = sqlite3.connect('LocationLatLong.db')\n",
    "    c = conn.cursor()\n",
    "    \n",
    "    #Create a table if does not exist\n",
    "    c.execute('''CREATE TABLE IF NOT EXISTS LocationLatLong\n",
    "                 ([generated_id] INTEGER PRIMARY KEY,[location] text, [lat] integer, [long] integer)''')\n",
    "    \n",
    "    #Append new values to table\n",
    "    New_LocationLatLong_df.to_sql('LocationLatLong', conn, if_exists='append', index = False)  \n",
    "    \n",
    "    \n",
    "# If there are no new values, create a dataframe from existing table   \n",
    "\n",
    "conn = sqlite3.connect('LocationLatLong.db')\n",
    "LocationLatLong_df = pd.read_sql_query(\"SELECT * FROM LocationLatLong\", conn)"
   ]
  },
  {
   "cell_type": "markdown",
   "metadata": {},
   "source": [
    "Merging lat/long to main df "
   ]
  },
  {
   "cell_type": "code",
   "execution_count": 136,
   "metadata": {},
   "outputs": [
    {
     "data": {
      "text/html": [
       "<div>\n",
       "<style scoped>\n",
       "    .dataframe tbody tr th:only-of-type {\n",
       "        vertical-align: middle;\n",
       "    }\n",
       "\n",
       "    .dataframe tbody tr th {\n",
       "        vertical-align: top;\n",
       "    }\n",
       "\n",
       "    .dataframe thead th {\n",
       "        text-align: right;\n",
       "    }\n",
       "</style>\n",
       "<table border=\"1\" class=\"dataframe\">\n",
       "  <thead>\n",
       "    <tr style=\"text-align: right;\">\n",
       "      <th></th>\n",
       "      <th>Job_Id</th>\n",
       "      <th>Company</th>\n",
       "      <th>JobTitle</th>\n",
       "      <th>Location</th>\n",
       "      <th>City</th>\n",
       "      <th>Province</th>\n",
       "      <th>location_count</th>\n",
       "    </tr>\n",
       "  </thead>\n",
       "  <tbody>\n",
       "    <tr>\n",
       "      <th>0</th>\n",
       "      <td>1</td>\n",
       "      <td>lenano diagnostics</td>\n",
       "      <td>r&amp;d engineer / supervisor</td>\n",
       "      <td>waterloo, on</td>\n",
       "      <td>waterloo</td>\n",
       "      <td>on</td>\n",
       "      <td>3</td>\n",
       "    </tr>\n",
       "    <tr>\n",
       "      <th>1</th>\n",
       "      <td>2</td>\n",
       "      <td>bloom recruitment</td>\n",
       "      <td>systems engineer</td>\n",
       "      <td>vancouver, bc</td>\n",
       "      <td>vancouver</td>\n",
       "      <td>bc</td>\n",
       "      <td>15</td>\n",
       "    </tr>\n",
       "    <tr>\n",
       "      <th>2</th>\n",
       "      <td>3</td>\n",
       "      <td>vanrx pharmasystems</td>\n",
       "      <td>manufacturing engineer</td>\n",
       "      <td>vancouver, bc</td>\n",
       "      <td>vancouver</td>\n",
       "      <td>bc</td>\n",
       "      <td>15</td>\n",
       "    </tr>\n",
       "    <tr>\n",
       "      <th>3</th>\n",
       "      <td>4</td>\n",
       "      <td>expleo</td>\n",
       "      <td>hvac system engineer</td>\n",
       "      <td>saint-bruno-de-montarville, qc</td>\n",
       "      <td>saint-bruno-de-montarville</td>\n",
       "      <td>qc</td>\n",
       "      <td>4</td>\n",
       "    </tr>\n",
       "    <tr>\n",
       "      <th>4</th>\n",
       "      <td>5</td>\n",
       "      <td>noreast electronics</td>\n",
       "      <td>electrical engineer</td>\n",
       "      <td>hawkesbury, on</td>\n",
       "      <td>hawkesbury</td>\n",
       "      <td>on</td>\n",
       "      <td>1</td>\n",
       "    </tr>\n",
       "  </tbody>\n",
       "</table>\n",
       "</div>"
      ],
      "text/plain": [
       "   Job_Id              Company                   JobTitle  \\\n",
       "0       1   lenano diagnostics  r&d engineer / supervisor   \n",
       "1       2    bloom recruitment           systems engineer   \n",
       "2       3  vanrx pharmasystems     manufacturing engineer   \n",
       "3       4               expleo       hvac system engineer   \n",
       "4       5  noreast electronics        electrical engineer   \n",
       "\n",
       "                         Location                        City Province  \\\n",
       "0                    waterloo, on                    waterloo       on   \n",
       "1                   vancouver, bc                   vancouver       bc   \n",
       "2                   vancouver, bc                   vancouver       bc   \n",
       "3  saint-bruno-de-montarville, qc  saint-bruno-de-montarville       qc   \n",
       "4                  hawkesbury, on                  hawkesbury       on   \n",
       "\n",
       "   location_count  \n",
       "0               3  \n",
       "1              15  \n",
       "2              15  \n",
       "3               4  \n",
       "4               1  "
      ]
     },
     "execution_count": 136,
     "metadata": {},
     "output_type": "execute_result"
    }
   ],
   "source": [
    "df.head()"
   ]
  },
  {
   "cell_type": "code",
   "execution_count": 137,
   "metadata": {},
   "outputs": [
    {
     "data": {
      "text/html": [
       "<div>\n",
       "<style scoped>\n",
       "    .dataframe tbody tr th:only-of-type {\n",
       "        vertical-align: middle;\n",
       "    }\n",
       "\n",
       "    .dataframe tbody tr th {\n",
       "        vertical-align: top;\n",
       "    }\n",
       "\n",
       "    .dataframe thead th {\n",
       "        text-align: right;\n",
       "    }\n",
       "</style>\n",
       "<table border=\"1\" class=\"dataframe\">\n",
       "  <thead>\n",
       "    <tr style=\"text-align: right;\">\n",
       "      <th></th>\n",
       "      <th>generated_id</th>\n",
       "      <th>location</th>\n",
       "      <th>lat</th>\n",
       "      <th>long</th>\n",
       "    </tr>\n",
       "  </thead>\n",
       "  <tbody>\n",
       "    <tr>\n",
       "      <th>0</th>\n",
       "      <td>1</td>\n",
       "      <td>abbotsford, bc</td>\n",
       "      <td>49.052116</td>\n",
       "      <td>-122.329479</td>\n",
       "    </tr>\n",
       "    <tr>\n",
       "      <th>1</th>\n",
       "      <td>2</td>\n",
       "      <td>acheson, ab</td>\n",
       "      <td>53.545914</td>\n",
       "      <td>-113.771576</td>\n",
       "    </tr>\n",
       "    <tr>\n",
       "      <th>2</th>\n",
       "      <td>3</td>\n",
       "      <td>alberta</td>\n",
       "      <td>55.001251</td>\n",
       "      <td>-115.002136</td>\n",
       "    </tr>\n",
       "    <tr>\n",
       "      <th>3</th>\n",
       "      <td>4</td>\n",
       "      <td>alliston, on</td>\n",
       "      <td>44.153460</td>\n",
       "      <td>-79.869157</td>\n",
       "    </tr>\n",
       "    <tr>\n",
       "      <th>4</th>\n",
       "      <td>5</td>\n",
       "      <td>altona, mb</td>\n",
       "      <td>49.103111</td>\n",
       "      <td>-97.558361</td>\n",
       "    </tr>\n",
       "  </tbody>\n",
       "</table>\n",
       "</div>"
      ],
      "text/plain": [
       "   generated_id        location        lat        long\n",
       "0             1  abbotsford, bc  49.052116 -122.329479\n",
       "1             2     acheson, ab  53.545914 -113.771576\n",
       "2             3         alberta  55.001251 -115.002136\n",
       "3             4    alliston, on  44.153460  -79.869157\n",
       "4             5      altona, mb  49.103111  -97.558361"
      ]
     },
     "execution_count": 137,
     "metadata": {},
     "output_type": "execute_result"
    }
   ],
   "source": [
    "LocationLatLong_df.head()"
   ]
  },
  {
   "cell_type": "code",
   "execution_count": 138,
   "metadata": {},
   "outputs": [],
   "source": [
    "lat_dict = LocationLatLong_df.set_index('location')['lat'].to_dict()\n",
    "long_dict = LocationLatLong_df.set_index('location')['long'].to_dict()"
   ]
  },
  {
   "cell_type": "code",
   "execution_count": 139,
   "metadata": {},
   "outputs": [],
   "source": [
    "df['lat'] = df['Location'].map(lat_dict)\n",
    "df['long'] = df['Location'].map(long_dict)"
   ]
  },
  {
   "cell_type": "code",
   "execution_count": 140,
   "metadata": {},
   "outputs": [
    {
     "data": {
      "text/html": [
       "<div>\n",
       "<style scoped>\n",
       "    .dataframe tbody tr th:only-of-type {\n",
       "        vertical-align: middle;\n",
       "    }\n",
       "\n",
       "    .dataframe tbody tr th {\n",
       "        vertical-align: top;\n",
       "    }\n",
       "\n",
       "    .dataframe thead th {\n",
       "        text-align: right;\n",
       "    }\n",
       "</style>\n",
       "<table border=\"1\" class=\"dataframe\">\n",
       "  <thead>\n",
       "    <tr style=\"text-align: right;\">\n",
       "      <th></th>\n",
       "      <th>Job_Id</th>\n",
       "      <th>Company</th>\n",
       "      <th>JobTitle</th>\n",
       "      <th>Location</th>\n",
       "      <th>City</th>\n",
       "      <th>Province</th>\n",
       "      <th>location_count</th>\n",
       "      <th>lat</th>\n",
       "      <th>long</th>\n",
       "    </tr>\n",
       "  </thead>\n",
       "  <tbody>\n",
       "    <tr>\n",
       "      <th>0</th>\n",
       "      <td>1</td>\n",
       "      <td>lenano diagnostics</td>\n",
       "      <td>r&amp;d engineer / supervisor</td>\n",
       "      <td>waterloo, on</td>\n",
       "      <td>waterloo</td>\n",
       "      <td>on</td>\n",
       "      <td>3</td>\n",
       "      <td>43.466874</td>\n",
       "      <td>-80.524635</td>\n",
       "    </tr>\n",
       "    <tr>\n",
       "      <th>1</th>\n",
       "      <td>2</td>\n",
       "      <td>bloom recruitment</td>\n",
       "      <td>systems engineer</td>\n",
       "      <td>vancouver, bc</td>\n",
       "      <td>vancouver</td>\n",
       "      <td>bc</td>\n",
       "      <td>15</td>\n",
       "      <td>49.260872</td>\n",
       "      <td>-123.113953</td>\n",
       "    </tr>\n",
       "    <tr>\n",
       "      <th>2</th>\n",
       "      <td>3</td>\n",
       "      <td>vanrx pharmasystems</td>\n",
       "      <td>manufacturing engineer</td>\n",
       "      <td>vancouver, bc</td>\n",
       "      <td>vancouver</td>\n",
       "      <td>bc</td>\n",
       "      <td>15</td>\n",
       "      <td>49.260872</td>\n",
       "      <td>-123.113953</td>\n",
       "    </tr>\n",
       "    <tr>\n",
       "      <th>3</th>\n",
       "      <td>4</td>\n",
       "      <td>expleo</td>\n",
       "      <td>hvac system engineer</td>\n",
       "      <td>saint-bruno-de-montarville, qc</td>\n",
       "      <td>saint-bruno-de-montarville</td>\n",
       "      <td>qc</td>\n",
       "      <td>4</td>\n",
       "      <td>45.525616</td>\n",
       "      <td>-73.339180</td>\n",
       "    </tr>\n",
       "    <tr>\n",
       "      <th>4</th>\n",
       "      <td>5</td>\n",
       "      <td>noreast electronics</td>\n",
       "      <td>electrical engineer</td>\n",
       "      <td>hawkesbury, on</td>\n",
       "      <td>hawkesbury</td>\n",
       "      <td>on</td>\n",
       "      <td>1</td>\n",
       "      <td>45.610281</td>\n",
       "      <td>-74.605561</td>\n",
       "    </tr>\n",
       "  </tbody>\n",
       "</table>\n",
       "</div>"
      ],
      "text/plain": [
       "   Job_Id              Company                   JobTitle  \\\n",
       "0       1   lenano diagnostics  r&d engineer / supervisor   \n",
       "1       2    bloom recruitment           systems engineer   \n",
       "2       3  vanrx pharmasystems     manufacturing engineer   \n",
       "3       4               expleo       hvac system engineer   \n",
       "4       5  noreast electronics        electrical engineer   \n",
       "\n",
       "                         Location                        City Province  \\\n",
       "0                    waterloo, on                    waterloo       on   \n",
       "1                   vancouver, bc                   vancouver       bc   \n",
       "2                   vancouver, bc                   vancouver       bc   \n",
       "3  saint-bruno-de-montarville, qc  saint-bruno-de-montarville       qc   \n",
       "4                  hawkesbury, on                  hawkesbury       on   \n",
       "\n",
       "   location_count        lat        long  \n",
       "0               3  43.466874  -80.524635  \n",
       "1              15  49.260872 -123.113953  \n",
       "2              15  49.260872 -123.113953  \n",
       "3               4  45.525616  -73.339180  \n",
       "4               1  45.610281  -74.605561  "
      ]
     },
     "execution_count": 140,
     "metadata": {},
     "output_type": "execute_result"
    }
   ],
   "source": [
    "df.head()"
   ]
  },
  {
   "cell_type": "code",
   "execution_count": 141,
   "metadata": {},
   "outputs": [
    {
     "data": {
      "text/html": [
       "<div>\n",
       "<style scoped>\n",
       "    .dataframe tbody tr th:only-of-type {\n",
       "        vertical-align: middle;\n",
       "    }\n",
       "\n",
       "    .dataframe tbody tr th {\n",
       "        vertical-align: top;\n",
       "    }\n",
       "\n",
       "    .dataframe thead th {\n",
       "        text-align: right;\n",
       "    }\n",
       "</style>\n",
       "<table border=\"1\" class=\"dataframe\">\n",
       "  <thead>\n",
       "    <tr style=\"text-align: right;\">\n",
       "      <th></th>\n",
       "      <th>asciiname</th>\n",
       "      <th>population</th>\n",
       "    </tr>\n",
       "  </thead>\n",
       "  <tbody>\n",
       "    <tr>\n",
       "      <th>0</th>\n",
       "      <td>toronto</td>\n",
       "      <td>2600000</td>\n",
       "    </tr>\n",
       "    <tr>\n",
       "      <th>1</th>\n",
       "      <td>montreal</td>\n",
       "      <td>1600000</td>\n",
       "    </tr>\n",
       "    <tr>\n",
       "      <th>2</th>\n",
       "      <td>calgary</td>\n",
       "      <td>1019942</td>\n",
       "    </tr>\n",
       "    <tr>\n",
       "      <th>3</th>\n",
       "      <td>ottawa</td>\n",
       "      <td>812129</td>\n",
       "    </tr>\n",
       "    <tr>\n",
       "      <th>4</th>\n",
       "      <td>edmonton</td>\n",
       "      <td>712391</td>\n",
       "    </tr>\n",
       "  </tbody>\n",
       "</table>\n",
       "</div>"
      ],
      "text/plain": [
       "  asciiname  population\n",
       "0   toronto     2600000\n",
       "1  montreal     1600000\n",
       "2   calgary     1019942\n",
       "3    ottawa      812129\n",
       "4  edmonton      712391"
      ]
     },
     "execution_count": 141,
     "metadata": {},
     "output_type": "execute_result"
    }
   ],
   "source": [
    "# Creating a df from the population info\n",
    "\n",
    "pop_df = pd.read_csv('Population.csv')\n",
    "pop_df = pop_df.drop('location',axis=1)\n",
    "pop_df['asciiname'] = pop_df['asciiname'].str.lower()\n",
    "pop_df.head()"
   ]
  },
  {
   "cell_type": "code",
   "execution_count": 142,
   "metadata": {},
   "outputs": [],
   "source": [
    "# Merging this onto the main df\n",
    "\n",
    "pop_dict = pop_df.set_index('asciiname')['population'].to_dict()\n",
    "df['population'] = df['City'].map(pop_dict)"
   ]
  },
  {
   "cell_type": "code",
   "execution_count": 143,
   "metadata": {},
   "outputs": [
    {
     "data": {
      "text/html": [
       "<div>\n",
       "<style scoped>\n",
       "    .dataframe tbody tr th:only-of-type {\n",
       "        vertical-align: middle;\n",
       "    }\n",
       "\n",
       "    .dataframe tbody tr th {\n",
       "        vertical-align: top;\n",
       "    }\n",
       "\n",
       "    .dataframe thead th {\n",
       "        text-align: right;\n",
       "    }\n",
       "</style>\n",
       "<table border=\"1\" class=\"dataframe\">\n",
       "  <thead>\n",
       "    <tr style=\"text-align: right;\">\n",
       "      <th></th>\n",
       "      <th>Job_Id</th>\n",
       "      <th>Company</th>\n",
       "      <th>JobTitle</th>\n",
       "      <th>Location</th>\n",
       "      <th>City</th>\n",
       "      <th>Province</th>\n",
       "      <th>location_count</th>\n",
       "      <th>lat</th>\n",
       "      <th>long</th>\n",
       "      <th>population</th>\n",
       "    </tr>\n",
       "  </thead>\n",
       "  <tbody>\n",
       "    <tr>\n",
       "      <th>0</th>\n",
       "      <td>1</td>\n",
       "      <td>lenano diagnostics</td>\n",
       "      <td>r&amp;d engineer / supervisor</td>\n",
       "      <td>waterloo, on</td>\n",
       "      <td>waterloo</td>\n",
       "      <td>on</td>\n",
       "      <td>3</td>\n",
       "      <td>43.466874</td>\n",
       "      <td>-80.524635</td>\n",
       "      <td>97475.0</td>\n",
       "    </tr>\n",
       "    <tr>\n",
       "      <th>1</th>\n",
       "      <td>2</td>\n",
       "      <td>bloom recruitment</td>\n",
       "      <td>systems engineer</td>\n",
       "      <td>vancouver, bc</td>\n",
       "      <td>vancouver</td>\n",
       "      <td>bc</td>\n",
       "      <td>15</td>\n",
       "      <td>49.260872</td>\n",
       "      <td>-123.113953</td>\n",
       "      <td>600000.0</td>\n",
       "    </tr>\n",
       "    <tr>\n",
       "      <th>2</th>\n",
       "      <td>3</td>\n",
       "      <td>vanrx pharmasystems</td>\n",
       "      <td>manufacturing engineer</td>\n",
       "      <td>vancouver, bc</td>\n",
       "      <td>vancouver</td>\n",
       "      <td>bc</td>\n",
       "      <td>15</td>\n",
       "      <td>49.260872</td>\n",
       "      <td>-123.113953</td>\n",
       "      <td>600000.0</td>\n",
       "    </tr>\n",
       "    <tr>\n",
       "      <th>3</th>\n",
       "      <td>4</td>\n",
       "      <td>expleo</td>\n",
       "      <td>hvac system engineer</td>\n",
       "      <td>saint-bruno-de-montarville, qc</td>\n",
       "      <td>saint-bruno-de-montarville</td>\n",
       "      <td>qc</td>\n",
       "      <td>4</td>\n",
       "      <td>45.525616</td>\n",
       "      <td>-73.339180</td>\n",
       "      <td>24388.0</td>\n",
       "    </tr>\n",
       "    <tr>\n",
       "      <th>4</th>\n",
       "      <td>5</td>\n",
       "      <td>noreast electronics</td>\n",
       "      <td>electrical engineer</td>\n",
       "      <td>hawkesbury, on</td>\n",
       "      <td>hawkesbury</td>\n",
       "      <td>on</td>\n",
       "      <td>1</td>\n",
       "      <td>45.610281</td>\n",
       "      <td>-74.605561</td>\n",
       "      <td>12283.0</td>\n",
       "    </tr>\n",
       "  </tbody>\n",
       "</table>\n",
       "</div>"
      ],
      "text/plain": [
       "   Job_Id              Company                   JobTitle  \\\n",
       "0       1   lenano diagnostics  r&d engineer / supervisor   \n",
       "1       2    bloom recruitment           systems engineer   \n",
       "2       3  vanrx pharmasystems     manufacturing engineer   \n",
       "3       4               expleo       hvac system engineer   \n",
       "4       5  noreast electronics        electrical engineer   \n",
       "\n",
       "                         Location                        City Province  \\\n",
       "0                    waterloo, on                    waterloo       on   \n",
       "1                   vancouver, bc                   vancouver       bc   \n",
       "2                   vancouver, bc                   vancouver       bc   \n",
       "3  saint-bruno-de-montarville, qc  saint-bruno-de-montarville       qc   \n",
       "4                  hawkesbury, on                  hawkesbury       on   \n",
       "\n",
       "   location_count        lat        long  population  \n",
       "0               3  43.466874  -80.524635     97475.0  \n",
       "1              15  49.260872 -123.113953    600000.0  \n",
       "2              15  49.260872 -123.113953    600000.0  \n",
       "3               4  45.525616  -73.339180     24388.0  \n",
       "4               1  45.610281  -74.605561     12283.0  "
      ]
     },
     "execution_count": 143,
     "metadata": {},
     "output_type": "execute_result"
    }
   ],
   "source": [
    "df.head()"
   ]
  },
  {
   "cell_type": "markdown",
   "metadata": {},
   "source": [
    "## Visualization"
   ]
  },
  {
   "cell_type": "code",
   "execution_count": 144,
   "metadata": {},
   "outputs": [
    {
     "data": {
      "text/html": [
       "        <script type=\"text/javascript\">\n",
       "        window.PlotlyConfig = {MathJaxConfig: 'local'};\n",
       "        if (window.MathJax) {MathJax.Hub.Config({SVG: {font: \"STIX-Web\"}});}\n",
       "        if (typeof require !== 'undefined') {\n",
       "        require.undef(\"plotly\");\n",
       "        requirejs.config({\n",
       "            paths: {\n",
       "                'plotly': ['https://cdn.plot.ly/plotly-latest.min']\n",
       "            }\n",
       "        });\n",
       "        require(['plotly'], function(Plotly) {\n",
       "            window._Plotly = Plotly;\n",
       "        });\n",
       "        }\n",
       "        </script>\n",
       "        "
      ]
     },
     "metadata": {},
     "output_type": "display_data"
    },
    {
     "data": {
      "application/vnd.plotly.v1+json": {
       "config": {
        "linkText": "Export to plot.ly",
        "plotlyServerURL": "https://plot.ly",
        "showLink": false
       },
       "data": [
        {
         "lat": [
          43.466874,
          49.2608724,
          49.2608724,
          45.5256161,
          45.610281,
          43.6858146,
          49.5107477,
          43.835765,
          43.590338,
          42.9836747,
          42.9746137,
          52.131802,
          43.447436,
          60.721571,
          52.5001698,
          43.590338,
          43.99973,
          43.7543263,
          44.1776378,
          43.880078,
          44.0007518,
          43.590338,
          49.0846258,
          43.3248924,
          43.653963,
          53.535411,
          45.5256161,
          43.653963,
          42.9836747,
          51.766667,
          53.535411,
          53.535411,
          43.590338,
          53.535411,
          47.51822475,
          43.653963,
          43.590338,
          45.421106,
          43.453168,
          50.2238758,
          43.3248924,
          53.535411,
          54.881347,
          49.938848,
          49.246293,
          45.421106,
          45.3724897,
          43.653963,
          45.421106,
          46.332706,
          45.3724897,
          49.246293,
          42.317099,
          50.44876,
          45.5088774,
          44.648618,
          51.0534234,
          43.653963,
          51.0534234,
          43.6534817,
          61.0666922,
          51.0534234,
          43.653963,
          43.3248924,
          43.590338,
          53.535411,
          42.779022,
          49.157677,
          49.2608724,
          43.447436,
          46.137977,
          51.1777781,
          43.8006713,
          45.5088774,
          39.3600507,
          43.7543263,
          50.44876,
          45.421106,
          45.5086157,
          49.1913033,
          43.590338,
          45.60558895,
          48.154177,
          43.7848982,
          43.653963,
          48.406414,
          43.835765,
          49.889326,
          45.3056879,
          53.535411,
          17.6211748,
          56.7291997,
          44.1633264,
          49.8955367,
          44.648618,
          43.6858146,
          49.2608724,
          48.477473,
          51.0534234,
          43.773077,
          43.653963,
          45.421106,
          49.1913033,
          55.001251,
          45.4972159,
          43.3248924,
          45.4566767,
          48.154177,
          43.193234,
          46.581496900000005,
          49.889326,
          44.6799707,
          45.4972159,
          46.581496900000005,
          43.653963,
          42.9836747,
          54.55458,
          43.6858146,
          49.1913033,
          45.421106,
          43.447436,
          49.2433804,
          53.535411,
          49.8955367,
          44.648618,
          45.421106,
          42.9836747,
          62.4710386,
          43.590338,
          44.056258,
          43.880078,
          43.1579812,
          49.163168,
          43.653963,
          61.0666922,
          44.4194642,
          43.653963,
          43.590338,
          43.5460516,
          43.466874,
          46.8259601,
          49.106471850000005,
          51.0534234,
          49.2433804,
          48.4283182,
          49.163168,
          49.2608724,
          60.721571,
          45.4972159,
          39.3600507,
          43.854336,
          43.447436,
          45.5256161,
          52.131802,
          45.3446891,
          47.515751,
          49.2608724,
          45.4972159,
          43.850374,
          45.5042755,
          49.2608724,
          45.4554829,
          43.590338,
          55.1262007,
          43.3248924,
          45.421106,
          44.648618,
          49.972422,
          45.9896587,
          43.447436,
          45.4972159,
          45.8347665,
          45.421106,
          45.4453082,
          43.880078,
          45.4566767,
          42.779022,
          50.000678,
          49.889326,
          49.0521162,
          43.590338,
          45.421106,
          44.1776378,
          45.421106,
          44.056258,
          43.653963,
          46.581496900000005,
          45.421106,
          54.3126572,
          43.880078,
          43.7941544,
          49.2608724,
          49.2433804,
          49.2608724,
          46.7970103,
          45.4972159,
          59.5000147,
          44.6799707,
          43.653963,
          43.3248924,
          61.0666922,
          51.0534234,
          45.4529194,
          44.6799707,
          45.4453082,
          43.590338,
          43.466874,
          49.1913033,
          45.4972159,
          43.453168,
          46.5389609,
          49.2608724,
          49.8955367,
          45.421106,
          43.7848982,
          43.653963,
          50.023071,
          43.653963,
          49.1913033,
          46.581496900000005,
          49.2608724,
          49.2608724,
          44.056258,
          45.4453082,
          45.1384317,
          50.6758269,
          49.2608724,
          43.1579812,
          43.653963,
          49.0846258,
          49.6980743,
          47.369524,
          53.535411,
          49.2608724,
          43.854336,
          46.2307181,
          51.0534234,
          50.000678,
          46.1790983,
          49.2608724,
          43.453168,
          45.4972159,
          45.1275604,
          53.535411,
          42.41833,
          45.278752,
          42.859494,
          50.000678,
          51.28597,
          44.1830254,
          45.421106,
          45.4972159,
          43.875427,
          55.001251,
          43.653963,
          48.4283182,
          61.0666922,
          50.000678,
          59.5000147,
          43.880078,
          45.4972159,
          32.696539,
          49.7641224,
          45.5256161,
          44.648618,
          44.230687,
          45.4972159,
          45.421106,
          43.7848982,
          42.317099,
          45.421106,
          46.71821,
          46.7910096,
          44.1776378,
          52.131802,
          46.7910096,
          43.5460516,
          45.4972159,
          43.854336,
          50.000678,
          44.6092059,
          43.3248924,
          46.097995,
          43.447436,
          61.0666922,
          48.4283182,
          43.1408157,
          49.106471850000005,
          43.1579812,
          45.421106,
          43.3248924,
          50.6536237,
          42.9746137,
          61.0666922,
          43.1408157,
          44.5027226
         ],
         "locationmode": "country names",
         "lon": [
          -80.524635,
          -123.1139529,
          -123.1139529,
          -73.3391798,
          -74.6055611,
          -79.7599337,
          -115.7672772,
          -79.090576,
          -79.645729,
          -81.2496068,
          -82.4065585,
          -106.660767,
          -79.666672,
          -135.054932,
          5.7480821,
          -79.645729,
          -79.467545,
          -79.44911696639593,
          -81.6348713,
          -79.439392,
          -79.4372217,
          -79.645729,
          -123.0579384,
          -79.7966835,
          -79.387207,
          -113.507996,
          -73.3391798,
          -79.387207,
          -81.2496068,
          -104.183333,
          -113.507996,
          -113.507996,
          -79.645729,
          -113.507996,
          -52.81541665213203,
          -79.387207,
          -79.645729,
          -75.690308,
          -80.494423,
          -119.2297404,
          -79.7966835,
          -113.507996,
          -100.020905,
          -56.196442,
          -55.059357,
          -75.690308,
          -73.5704589,
          -79.387207,
          -75.690308,
          -72.556458,
          -73.5704589,
          -55.059357,
          -83.0353434,
          -104.61731,
          -73.6875187,
          -63.5859487,
          -114.0625892,
          -79.387207,
          -114.0625892,
          -79.3839347,
          -107.9917071,
          -114.0625892,
          -79.387207,
          -79.7966835,
          -79.645729,
          -113.507996,
          -81.1929882,
          -121.9514307,
          -123.1139529,
          -79.666672,
          -60.194092,
          -115.5682504,
          -79.4990762,
          -73.6875187,
          -85.9546011,
          -79.44911696639593,
          -104.61731,
          -75.690308,
          -73.5903112,
          -122.8491439,
          -79.645729,
          -73.73441730569056,
          -80.031281,
          -79.5923855,
          -79.387207,
          -89.259796,
          -79.090576,
          -119.498291,
          -73.2533401,
          -113.507996,
          -63.2440504,
          -111.3885221,
          -77.3852556,
          -97.1384584,
          -63.5859487,
          -79.7599337,
          -123.1139529,
          -81.330414,
          -114.0625892,
          -79.257774,
          -79.387207,
          -75.690308,
          -122.8491439,
          -125.002441,
          -73.6103642,
          -79.7966835,
          -73.8067442,
          -80.031281,
          -80.384281,
          -81.06853818206032,
          -119.498291,
          -63.5720232,
          -73.6103642,
          -81.06853818206032,
          -79.387207,
          -81.2496068,
          -130.430605,
          -79.7599337,
          -122.8491439,
          -75.690308,
          -79.666672,
          -122.9725459,
          -113.507996,
          -97.1384584,
          -63.5859487,
          -75.690308,
          -81.2496068,
          -114.4467513,
          -79.645729,
          -79.461708,
          -79.439392,
          -79.2441003,
          -123.137414,
          -79.387207,
          -107.9917071,
          -80.0904451,
          -79.387207,
          -79.645729,
          -80.2493276,
          -80.524635,
          -71.2352226,
          -122.5501311568147,
          -114.0625892,
          -122.9725459,
          -123.3649533,
          -123.137414,
          -123.1139529,
          -135.054932,
          -73.6103642,
          -85.9546011,
          -79.326782,
          -79.666672,
          -73.3391798,
          -106.660767,
          -75.7639408,
          -64.9127856,
          -123.1139529,
          -73.6103642,
          -79.024658,
          -73.4216976,
          -123.1139529,
          -73.4678904,
          -79.645729,
          -120.998067,
          -79.7966835,
          -75.690308,
          -63.5859487,
          -98.289185,
          -94.6113288,
          -79.666672,
          -73.6103642,
          -64.2132284,
          -75.690308,
          -73.7510888,
          -79.439392,
          -73.8067442,
          -81.1929882,
          -86.000977,
          -119.498291,
          -122.3294792,
          -79.645729,
          -75.690308,
          -81.6348713,
          -75.690308,
          -79.461708,
          -79.387207,
          -81.06853818206032,
          -75.690308,
          -130.32549,
          -79.439392,
          -79.5268023,
          -123.1139529,
          -122.9725459,
          -123.1139529,
          -64.0594805,
          -73.6103642,
          -134.2464954,
          -63.5720232,
          -79.387207,
          -79.7966835,
          -107.9917071,
          -114.0625892,
          -73.8647559,
          -63.5720232,
          -73.7510888,
          -79.645729,
          -80.524635,
          -122.8491439,
          -73.6103642,
          -80.494423,
          -72.7467621,
          -123.1139529,
          -97.1384584,
          -75.690308,
          -79.5923855,
          -79.387207,
          -125.2441538,
          -79.387207,
          -122.8491439,
          -81.06853818206032,
          -123.1139529,
          -123.1139529,
          -79.461708,
          -73.7510888,
          -74.3613013,
          -120.3394159,
          -123.1139529,
          -79.2441003,
          -79.387207,
          -123.0579384,
          -123.1558612,
          -70.035095,
          -113.507996,
          -123.1139529,
          -79.326782,
          -61.3056432,
          -114.0625892,
          -86.000977,
          -80.3856069,
          -123.1139529,
          -80.494423,
          -73.6103642,
          -66.8269836,
          -113.507996,
          -82.0898417,
          -66.058044,
          -80.7265015,
          -86.000977,
          -114.01062,
          -76.7756561,
          -75.690308,
          -73.6103642,
          -79.858285,
          -125.002441,
          -79.387207,
          -123.3649533,
          -107.9917071,
          -86.000977,
          -134.2464954,
          -79.439392,
          -73.6103642,
          -92.048699,
          -125.1000444,
          -73.3391798,
          -63.5859487,
          -76.481323,
          -73.6103642,
          -75.690308,
          -79.5923855,
          -83.0353434,
          -75.690308,
          -79.101562,
          -71.1753274,
          -81.6348713,
          -106.660767,
          -71.1753274,
          -80.2493276,
          -73.6103642,
          -79.326782,
          -86.000977,
          -79.4175587,
          -79.7966835,
          -64.80011,
          -79.666672,
          -107.9917071,
          -123.3649533,
          -80.2631733,
          -122.5501311568147,
          -79.2441003,
          -75.690308,
          -79.7966835,
          -102.0763357,
          -82.4065585,
          -107.9917071,
          -80.2631733,
          -80.2172379
         ],
         "marker": {
          "color": [
           3,
           15,
           15,
           4,
           1,
           3,
           1,
           2,
           12,
           4,
           2,
           3,
           6,
           2,
           1,
           12,
           1,
           2,
           3,
           5,
           1,
           12,
           2,
           8,
           17,
           10,
           4,
           17,
           4,
           1,
           10,
           10,
           12,
           10,
           1,
           17,
           12,
           17,
           3,
           1,
           8,
           10,
           1,
           1,
           2,
           17,
           2,
           17,
           17,
           1,
           2,
           2,
           2,
           2,
           2,
           5,
           7,
           17,
           7,
           1,
           6,
           7,
           17,
           8,
           12,
           10,
           2,
           1,
           15,
           6,
           1,
           1,
           1,
           2,
           2,
           2,
           2,
           17,
           1,
           5,
           12,
           1,
           2,
           3,
           17,
           1,
           2,
           3,
           1,
           10,
           1,
           1,
           1,
           3,
           5,
           3,
           15,
           1,
           7,
           1,
           17,
           17,
           5,
           1,
           12,
           8,
           2,
           2,
           1,
           4,
           3,
           3,
           12,
           4,
           17,
           4,
           1,
           3,
           5,
           17,
           6,
           3,
           10,
           3,
           5,
           17,
           4,
           1,
           12,
           3,
           5,
           3,
           2,
           17,
           6,
           1,
           17,
           12,
           2,
           3,
           1,
           2,
           7,
           3,
           3,
           2,
           15,
           2,
           12,
           2,
           3,
           6,
           4,
           3,
           1,
           1,
           15,
           12,
           1,
           1,
           15,
           1,
           12,
           1,
           8,
           17,
           5,
           1,
           1,
           6,
           12,
           1,
           17,
           3,
           5,
           2,
           2,
           4,
           3,
           1,
           12,
           17,
           3,
           17,
           3,
           17,
           4,
           17,
           1,
           5,
           1,
           15,
           3,
           15,
           1,
           12,
           2,
           3,
           17,
           8,
           6,
           7,
           1,
           3,
           3,
           12,
           3,
           5,
           12,
           3,
           1,
           15,
           3,
           17,
           3,
           17,
           1,
           17,
           5,
           4,
           15,
           15,
           3,
           3,
           1,
           1,
           15,
           3,
           17,
           2,
           1,
           1,
           10,
           15,
           3,
           1,
           7,
           1,
           1,
           15,
           3,
           12,
           1,
           10,
           1,
           1,
           1,
           4,
           1,
           1,
           17,
           12,
           1,
           1,
           17,
           3,
           6,
           4,
           2,
           5,
           12,
           1,
           1,
           4,
           5,
           1,
           12,
           17,
           3,
           2,
           17,
           1,
           2,
           3,
           3,
           2,
           2,
           12,
           3,
           4,
           1,
           8,
           1,
           6,
           6,
           3,
           2,
           2,
           3,
           17,
           8,
           1,
           2,
           6,
           2,
           1
          ],
          "colorbar": {
           "tickmode": "array",
           "title": {
            "side": "top",
            "text": "Job_Count"
           }
          },
          "colorscale": [
           [
            0,
            "#440154"
           ],
           [
            0.1111111111111111,
            "#482878"
           ],
           [
            0.2222222222222222,
            "#3e4989"
           ],
           [
            0.3333333333333333,
            "#31688e"
           ],
           [
            0.4444444444444444,
            "#26828e"
           ],
           [
            0.5555555555555556,
            "#1f9e89"
           ],
           [
            0.6666666666666666,
            "#35b779"
           ],
           [
            0.7777777777777778,
            "#6ece58"
           ],
           [
            0.8888888888888888,
            "#b5de2b"
           ],
           [
            1,
            "#fde725"
           ]
          ],
          "size": [
           3,
           15,
           15,
           4,
           1,
           3,
           1,
           2,
           12,
           4,
           2,
           3,
           6,
           2,
           1,
           12,
           1,
           2,
           3,
           5,
           1,
           12,
           2,
           8,
           17,
           10,
           4,
           17,
           4,
           1,
           10,
           10,
           12,
           10,
           1,
           17,
           12,
           17,
           3,
           1,
           8,
           10,
           1,
           1,
           2,
           17,
           2,
           17,
           17,
           1,
           2,
           2,
           2,
           2,
           2,
           5,
           7,
           17,
           7,
           1,
           6,
           7,
           17,
           8,
           12,
           10,
           2,
           1,
           15,
           6,
           1,
           1,
           1,
           2,
           2,
           2,
           2,
           17,
           1,
           5,
           12,
           1,
           2,
           3,
           17,
           1,
           2,
           3,
           1,
           10,
           1,
           1,
           1,
           3,
           5,
           3,
           15,
           1,
           7,
           1,
           17,
           17,
           5,
           1,
           12,
           8,
           2,
           2,
           1,
           4,
           3,
           3,
           12,
           4,
           17,
           4,
           1,
           3,
           5,
           17,
           6,
           3,
           10,
           3,
           5,
           17,
           4,
           1,
           12,
           3,
           5,
           3,
           2,
           17,
           6,
           1,
           17,
           12,
           2,
           3,
           1,
           2,
           7,
           3,
           3,
           2,
           15,
           2,
           12,
           2,
           3,
           6,
           4,
           3,
           1,
           1,
           15,
           12,
           1,
           1,
           15,
           1,
           12,
           1,
           8,
           17,
           5,
           1,
           1,
           6,
           12,
           1,
           17,
           3,
           5,
           2,
           2,
           4,
           3,
           1,
           12,
           17,
           3,
           17,
           3,
           17,
           4,
           17,
           1,
           5,
           1,
           15,
           3,
           15,
           1,
           12,
           2,
           3,
           17,
           8,
           6,
           7,
           1,
           3,
           3,
           12,
           3,
           5,
           12,
           3,
           1,
           15,
           3,
           17,
           3,
           17,
           1,
           17,
           5,
           4,
           15,
           15,
           3,
           3,
           1,
           1,
           15,
           3,
           17,
           2,
           1,
           1,
           10,
           15,
           3,
           1,
           7,
           1,
           1,
           15,
           3,
           12,
           1,
           10,
           1,
           1,
           1,
           4,
           1,
           1,
           17,
           12,
           1,
           1,
           17,
           3,
           6,
           4,
           2,
           5,
           12,
           1,
           1,
           4,
           5,
           1,
           12,
           17,
           3,
           2,
           17,
           1,
           2,
           3,
           3,
           2,
           2,
           12,
           3,
           4,
           1,
           8,
           1,
           6,
           6,
           3,
           2,
           2,
           3,
           17,
           8,
           1,
           2,
           6,
           2,
           1
          ]
         },
         "mode": "markers",
         "text": [
          "waterloo, on, 3",
          "vancouver, bc, 15",
          "vancouver, bc, 15",
          "saint-bruno-de-montarville, qc, 4",
          "hawkesbury, on, 1",
          "brampton, on, 3",
          "cranbrook, bc, 1",
          "pickering, on, 2",
          "mississauga, on, 12",
          "london, on, 4",
          "sarnia, on, 2",
          "saskatoon, sk, 3",
          "oakville, on, 6",
          "whitehorse, yt, 2",
          "nl, 1",
          "mississauga, on, 12",
          "aurora, on, 1",
          "north york, on, 2",
          "kincardine, on, 3",
          "richmond hill, on, 5",
          "york, on, 1",
          "mississauga, on, 12",
          "delta, bc, 2",
          "burlington, on, 8",
          "toronto, on, 17",
          "edmonton, ab, 10",
          "saint-bruno-de-montarville, qc, 4",
          "toronto, on, 17",
          "london, on, 4",
          "wynyard, sk, 1",
          "edmonton, ab, 10",
          "edmonton, ab, 10",
          "mississauga, on, 12",
          "edmonton, ab, 10",
          "mount pearl, nl, 1",
          "toronto, on, 17",
          "mississauga, on, 12",
          "ottawa, on, 17",
          "kitchener, on, 3",
          "coldstream, bc, 1",
          "burlington, on, 8",
          "edmonton, ab, 10",
          "snow lake, mb, 1",
          "baie verte, nl, 1",
          "lewisporte, nl, 2",
          "ottawa, on, 17",
          "saint-constant, qc, 2",
          "toronto, on, 17",
          "ottawa, on, 17",
          "trois-rivières, qc, 1",
          "saint-constant, qc, 2",
          "lewisporte, nl, 2",
          "windsor, on, 2",
          "regina, sk, 2",
          "saint-laurent, qc, 2",
          "halifax, ns, 5",
          "calgary, ab, 7",
          "toronto, on, 17",
          "calgary, ab, 7",
          "toronto, 1",
          "canada, 6",
          "calgary, ab, 7",
          "toronto, on, 17",
          "burlington, on, 8",
          "mississauga, on, 12",
          "edmonton, ab, 10",
          "st. thomas, on, 2",
          "chilliwack, bc, 1",
          "vancouver, bc, 15",
          "oakville, on, 6",
          "sydney, ns, 1",
          "banff, ab, 1",
          "concord, on, 1",
          "saint-laurent, qc, 2",
          "cambridge, on, 2",
          "north york, on, 2",
          "regina, sk, 2",
          "ottawa, on, 17",
          "mont-royal, qc, 1",
          "surrey, bc, 5",
          "mississauga, on, 12",
          "laval, qc, 1",
          "kirkland lake, on, 2",
          "woodbridge, on, 3",
          "toronto, on, 17",
          "thunder bay, on, 1",
          "pickering, on, 2",
          "kelowna, bc, 3",
          "saint-jean-sur-richelieu, qc, 1",
          "edmonton, ab, 10",
          "st. john's, nl, 1",
          "fort mcmurray, ab, 1",
          "belleville, on, 1",
          "winnipeg, mb, 3",
          "halifax, ns, 5",
          "brampton, on, 3",
          "vancouver, bc, 15",
          "timmins, on, 1",
          "calgary, ab, 7",
          "scarborough, on, 1",
          "toronto, on, 17",
          "ottawa, on, 17",
          "surrey, bc, 5",
          "bc, 1",
          "montreal, qc, 12",
          "burlington, on, 8",
          "pointe-claire, qc, 2",
          "kirkland lake, on, 2",
          "paris, on, 1",
          "greater sudbury, on, 4",
          "kelowna, bc, 3",
          "dartmouth, ns, 3",
          "montreal, qc, 12",
          "greater sudbury, on, 4",
          "toronto, on, 17",
          "london, on, 4",
          "lax kw'alaams, bc, 1",
          "brampton, on, 3",
          "surrey, bc, 5",
          "ottawa, on, 17",
          "oakville, on, 6",
          "burnaby, bc, 3",
          "edmonton, ab, 10",
          "winnipeg, mb, 3",
          "halifax, ns, 5",
          "ottawa, on, 17",
          "london, on, 4",
          "yellowknife, nt, 1",
          "mississauga, on, 12",
          "newmarket, on, 3",
          "richmond hill, on, 5",
          "st. catharines, on, 3",
          "richmond, bc, 2",
          "toronto, on, 17",
          "canada, 6",
          "stayner, on, 1",
          "toronto, on, 17",
          "mississauga, on, 12",
          "guelph, on, 2",
          "waterloo, on, 3",
          "quebec city, qc, 1",
          "langley, bc, 2",
          "calgary, ab, 7",
          "burnaby, bc, 3",
          "victoria, bc, 3",
          "richmond, bc, 2",
          "vancouver, bc, 15",
          "whitehorse, yt, 2",
          "montreal, qc, 12",
          "cambridge, on, 2",
          "markham, on, 3",
          "oakville, on, 6",
          "saint-bruno-de-montarville, qc, 4",
          "saskatoon, sk, 3",
          "nepean, on, 1",
          "tracadie-sheila, nb, 1",
          "vancouver, bc, 15",
          "montreal, qc, 12",
          "ajax, on, 1",
          "saint-hubert, qc, 1",
          "vancouver, bc, 15",
          "brossard, qc, 1",
          "mississauga, on, 12",
          "tumbler ridge, bc, 1",
          "burlington, on, 8",
          "ottawa, on, 17",
          "halifax, ns, 5",
          "portage la prairie, mb, 1",
          "mn, 1",
          "oakville, on, 6",
          "montreal, qc, 12",
          "amherst, ns, 1",
          "ottawa, on, 17",
          "dorval, qc, 3",
          "richmond hill, on, 5",
          "pointe-claire, qc, 2",
          "st. thomas, on, 2",
          "on, 4",
          "kelowna, bc, 3",
          "abbotsford, bc, 1",
          "mississauga, on, 12",
          "ottawa, on, 17",
          "kincardine, on, 3",
          "ottawa, on, 17",
          "newmarket, on, 3",
          "toronto, on, 17",
          "greater sudbury, on, 4",
          "ottawa, on, 17",
          "prince rupert, bc, 1",
          "richmond hill, on, 5",
          "vaughan, on, 1",
          "vancouver, bc, 15",
          "burnaby, bc, 3",
          "vancouver, bc, 15",
          "alberton, pe, 1",
          "montreal, qc, 12",
          "engineer, bc, 2",
          "dartmouth, ns, 3",
          "toronto, on, 17",
          "burlington, on, 8",
          "canada, 6",
          "calgary, ab, 7",
          "kirkland, qc, 1",
          "dartmouth, ns, 3",
          "dorval, qc, 3",
          "mississauga, on, 12",
          "waterloo, on, 3",
          "surrey, bc, 5",
          "montreal, qc, 12",
          "kitchener, on, 3",
          "shawinigan, qc, 1",
          "vancouver, bc, 15",
          "winnipeg, mb, 3",
          "ottawa, on, 17",
          "woodbridge, on, 3",
          "toronto, on, 17",
          "campbell river, bc, 1",
          "toronto, on, 17",
          "surrey, bc, 5",
          "greater sudbury, on, 4",
          "vancouver, bc, 15",
          "vancouver, bc, 15",
          "newmarket, on, 3",
          "dorval, qc, 3",
          "saint-anicet, qc, 1",
          "kamloops, bc, 1",
          "vancouver, bc, 15",
          "st. catharines, on, 3",
          "toronto, on, 17",
          "delta, bc, 2",
          "squamish, bc, 1",
          "la pocatiere, qc, 1",
          "edmonton, ab, 10",
          "vancouver, bc, 15",
          "markham, on, 3",
          "inverness, ns, 1",
          "calgary, ab, 7",
          "kanata, on, 1",
          "shanty bay, on, 1",
          "vancouver, bc, 15",
          "kitchener, on, 3",
          "montreal, qc, 12",
          "st. george, nb, 1",
          "edmonton, ab, 10",
          "chatham-kent, on, 1",
          "saint john, nb, 1",
          "tillsonburg, on, 1",
          "on, 4",
          "airdrie, ab, 1",
          "bath, on, 1",
          "ottawa, on, 17",
          "montreal, qc, 12",
          "caledon, on, 1",
          "terrace, bc, 1",
          "toronto, on, 17",
          "victoria, bc, 3",
          "canada, 6",
          "on, 4",
          "engineer, bc, 2",
          "richmond hill, on, 5",
          "montreal, qc, 12",
          "may, on, 1",
          "headquarters, bc, 1",
          "saint-bruno-de-montarville, qc, 4",
          "halifax, ns, 5",
          "kingston, on, 1",
          "montreal, qc, 12",
          "ottawa, on, 17",
          "woodbridge, on, 3",
          "windsor, on, 2",
          "ottawa, on, 17",
          "témiscaming, qc, 1",
          "lévis, qc, 2",
          "kincardine, on, 3",
          "saskatoon, sk, 3",
          "lévis, qc, 2",
          "guelph, on, 2",
          "montreal, qc, 12",
          "markham, on, 3",
          "on, 4",
          "orillia, on, 1",
          "burlington, on, 8",
          "moncton, nb, 1",
          "oakville, on, 6",
          "canada, 6",
          "victoria, bc, 3",
          "brantford, on, 2",
          "langley, bc, 2",
          "st. catharines, on, 3",
          "ottawa, on, 17",
          "burlington, on, 8",
          "esterhazy, sk, 1",
          "sarnia, on, 2",
          "canada, 6",
          "brantford, on, 2",
          "collingwood, on, 1"
         ],
         "type": "scattergeo"
        }
       ],
       "layout": {
        "autosize": true,
        "geo": {
         "countrycolor": "rgb(217, 217, 217)",
         "countrywidth": 0.5,
         "landcolor": "rgb(250, 250, 250)",
         "projection": {
          "type": "equirectangular"
         },
         "scope": "north america",
         "showland": true,
         "subunitcolor": "rgb(217, 217, 217)",
         "subunitwidth": 0.5
        },
        "template": {
         "data": {
          "bar": [
           {
            "error_x": {
             "color": "#2a3f5f"
            },
            "error_y": {
             "color": "#2a3f5f"
            },
            "marker": {
             "line": {
              "color": "#E5ECF6",
              "width": 0.5
             }
            },
            "type": "bar"
           }
          ],
          "barpolar": [
           {
            "marker": {
             "line": {
              "color": "#E5ECF6",
              "width": 0.5
             }
            },
            "type": "barpolar"
           }
          ],
          "carpet": [
           {
            "aaxis": {
             "endlinecolor": "#2a3f5f",
             "gridcolor": "white",
             "linecolor": "white",
             "minorgridcolor": "white",
             "startlinecolor": "#2a3f5f"
            },
            "baxis": {
             "endlinecolor": "#2a3f5f",
             "gridcolor": "white",
             "linecolor": "white",
             "minorgridcolor": "white",
             "startlinecolor": "#2a3f5f"
            },
            "type": "carpet"
           }
          ],
          "choropleth": [
           {
            "colorbar": {
             "outlinewidth": 0,
             "ticks": ""
            },
            "type": "choropleth"
           }
          ],
          "contour": [
           {
            "colorbar": {
             "outlinewidth": 0,
             "ticks": ""
            },
            "colorscale": [
             [
              0,
              "#0d0887"
             ],
             [
              0.1111111111111111,
              "#46039f"
             ],
             [
              0.2222222222222222,
              "#7201a8"
             ],
             [
              0.3333333333333333,
              "#9c179e"
             ],
             [
              0.4444444444444444,
              "#bd3786"
             ],
             [
              0.5555555555555556,
              "#d8576b"
             ],
             [
              0.6666666666666666,
              "#ed7953"
             ],
             [
              0.7777777777777778,
              "#fb9f3a"
             ],
             [
              0.8888888888888888,
              "#fdca26"
             ],
             [
              1,
              "#f0f921"
             ]
            ],
            "type": "contour"
           }
          ],
          "contourcarpet": [
           {
            "colorbar": {
             "outlinewidth": 0,
             "ticks": ""
            },
            "type": "contourcarpet"
           }
          ],
          "heatmap": [
           {
            "colorbar": {
             "outlinewidth": 0,
             "ticks": ""
            },
            "colorscale": [
             [
              0,
              "#0d0887"
             ],
             [
              0.1111111111111111,
              "#46039f"
             ],
             [
              0.2222222222222222,
              "#7201a8"
             ],
             [
              0.3333333333333333,
              "#9c179e"
             ],
             [
              0.4444444444444444,
              "#bd3786"
             ],
             [
              0.5555555555555556,
              "#d8576b"
             ],
             [
              0.6666666666666666,
              "#ed7953"
             ],
             [
              0.7777777777777778,
              "#fb9f3a"
             ],
             [
              0.8888888888888888,
              "#fdca26"
             ],
             [
              1,
              "#f0f921"
             ]
            ],
            "type": "heatmap"
           }
          ],
          "heatmapgl": [
           {
            "colorbar": {
             "outlinewidth": 0,
             "ticks": ""
            },
            "colorscale": [
             [
              0,
              "#0d0887"
             ],
             [
              0.1111111111111111,
              "#46039f"
             ],
             [
              0.2222222222222222,
              "#7201a8"
             ],
             [
              0.3333333333333333,
              "#9c179e"
             ],
             [
              0.4444444444444444,
              "#bd3786"
             ],
             [
              0.5555555555555556,
              "#d8576b"
             ],
             [
              0.6666666666666666,
              "#ed7953"
             ],
             [
              0.7777777777777778,
              "#fb9f3a"
             ],
             [
              0.8888888888888888,
              "#fdca26"
             ],
             [
              1,
              "#f0f921"
             ]
            ],
            "type": "heatmapgl"
           }
          ],
          "histogram": [
           {
            "marker": {
             "colorbar": {
              "outlinewidth": 0,
              "ticks": ""
             }
            },
            "type": "histogram"
           }
          ],
          "histogram2d": [
           {
            "colorbar": {
             "outlinewidth": 0,
             "ticks": ""
            },
            "colorscale": [
             [
              0,
              "#0d0887"
             ],
             [
              0.1111111111111111,
              "#46039f"
             ],
             [
              0.2222222222222222,
              "#7201a8"
             ],
             [
              0.3333333333333333,
              "#9c179e"
             ],
             [
              0.4444444444444444,
              "#bd3786"
             ],
             [
              0.5555555555555556,
              "#d8576b"
             ],
             [
              0.6666666666666666,
              "#ed7953"
             ],
             [
              0.7777777777777778,
              "#fb9f3a"
             ],
             [
              0.8888888888888888,
              "#fdca26"
             ],
             [
              1,
              "#f0f921"
             ]
            ],
            "type": "histogram2d"
           }
          ],
          "histogram2dcontour": [
           {
            "colorbar": {
             "outlinewidth": 0,
             "ticks": ""
            },
            "colorscale": [
             [
              0,
              "#0d0887"
             ],
             [
              0.1111111111111111,
              "#46039f"
             ],
             [
              0.2222222222222222,
              "#7201a8"
             ],
             [
              0.3333333333333333,
              "#9c179e"
             ],
             [
              0.4444444444444444,
              "#bd3786"
             ],
             [
              0.5555555555555556,
              "#d8576b"
             ],
             [
              0.6666666666666666,
              "#ed7953"
             ],
             [
              0.7777777777777778,
              "#fb9f3a"
             ],
             [
              0.8888888888888888,
              "#fdca26"
             ],
             [
              1,
              "#f0f921"
             ]
            ],
            "type": "histogram2dcontour"
           }
          ],
          "mesh3d": [
           {
            "colorbar": {
             "outlinewidth": 0,
             "ticks": ""
            },
            "type": "mesh3d"
           }
          ],
          "parcoords": [
           {
            "line": {
             "colorbar": {
              "outlinewidth": 0,
              "ticks": ""
             }
            },
            "type": "parcoords"
           }
          ],
          "pie": [
           {
            "automargin": true,
            "type": "pie"
           }
          ],
          "scatter": [
           {
            "marker": {
             "colorbar": {
              "outlinewidth": 0,
              "ticks": ""
             }
            },
            "type": "scatter"
           }
          ],
          "scatter3d": [
           {
            "line": {
             "colorbar": {
              "outlinewidth": 0,
              "ticks": ""
             }
            },
            "marker": {
             "colorbar": {
              "outlinewidth": 0,
              "ticks": ""
             }
            },
            "type": "scatter3d"
           }
          ],
          "scattercarpet": [
           {
            "marker": {
             "colorbar": {
              "outlinewidth": 0,
              "ticks": ""
             }
            },
            "type": "scattercarpet"
           }
          ],
          "scattergeo": [
           {
            "marker": {
             "colorbar": {
              "outlinewidth": 0,
              "ticks": ""
             }
            },
            "type": "scattergeo"
           }
          ],
          "scattergl": [
           {
            "marker": {
             "colorbar": {
              "outlinewidth": 0,
              "ticks": ""
             }
            },
            "type": "scattergl"
           }
          ],
          "scattermapbox": [
           {
            "marker": {
             "colorbar": {
              "outlinewidth": 0,
              "ticks": ""
             }
            },
            "type": "scattermapbox"
           }
          ],
          "scatterpolar": [
           {
            "marker": {
             "colorbar": {
              "outlinewidth": 0,
              "ticks": ""
             }
            },
            "type": "scatterpolar"
           }
          ],
          "scatterpolargl": [
           {
            "marker": {
             "colorbar": {
              "outlinewidth": 0,
              "ticks": ""
             }
            },
            "type": "scatterpolargl"
           }
          ],
          "scatterternary": [
           {
            "marker": {
             "colorbar": {
              "outlinewidth": 0,
              "ticks": ""
             }
            },
            "type": "scatterternary"
           }
          ],
          "surface": [
           {
            "colorbar": {
             "outlinewidth": 0,
             "ticks": ""
            },
            "colorscale": [
             [
              0,
              "#0d0887"
             ],
             [
              0.1111111111111111,
              "#46039f"
             ],
             [
              0.2222222222222222,
              "#7201a8"
             ],
             [
              0.3333333333333333,
              "#9c179e"
             ],
             [
              0.4444444444444444,
              "#bd3786"
             ],
             [
              0.5555555555555556,
              "#d8576b"
             ],
             [
              0.6666666666666666,
              "#ed7953"
             ],
             [
              0.7777777777777778,
              "#fb9f3a"
             ],
             [
              0.8888888888888888,
              "#fdca26"
             ],
             [
              1,
              "#f0f921"
             ]
            ],
            "type": "surface"
           }
          ],
          "table": [
           {
            "cells": {
             "fill": {
              "color": "#EBF0F8"
             },
             "line": {
              "color": "white"
             }
            },
            "header": {
             "fill": {
              "color": "#C8D4E3"
             },
             "line": {
              "color": "white"
             }
            },
            "type": "table"
           }
          ]
         },
         "layout": {
          "annotationdefaults": {
           "arrowcolor": "#2a3f5f",
           "arrowhead": 0,
           "arrowwidth": 1
          },
          "coloraxis": {
           "colorbar": {
            "outlinewidth": 0,
            "ticks": ""
           }
          },
          "colorscale": {
           "diverging": [
            [
             0,
             "#8e0152"
            ],
            [
             0.1,
             "#c51b7d"
            ],
            [
             0.2,
             "#de77ae"
            ],
            [
             0.3,
             "#f1b6da"
            ],
            [
             0.4,
             "#fde0ef"
            ],
            [
             0.5,
             "#f7f7f7"
            ],
            [
             0.6,
             "#e6f5d0"
            ],
            [
             0.7,
             "#b8e186"
            ],
            [
             0.8,
             "#7fbc41"
            ],
            [
             0.9,
             "#4d9221"
            ],
            [
             1,
             "#276419"
            ]
           ],
           "sequential": [
            [
             0,
             "#0d0887"
            ],
            [
             0.1111111111111111,
             "#46039f"
            ],
            [
             0.2222222222222222,
             "#7201a8"
            ],
            [
             0.3333333333333333,
             "#9c179e"
            ],
            [
             0.4444444444444444,
             "#bd3786"
            ],
            [
             0.5555555555555556,
             "#d8576b"
            ],
            [
             0.6666666666666666,
             "#ed7953"
            ],
            [
             0.7777777777777778,
             "#fb9f3a"
            ],
            [
             0.8888888888888888,
             "#fdca26"
            ],
            [
             1,
             "#f0f921"
            ]
           ],
           "sequentialminus": [
            [
             0,
             "#0d0887"
            ],
            [
             0.1111111111111111,
             "#46039f"
            ],
            [
             0.2222222222222222,
             "#7201a8"
            ],
            [
             0.3333333333333333,
             "#9c179e"
            ],
            [
             0.4444444444444444,
             "#bd3786"
            ],
            [
             0.5555555555555556,
             "#d8576b"
            ],
            [
             0.6666666666666666,
             "#ed7953"
            ],
            [
             0.7777777777777778,
             "#fb9f3a"
            ],
            [
             0.8888888888888888,
             "#fdca26"
            ],
            [
             1,
             "#f0f921"
            ]
           ]
          },
          "colorway": [
           "#636efa",
           "#EF553B",
           "#00cc96",
           "#ab63fa",
           "#FFA15A",
           "#19d3f3",
           "#FF6692",
           "#B6E880",
           "#FF97FF",
           "#FECB52"
          ],
          "font": {
           "color": "#2a3f5f"
          },
          "geo": {
           "bgcolor": "white",
           "lakecolor": "white",
           "landcolor": "#E5ECF6",
           "showlakes": true,
           "showland": true,
           "subunitcolor": "white"
          },
          "hoverlabel": {
           "align": "left"
          },
          "hovermode": "closest",
          "mapbox": {
           "style": "light"
          },
          "paper_bgcolor": "white",
          "plot_bgcolor": "#E5ECF6",
          "polar": {
           "angularaxis": {
            "gridcolor": "white",
            "linecolor": "white",
            "ticks": ""
           },
           "bgcolor": "#E5ECF6",
           "radialaxis": {
            "gridcolor": "white",
            "linecolor": "white",
            "ticks": ""
           }
          },
          "scene": {
           "xaxis": {
            "backgroundcolor": "#E5ECF6",
            "gridcolor": "white",
            "gridwidth": 2,
            "linecolor": "white",
            "showbackground": true,
            "ticks": "",
            "zerolinecolor": "white"
           },
           "yaxis": {
            "backgroundcolor": "#E5ECF6",
            "gridcolor": "white",
            "gridwidth": 2,
            "linecolor": "white",
            "showbackground": true,
            "ticks": "",
            "zerolinecolor": "white"
           },
           "zaxis": {
            "backgroundcolor": "#E5ECF6",
            "gridcolor": "white",
            "gridwidth": 2,
            "linecolor": "white",
            "showbackground": true,
            "ticks": "",
            "zerolinecolor": "white"
           }
          },
          "shapedefaults": {
           "line": {
            "color": "#2a3f5f"
           }
          },
          "ternary": {
           "aaxis": {
            "gridcolor": "white",
            "linecolor": "white",
            "ticks": ""
           },
           "baxis": {
            "gridcolor": "white",
            "linecolor": "white",
            "ticks": ""
           },
           "bgcolor": "#E5ECF6",
           "caxis": {
            "gridcolor": "white",
            "linecolor": "white",
            "ticks": ""
           }
          },
          "title": {
           "x": 0.05
          },
          "xaxis": {
           "automargin": true,
           "gridcolor": "white",
           "linecolor": "white",
           "ticks": "",
           "title": {
            "standoff": 15
           },
           "zerolinecolor": "white",
           "zerolinewidth": 2
          },
          "yaxis": {
           "automargin": true,
           "gridcolor": "white",
           "linecolor": "white",
           "ticks": "",
           "title": {
            "standoff": 15
           },
           "zerolinecolor": "white",
           "zerolinewidth": 2
          }
         }
        },
        "title": {
         "text": "Job locations"
        }
       }
      },
      "text/html": [
       "<div>\n",
       "        \n",
       "        \n",
       "            <div id=\"ff555d90-fc70-48df-b1cf-519ada75e70d\" class=\"plotly-graph-div\" style=\"height:525px; width:100%;\"></div>\n",
       "            <script type=\"text/javascript\">\n",
       "                require([\"plotly\"], function(Plotly) {\n",
       "                    window.PLOTLYENV=window.PLOTLYENV || {};\n",
       "                    \n",
       "                if (document.getElementById(\"ff555d90-fc70-48df-b1cf-519ada75e70d\")) {\n",
       "                    Plotly.newPlot(\n",
       "                        'ff555d90-fc70-48df-b1cf-519ada75e70d',\n",
       "                        [{\"lat\": [43.466874, 49.2608724, 49.2608724, 45.5256161, 45.610281, 43.6858146, 49.5107477, 43.835765, 43.590338, 42.9836747, 42.9746137, 52.131802, 43.447436, 60.721571, 52.5001698, 43.590338, 43.99973, 43.7543263, 44.1776378, 43.880078, 44.0007518, 43.590338, 49.0846258, 43.3248924, 43.653963, 53.535411, 45.5256161, 43.653963, 42.9836747, 51.766667, 53.535411, 53.535411, 43.590338, 53.535411, 47.51822475, 43.653963, 43.590338, 45.421106, 43.453168, 50.2238758, 43.3248924, 53.535411, 54.881347, 49.938848, 49.246293, 45.421106, 45.3724897, 43.653963, 45.421106, 46.332706, 45.3724897, 49.246293, 42.317099, 50.44876, 45.5088774, 44.648618, 51.0534234, 43.653963, 51.0534234, 43.6534817, 61.0666922, 51.0534234, 43.653963, 43.3248924, 43.590338, 53.535411, 42.779022, 49.157677, 49.2608724, 43.447436, 46.137977, 51.1777781, 43.8006713, 45.5088774, 39.3600507, 43.7543263, 50.44876, 45.421106, 45.5086157, 49.1913033, 43.590338, 45.60558895, 48.154177, 43.7848982, 43.653963, 48.406414, 43.835765, 49.889326, 45.3056879, 53.535411, 17.6211748, 56.7291997, 44.1633264, 49.8955367, 44.648618, 43.6858146, 49.2608724, 48.477473, 51.0534234, 43.773077, 43.653963, 45.421106, 49.1913033, 55.001251, 45.4972159, 43.3248924, 45.4566767, 48.154177, 43.193234, 46.581496900000005, 49.889326, 44.6799707, 45.4972159, 46.581496900000005, 43.653963, 42.9836747, 54.55458, 43.6858146, 49.1913033, 45.421106, 43.447436, 49.2433804, 53.535411, 49.8955367, 44.648618, 45.421106, 42.9836747, 62.4710386, 43.590338, 44.056258, 43.880078, 43.1579812, 49.163168, 43.653963, 61.0666922, 44.4194642, 43.653963, 43.590338, 43.5460516, 43.466874, 46.8259601, 49.106471850000005, 51.0534234, 49.2433804, 48.4283182, 49.163168, 49.2608724, 60.721571, 45.4972159, 39.3600507, 43.854336, 43.447436, 45.5256161, 52.131802, 45.3446891, 47.515751, 49.2608724, 45.4972159, 43.850374, 45.5042755, 49.2608724, 45.4554829, 43.590338, 55.1262007, 43.3248924, 45.421106, 44.648618, 49.972422, 45.9896587, 43.447436, 45.4972159, 45.8347665, 45.421106, 45.4453082, 43.880078, 45.4566767, 42.779022, 50.000678, 49.889326, 49.0521162, 43.590338, 45.421106, 44.1776378, 45.421106, 44.056258, 43.653963, 46.581496900000005, 45.421106, 54.3126572, 43.880078, 43.7941544, 49.2608724, 49.2433804, 49.2608724, 46.7970103, 45.4972159, 59.5000147, 44.6799707, 43.653963, 43.3248924, 61.0666922, 51.0534234, 45.4529194, 44.6799707, 45.4453082, 43.590338, 43.466874, 49.1913033, 45.4972159, 43.453168, 46.5389609, 49.2608724, 49.8955367, 45.421106, 43.7848982, 43.653963, 50.023071, 43.653963, 49.1913033, 46.581496900000005, 49.2608724, 49.2608724, 44.056258, 45.4453082, 45.1384317, 50.6758269, 49.2608724, 43.1579812, 43.653963, 49.0846258, 49.6980743, 47.369524, 53.535411, 49.2608724, 43.854336, 46.2307181, 51.0534234, 50.000678, 46.1790983, 49.2608724, 43.453168, 45.4972159, 45.1275604, 53.535411, 42.41833, 45.278752, 42.859494, 50.000678, 51.28597, 44.1830254, 45.421106, 45.4972159, 43.875427, 55.001251, 43.653963, 48.4283182, 61.0666922, 50.000678, 59.5000147, 43.880078, 45.4972159, 32.696539, 49.7641224, 45.5256161, 44.648618, 44.230687, 45.4972159, 45.421106, 43.7848982, 42.317099, 45.421106, 46.71821, 46.7910096, 44.1776378, 52.131802, 46.7910096, 43.5460516, 45.4972159, 43.854336, 50.000678, 44.6092059, 43.3248924, 46.097995, 43.447436, 61.0666922, 48.4283182, 43.1408157, 49.106471850000005, 43.1579812, 45.421106, 43.3248924, 50.6536237, 42.9746137, 61.0666922, 43.1408157, 44.5027226], \"locationmode\": \"country names\", \"lon\": [-80.524635, -123.1139529, -123.1139529, -73.3391798, -74.6055611, -79.7599337, -115.7672772, -79.090576, -79.645729, -81.2496068, -82.4065585, -106.660767, -79.666672, -135.054932, 5.7480821, -79.645729, -79.467545, -79.44911696639593, -81.6348713, -79.439392, -79.4372217, -79.645729, -123.0579384, -79.7966835, -79.387207, -113.507996, -73.3391798, -79.387207, -81.2496068, -104.183333, -113.507996, -113.507996, -79.645729, -113.507996, -52.81541665213203, -79.387207, -79.645729, -75.690308, -80.494423, -119.2297404, -79.7966835, -113.507996, -100.020905, -56.196442, -55.059357, -75.690308, -73.5704589, -79.387207, -75.690308, -72.556458, -73.5704589, -55.059357, -83.0353434, -104.61731, -73.6875187, -63.5859487, -114.0625892, -79.387207, -114.0625892, -79.3839347, -107.9917071, -114.0625892, -79.387207, -79.7966835, -79.645729, -113.507996, -81.1929882, -121.9514307, -123.1139529, -79.666672, -60.194092, -115.5682504, -79.4990762, -73.6875187, -85.9546011, -79.44911696639593, -104.61731, -75.690308, -73.5903112, -122.8491439, -79.645729, -73.73441730569056, -80.031281, -79.5923855, -79.387207, -89.259796, -79.090576, -119.498291, -73.2533401, -113.507996, -63.2440504, -111.3885221, -77.3852556, -97.1384584, -63.5859487, -79.7599337, -123.1139529, -81.330414, -114.0625892, -79.257774, -79.387207, -75.690308, -122.8491439, -125.002441, -73.6103642, -79.7966835, -73.8067442, -80.031281, -80.384281, -81.06853818206032, -119.498291, -63.5720232, -73.6103642, -81.06853818206032, -79.387207, -81.2496068, -130.430605, -79.7599337, -122.8491439, -75.690308, -79.666672, -122.9725459, -113.507996, -97.1384584, -63.5859487, -75.690308, -81.2496068, -114.4467513, -79.645729, -79.461708, -79.439392, -79.2441003, -123.137414, -79.387207, -107.9917071, -80.0904451, -79.387207, -79.645729, -80.2493276, -80.524635, -71.2352226, -122.5501311568147, -114.0625892, -122.9725459, -123.3649533, -123.137414, -123.1139529, -135.054932, -73.6103642, -85.9546011, -79.326782, -79.666672, -73.3391798, -106.660767, -75.7639408, -64.9127856, -123.1139529, -73.6103642, -79.024658, -73.4216976, -123.1139529, -73.4678904, -79.645729, -120.998067, -79.7966835, -75.690308, -63.5859487, -98.289185, -94.6113288, -79.666672, -73.6103642, -64.2132284, -75.690308, -73.7510888, -79.439392, -73.8067442, -81.1929882, -86.000977, -119.498291, -122.3294792, -79.645729, -75.690308, -81.6348713, -75.690308, -79.461708, -79.387207, -81.06853818206032, -75.690308, -130.32549, -79.439392, -79.5268023, -123.1139529, -122.9725459, -123.1139529, -64.0594805, -73.6103642, -134.2464954, -63.5720232, -79.387207, -79.7966835, -107.9917071, -114.0625892, -73.8647559, -63.5720232, -73.7510888, -79.645729, -80.524635, -122.8491439, -73.6103642, -80.494423, -72.7467621, -123.1139529, -97.1384584, -75.690308, -79.5923855, -79.387207, -125.2441538, -79.387207, -122.8491439, -81.06853818206032, -123.1139529, -123.1139529, -79.461708, -73.7510888, -74.3613013, -120.3394159, -123.1139529, -79.2441003, -79.387207, -123.0579384, -123.1558612, -70.035095, -113.507996, -123.1139529, -79.326782, -61.3056432, -114.0625892, -86.000977, -80.3856069, -123.1139529, -80.494423, -73.6103642, -66.8269836, -113.507996, -82.0898417, -66.058044, -80.7265015, -86.000977, -114.01062, -76.7756561, -75.690308, -73.6103642, -79.858285, -125.002441, -79.387207, -123.3649533, -107.9917071, -86.000977, -134.2464954, -79.439392, -73.6103642, -92.048699, -125.1000444, -73.3391798, -63.5859487, -76.481323, -73.6103642, -75.690308, -79.5923855, -83.0353434, -75.690308, -79.101562, -71.1753274, -81.6348713, -106.660767, -71.1753274, -80.2493276, -73.6103642, -79.326782, -86.000977, -79.4175587, -79.7966835, -64.80011, -79.666672, -107.9917071, -123.3649533, -80.2631733, -122.5501311568147, -79.2441003, -75.690308, -79.7966835, -102.0763357, -82.4065585, -107.9917071, -80.2631733, -80.2172379], \"marker\": {\"color\": [3, 15, 15, 4, 1, 3, 1, 2, 12, 4, 2, 3, 6, 2, 1, 12, 1, 2, 3, 5, 1, 12, 2, 8, 17, 10, 4, 17, 4, 1, 10, 10, 12, 10, 1, 17, 12, 17, 3, 1, 8, 10, 1, 1, 2, 17, 2, 17, 17, 1, 2, 2, 2, 2, 2, 5, 7, 17, 7, 1, 6, 7, 17, 8, 12, 10, 2, 1, 15, 6, 1, 1, 1, 2, 2, 2, 2, 17, 1, 5, 12, 1, 2, 3, 17, 1, 2, 3, 1, 10, 1, 1, 1, 3, 5, 3, 15, 1, 7, 1, 17, 17, 5, 1, 12, 8, 2, 2, 1, 4, 3, 3, 12, 4, 17, 4, 1, 3, 5, 17, 6, 3, 10, 3, 5, 17, 4, 1, 12, 3, 5, 3, 2, 17, 6, 1, 17, 12, 2, 3, 1, 2, 7, 3, 3, 2, 15, 2, 12, 2, 3, 6, 4, 3, 1, 1, 15, 12, 1, 1, 15, 1, 12, 1, 8, 17, 5, 1, 1, 6, 12, 1, 17, 3, 5, 2, 2, 4, 3, 1, 12, 17, 3, 17, 3, 17, 4, 17, 1, 5, 1, 15, 3, 15, 1, 12, 2, 3, 17, 8, 6, 7, 1, 3, 3, 12, 3, 5, 12, 3, 1, 15, 3, 17, 3, 17, 1, 17, 5, 4, 15, 15, 3, 3, 1, 1, 15, 3, 17, 2, 1, 1, 10, 15, 3, 1, 7, 1, 1, 15, 3, 12, 1, 10, 1, 1, 1, 4, 1, 1, 17, 12, 1, 1, 17, 3, 6, 4, 2, 5, 12, 1, 1, 4, 5, 1, 12, 17, 3, 2, 17, 1, 2, 3, 3, 2, 2, 12, 3, 4, 1, 8, 1, 6, 6, 3, 2, 2, 3, 17, 8, 1, 2, 6, 2, 1], \"colorbar\": {\"tickmode\": \"array\", \"title\": {\"side\": \"top\", \"text\": \"Job_Count\"}}, \"colorscale\": [[0.0, \"#440154\"], [0.1111111111111111, \"#482878\"], [0.2222222222222222, \"#3e4989\"], [0.3333333333333333, \"#31688e\"], [0.4444444444444444, \"#26828e\"], [0.5555555555555556, \"#1f9e89\"], [0.6666666666666666, \"#35b779\"], [0.7777777777777778, \"#6ece58\"], [0.8888888888888888, \"#b5de2b\"], [1.0, \"#fde725\"]], \"size\": [3, 15, 15, 4, 1, 3, 1, 2, 12, 4, 2, 3, 6, 2, 1, 12, 1, 2, 3, 5, 1, 12, 2, 8, 17, 10, 4, 17, 4, 1, 10, 10, 12, 10, 1, 17, 12, 17, 3, 1, 8, 10, 1, 1, 2, 17, 2, 17, 17, 1, 2, 2, 2, 2, 2, 5, 7, 17, 7, 1, 6, 7, 17, 8, 12, 10, 2, 1, 15, 6, 1, 1, 1, 2, 2, 2, 2, 17, 1, 5, 12, 1, 2, 3, 17, 1, 2, 3, 1, 10, 1, 1, 1, 3, 5, 3, 15, 1, 7, 1, 17, 17, 5, 1, 12, 8, 2, 2, 1, 4, 3, 3, 12, 4, 17, 4, 1, 3, 5, 17, 6, 3, 10, 3, 5, 17, 4, 1, 12, 3, 5, 3, 2, 17, 6, 1, 17, 12, 2, 3, 1, 2, 7, 3, 3, 2, 15, 2, 12, 2, 3, 6, 4, 3, 1, 1, 15, 12, 1, 1, 15, 1, 12, 1, 8, 17, 5, 1, 1, 6, 12, 1, 17, 3, 5, 2, 2, 4, 3, 1, 12, 17, 3, 17, 3, 17, 4, 17, 1, 5, 1, 15, 3, 15, 1, 12, 2, 3, 17, 8, 6, 7, 1, 3, 3, 12, 3, 5, 12, 3, 1, 15, 3, 17, 3, 17, 1, 17, 5, 4, 15, 15, 3, 3, 1, 1, 15, 3, 17, 2, 1, 1, 10, 15, 3, 1, 7, 1, 1, 15, 3, 12, 1, 10, 1, 1, 1, 4, 1, 1, 17, 12, 1, 1, 17, 3, 6, 4, 2, 5, 12, 1, 1, 4, 5, 1, 12, 17, 3, 2, 17, 1, 2, 3, 3, 2, 2, 12, 3, 4, 1, 8, 1, 6, 6, 3, 2, 2, 3, 17, 8, 1, 2, 6, 2, 1]}, \"mode\": \"markers\", \"text\": [\"waterloo, on, 3\", \"vancouver, bc, 15\", \"vancouver, bc, 15\", \"saint-bruno-de-montarville, qc, 4\", \"hawkesbury, on, 1\", \"brampton, on, 3\", \"cranbrook, bc, 1\", \"pickering, on, 2\", \"mississauga, on, 12\", \"london, on, 4\", \"sarnia, on, 2\", \"saskatoon, sk, 3\", \"oakville, on, 6\", \"whitehorse, yt, 2\", \"nl, 1\", \"mississauga, on, 12\", \"aurora, on, 1\", \"north york, on, 2\", \"kincardine, on, 3\", \"richmond hill, on, 5\", \"york, on, 1\", \"mississauga, on, 12\", \"delta, bc, 2\", \"burlington, on, 8\", \"toronto, on, 17\", \"edmonton, ab, 10\", \"saint-bruno-de-montarville, qc, 4\", \"toronto, on, 17\", \"london, on, 4\", \"wynyard, sk, 1\", \"edmonton, ab, 10\", \"edmonton, ab, 10\", \"mississauga, on, 12\", \"edmonton, ab, 10\", \"mount pearl, nl, 1\", \"toronto, on, 17\", \"mississauga, on, 12\", \"ottawa, on, 17\", \"kitchener, on, 3\", \"coldstream, bc, 1\", \"burlington, on, 8\", \"edmonton, ab, 10\", \"snow lake, mb, 1\", \"baie verte, nl, 1\", \"lewisporte, nl, 2\", \"ottawa, on, 17\", \"saint-constant, qc, 2\", \"toronto, on, 17\", \"ottawa, on, 17\", \"trois-rivi\\u00e8res, qc, 1\", \"saint-constant, qc, 2\", \"lewisporte, nl, 2\", \"windsor, on, 2\", \"regina, sk, 2\", \"saint-laurent, qc, 2\", \"halifax, ns, 5\", \"calgary, ab, 7\", \"toronto, on, 17\", \"calgary, ab, 7\", \"toronto, 1\", \"canada, 6\", \"calgary, ab, 7\", \"toronto, on, 17\", \"burlington, on, 8\", \"mississauga, on, 12\", \"edmonton, ab, 10\", \"st. thomas, on, 2\", \"chilliwack, bc, 1\", \"vancouver, bc, 15\", \"oakville, on, 6\", \"sydney, ns, 1\", \"banff, ab, 1\", \"concord, on, 1\", \"saint-laurent, qc, 2\", \"cambridge, on, 2\", \"north york, on, 2\", \"regina, sk, 2\", \"ottawa, on, 17\", \"mont-royal, qc, 1\", \"surrey, bc, 5\", \"mississauga, on, 12\", \"laval, qc, 1\", \"kirkland lake, on, 2\", \"woodbridge, on, 3\", \"toronto, on, 17\", \"thunder bay, on, 1\", \"pickering, on, 2\", \"kelowna, bc, 3\", \"saint-jean-sur-richelieu, qc, 1\", \"edmonton, ab, 10\", \"st. john's, nl, 1\", \"fort mcmurray, ab, 1\", \"belleville, on, 1\", \"winnipeg, mb, 3\", \"halifax, ns, 5\", \"brampton, on, 3\", \"vancouver, bc, 15\", \"timmins, on, 1\", \"calgary, ab, 7\", \"scarborough, on, 1\", \"toronto, on, 17\", \"ottawa, on, 17\", \"surrey, bc, 5\", \"bc, 1\", \"montreal, qc, 12\", \"burlington, on, 8\", \"pointe-claire, qc, 2\", \"kirkland lake, on, 2\", \"paris, on, 1\", \"greater sudbury, on, 4\", \"kelowna, bc, 3\", \"dartmouth, ns, 3\", \"montreal, qc, 12\", \"greater sudbury, on, 4\", \"toronto, on, 17\", \"london, on, 4\", \"lax kw'alaams, bc, 1\", \"brampton, on, 3\", \"surrey, bc, 5\", \"ottawa, on, 17\", \"oakville, on, 6\", \"burnaby, bc, 3\", \"edmonton, ab, 10\", \"winnipeg, mb, 3\", \"halifax, ns, 5\", \"ottawa, on, 17\", \"london, on, 4\", \"yellowknife, nt, 1\", \"mississauga, on, 12\", \"newmarket, on, 3\", \"richmond hill, on, 5\", \"st. catharines, on, 3\", \"richmond, bc, 2\", \"toronto, on, 17\", \"canada, 6\", \"stayner, on, 1\", \"toronto, on, 17\", \"mississauga, on, 12\", \"guelph, on, 2\", \"waterloo, on, 3\", \"quebec city, qc, 1\", \"langley, bc, 2\", \"calgary, ab, 7\", \"burnaby, bc, 3\", \"victoria, bc, 3\", \"richmond, bc, 2\", \"vancouver, bc, 15\", \"whitehorse, yt, 2\", \"montreal, qc, 12\", \"cambridge, on, 2\", \"markham, on, 3\", \"oakville, on, 6\", \"saint-bruno-de-montarville, qc, 4\", \"saskatoon, sk, 3\", \"nepean, on, 1\", \"tracadie-sheila, nb, 1\", \"vancouver, bc, 15\", \"montreal, qc, 12\", \"ajax, on, 1\", \"saint-hubert, qc, 1\", \"vancouver, bc, 15\", \"brossard, qc, 1\", \"mississauga, on, 12\", \"tumbler ridge, bc, 1\", \"burlington, on, 8\", \"ottawa, on, 17\", \"halifax, ns, 5\", \"portage la prairie, mb, 1\", \"mn, 1\", \"oakville, on, 6\", \"montreal, qc, 12\", \"amherst, ns, 1\", \"ottawa, on, 17\", \"dorval, qc, 3\", \"richmond hill, on, 5\", \"pointe-claire, qc, 2\", \"st. thomas, on, 2\", \"on, 4\", \"kelowna, bc, 3\", \"abbotsford, bc, 1\", \"mississauga, on, 12\", \"ottawa, on, 17\", \"kincardine, on, 3\", \"ottawa, on, 17\", \"newmarket, on, 3\", \"toronto, on, 17\", \"greater sudbury, on, 4\", \"ottawa, on, 17\", \"prince rupert, bc, 1\", \"richmond hill, on, 5\", \"vaughan, on, 1\", \"vancouver, bc, 15\", \"burnaby, bc, 3\", \"vancouver, bc, 15\", \"alberton, pe, 1\", \"montreal, qc, 12\", \"engineer, bc, 2\", \"dartmouth, ns, 3\", \"toronto, on, 17\", \"burlington, on, 8\", \"canada, 6\", \"calgary, ab, 7\", \"kirkland, qc, 1\", \"dartmouth, ns, 3\", \"dorval, qc, 3\", \"mississauga, on, 12\", \"waterloo, on, 3\", \"surrey, bc, 5\", \"montreal, qc, 12\", \"kitchener, on, 3\", \"shawinigan, qc, 1\", \"vancouver, bc, 15\", \"winnipeg, mb, 3\", \"ottawa, on, 17\", \"woodbridge, on, 3\", \"toronto, on, 17\", \"campbell river, bc, 1\", \"toronto, on, 17\", \"surrey, bc, 5\", \"greater sudbury, on, 4\", \"vancouver, bc, 15\", \"vancouver, bc, 15\", \"newmarket, on, 3\", \"dorval, qc, 3\", \"saint-anicet, qc, 1\", \"kamloops, bc, 1\", \"vancouver, bc, 15\", \"st. catharines, on, 3\", \"toronto, on, 17\", \"delta, bc, 2\", \"squamish, bc, 1\", \"la pocatiere, qc, 1\", \"edmonton, ab, 10\", \"vancouver, bc, 15\", \"markham, on, 3\", \"inverness, ns, 1\", \"calgary, ab, 7\", \"kanata, on, 1\", \"shanty bay, on, 1\", \"vancouver, bc, 15\", \"kitchener, on, 3\", \"montreal, qc, 12\", \"st. george, nb, 1\", \"edmonton, ab, 10\", \"chatham-kent, on, 1\", \"saint john, nb, 1\", \"tillsonburg, on, 1\", \"on, 4\", \"airdrie, ab, 1\", \"bath, on, 1\", \"ottawa, on, 17\", \"montreal, qc, 12\", \"caledon, on, 1\", \"terrace, bc, 1\", \"toronto, on, 17\", \"victoria, bc, 3\", \"canada, 6\", \"on, 4\", \"engineer, bc, 2\", \"richmond hill, on, 5\", \"montreal, qc, 12\", \"may, on, 1\", \"headquarters, bc, 1\", \"saint-bruno-de-montarville, qc, 4\", \"halifax, ns, 5\", \"kingston, on, 1\", \"montreal, qc, 12\", \"ottawa, on, 17\", \"woodbridge, on, 3\", \"windsor, on, 2\", \"ottawa, on, 17\", \"t\\u00e9miscaming, qc, 1\", \"l\\u00e9vis, qc, 2\", \"kincardine, on, 3\", \"saskatoon, sk, 3\", \"l\\u00e9vis, qc, 2\", \"guelph, on, 2\", \"montreal, qc, 12\", \"markham, on, 3\", \"on, 4\", \"orillia, on, 1\", \"burlington, on, 8\", \"moncton, nb, 1\", \"oakville, on, 6\", \"canada, 6\", \"victoria, bc, 3\", \"brantford, on, 2\", \"langley, bc, 2\", \"st. catharines, on, 3\", \"ottawa, on, 17\", \"burlington, on, 8\", \"esterhazy, sk, 1\", \"sarnia, on, 2\", \"canada, 6\", \"brantford, on, 2\", \"collingwood, on, 1\"], \"type\": \"scattergeo\"}],\n",
       "                        {\"autosize\": true, \"geo\": {\"countrycolor\": \"rgb(217, 217, 217)\", \"countrywidth\": 0.5, \"landcolor\": \"rgb(250, 250, 250)\", \"projection\": {\"type\": \"equirectangular\"}, \"scope\": \"north america\", \"showland\": true, \"subunitcolor\": \"rgb(217, 217, 217)\", \"subunitwidth\": 0.5}, \"template\": {\"data\": {\"bar\": [{\"error_x\": {\"color\": \"#2a3f5f\"}, \"error_y\": {\"color\": \"#2a3f5f\"}, \"marker\": {\"line\": {\"color\": \"#E5ECF6\", \"width\": 0.5}}, \"type\": \"bar\"}], \"barpolar\": [{\"marker\": {\"line\": {\"color\": \"#E5ECF6\", \"width\": 0.5}}, \"type\": \"barpolar\"}], \"carpet\": [{\"aaxis\": {\"endlinecolor\": \"#2a3f5f\", \"gridcolor\": \"white\", \"linecolor\": \"white\", \"minorgridcolor\": \"white\", \"startlinecolor\": \"#2a3f5f\"}, \"baxis\": {\"endlinecolor\": \"#2a3f5f\", \"gridcolor\": \"white\", \"linecolor\": \"white\", \"minorgridcolor\": \"white\", \"startlinecolor\": \"#2a3f5f\"}, \"type\": \"carpet\"}], \"choropleth\": [{\"colorbar\": {\"outlinewidth\": 0, \"ticks\": \"\"}, \"type\": \"choropleth\"}], \"contour\": [{\"colorbar\": {\"outlinewidth\": 0, \"ticks\": \"\"}, \"colorscale\": [[0.0, \"#0d0887\"], [0.1111111111111111, \"#46039f\"], [0.2222222222222222, \"#7201a8\"], [0.3333333333333333, \"#9c179e\"], [0.4444444444444444, \"#bd3786\"], [0.5555555555555556, \"#d8576b\"], [0.6666666666666666, \"#ed7953\"], [0.7777777777777778, \"#fb9f3a\"], [0.8888888888888888, \"#fdca26\"], [1.0, \"#f0f921\"]], \"type\": \"contour\"}], \"contourcarpet\": [{\"colorbar\": {\"outlinewidth\": 0, \"ticks\": \"\"}, \"type\": \"contourcarpet\"}], \"heatmap\": [{\"colorbar\": {\"outlinewidth\": 0, \"ticks\": \"\"}, \"colorscale\": [[0.0, \"#0d0887\"], [0.1111111111111111, \"#46039f\"], [0.2222222222222222, \"#7201a8\"], [0.3333333333333333, \"#9c179e\"], [0.4444444444444444, \"#bd3786\"], [0.5555555555555556, \"#d8576b\"], [0.6666666666666666, \"#ed7953\"], [0.7777777777777778, \"#fb9f3a\"], [0.8888888888888888, \"#fdca26\"], [1.0, \"#f0f921\"]], \"type\": \"heatmap\"}], \"heatmapgl\": [{\"colorbar\": {\"outlinewidth\": 0, \"ticks\": \"\"}, \"colorscale\": [[0.0, \"#0d0887\"], [0.1111111111111111, \"#46039f\"], [0.2222222222222222, \"#7201a8\"], [0.3333333333333333, \"#9c179e\"], [0.4444444444444444, \"#bd3786\"], [0.5555555555555556, \"#d8576b\"], [0.6666666666666666, \"#ed7953\"], [0.7777777777777778, \"#fb9f3a\"], [0.8888888888888888, \"#fdca26\"], [1.0, \"#f0f921\"]], \"type\": \"heatmapgl\"}], \"histogram\": [{\"marker\": {\"colorbar\": {\"outlinewidth\": 0, \"ticks\": \"\"}}, \"type\": \"histogram\"}], \"histogram2d\": [{\"colorbar\": {\"outlinewidth\": 0, \"ticks\": \"\"}, \"colorscale\": [[0.0, \"#0d0887\"], [0.1111111111111111, \"#46039f\"], [0.2222222222222222, \"#7201a8\"], [0.3333333333333333, \"#9c179e\"], [0.4444444444444444, \"#bd3786\"], [0.5555555555555556, \"#d8576b\"], [0.6666666666666666, \"#ed7953\"], [0.7777777777777778, \"#fb9f3a\"], [0.8888888888888888, \"#fdca26\"], [1.0, \"#f0f921\"]], \"type\": \"histogram2d\"}], \"histogram2dcontour\": [{\"colorbar\": {\"outlinewidth\": 0, \"ticks\": \"\"}, \"colorscale\": [[0.0, \"#0d0887\"], [0.1111111111111111, \"#46039f\"], [0.2222222222222222, \"#7201a8\"], [0.3333333333333333, \"#9c179e\"], [0.4444444444444444, \"#bd3786\"], [0.5555555555555556, \"#d8576b\"], [0.6666666666666666, \"#ed7953\"], [0.7777777777777778, \"#fb9f3a\"], [0.8888888888888888, \"#fdca26\"], [1.0, \"#f0f921\"]], \"type\": \"histogram2dcontour\"}], \"mesh3d\": [{\"colorbar\": {\"outlinewidth\": 0, \"ticks\": \"\"}, \"type\": \"mesh3d\"}], \"parcoords\": [{\"line\": {\"colorbar\": {\"outlinewidth\": 0, \"ticks\": \"\"}}, \"type\": \"parcoords\"}], \"pie\": [{\"automargin\": true, \"type\": \"pie\"}], \"scatter\": [{\"marker\": {\"colorbar\": {\"outlinewidth\": 0, \"ticks\": \"\"}}, \"type\": \"scatter\"}], \"scatter3d\": [{\"line\": {\"colorbar\": {\"outlinewidth\": 0, \"ticks\": \"\"}}, \"marker\": {\"colorbar\": {\"outlinewidth\": 0, \"ticks\": \"\"}}, \"type\": \"scatter3d\"}], \"scattercarpet\": [{\"marker\": {\"colorbar\": {\"outlinewidth\": 0, \"ticks\": \"\"}}, \"type\": \"scattercarpet\"}], \"scattergeo\": [{\"marker\": {\"colorbar\": {\"outlinewidth\": 0, \"ticks\": \"\"}}, \"type\": \"scattergeo\"}], \"scattergl\": [{\"marker\": {\"colorbar\": {\"outlinewidth\": 0, \"ticks\": \"\"}}, \"type\": \"scattergl\"}], \"scattermapbox\": [{\"marker\": {\"colorbar\": {\"outlinewidth\": 0, \"ticks\": \"\"}}, \"type\": \"scattermapbox\"}], \"scatterpolar\": [{\"marker\": {\"colorbar\": {\"outlinewidth\": 0, \"ticks\": \"\"}}, \"type\": \"scatterpolar\"}], \"scatterpolargl\": [{\"marker\": {\"colorbar\": {\"outlinewidth\": 0, \"ticks\": \"\"}}, \"type\": \"scatterpolargl\"}], \"scatterternary\": [{\"marker\": {\"colorbar\": {\"outlinewidth\": 0, \"ticks\": \"\"}}, \"type\": \"scatterternary\"}], \"surface\": [{\"colorbar\": {\"outlinewidth\": 0, \"ticks\": \"\"}, \"colorscale\": [[0.0, \"#0d0887\"], [0.1111111111111111, \"#46039f\"], [0.2222222222222222, \"#7201a8\"], [0.3333333333333333, \"#9c179e\"], [0.4444444444444444, \"#bd3786\"], [0.5555555555555556, \"#d8576b\"], [0.6666666666666666, \"#ed7953\"], [0.7777777777777778, \"#fb9f3a\"], [0.8888888888888888, \"#fdca26\"], [1.0, \"#f0f921\"]], \"type\": \"surface\"}], \"table\": [{\"cells\": {\"fill\": {\"color\": \"#EBF0F8\"}, \"line\": {\"color\": \"white\"}}, \"header\": {\"fill\": {\"color\": \"#C8D4E3\"}, \"line\": {\"color\": \"white\"}}, \"type\": \"table\"}]}, \"layout\": {\"annotationdefaults\": {\"arrowcolor\": \"#2a3f5f\", \"arrowhead\": 0, \"arrowwidth\": 1}, \"coloraxis\": {\"colorbar\": {\"outlinewidth\": 0, \"ticks\": \"\"}}, \"colorscale\": {\"diverging\": [[0, \"#8e0152\"], [0.1, \"#c51b7d\"], [0.2, \"#de77ae\"], [0.3, \"#f1b6da\"], [0.4, \"#fde0ef\"], [0.5, \"#f7f7f7\"], [0.6, \"#e6f5d0\"], [0.7, \"#b8e186\"], [0.8, \"#7fbc41\"], [0.9, \"#4d9221\"], [1, \"#276419\"]], \"sequential\": [[0.0, \"#0d0887\"], [0.1111111111111111, \"#46039f\"], [0.2222222222222222, \"#7201a8\"], [0.3333333333333333, \"#9c179e\"], [0.4444444444444444, \"#bd3786\"], [0.5555555555555556, \"#d8576b\"], [0.6666666666666666, \"#ed7953\"], [0.7777777777777778, \"#fb9f3a\"], [0.8888888888888888, \"#fdca26\"], [1.0, \"#f0f921\"]], \"sequentialminus\": [[0.0, \"#0d0887\"], [0.1111111111111111, \"#46039f\"], [0.2222222222222222, \"#7201a8\"], [0.3333333333333333, \"#9c179e\"], [0.4444444444444444, \"#bd3786\"], [0.5555555555555556, \"#d8576b\"], [0.6666666666666666, \"#ed7953\"], [0.7777777777777778, \"#fb9f3a\"], [0.8888888888888888, \"#fdca26\"], [1.0, \"#f0f921\"]]}, \"colorway\": [\"#636efa\", \"#EF553B\", \"#00cc96\", \"#ab63fa\", \"#FFA15A\", \"#19d3f3\", \"#FF6692\", \"#B6E880\", \"#FF97FF\", \"#FECB52\"], \"font\": {\"color\": \"#2a3f5f\"}, \"geo\": {\"bgcolor\": \"white\", \"lakecolor\": \"white\", \"landcolor\": \"#E5ECF6\", \"showlakes\": true, \"showland\": true, \"subunitcolor\": \"white\"}, \"hoverlabel\": {\"align\": \"left\"}, \"hovermode\": \"closest\", \"mapbox\": {\"style\": \"light\"}, \"paper_bgcolor\": \"white\", \"plot_bgcolor\": \"#E5ECF6\", \"polar\": {\"angularaxis\": {\"gridcolor\": \"white\", \"linecolor\": \"white\", \"ticks\": \"\"}, \"bgcolor\": \"#E5ECF6\", \"radialaxis\": {\"gridcolor\": \"white\", \"linecolor\": \"white\", \"ticks\": \"\"}}, \"scene\": {\"xaxis\": {\"backgroundcolor\": \"#E5ECF6\", \"gridcolor\": \"white\", \"gridwidth\": 2, \"linecolor\": \"white\", \"showbackground\": true, \"ticks\": \"\", \"zerolinecolor\": \"white\"}, \"yaxis\": {\"backgroundcolor\": \"#E5ECF6\", \"gridcolor\": \"white\", \"gridwidth\": 2, \"linecolor\": \"white\", \"showbackground\": true, \"ticks\": \"\", \"zerolinecolor\": \"white\"}, \"zaxis\": {\"backgroundcolor\": \"#E5ECF6\", \"gridcolor\": \"white\", \"gridwidth\": 2, \"linecolor\": \"white\", \"showbackground\": true, \"ticks\": \"\", \"zerolinecolor\": \"white\"}}, \"shapedefaults\": {\"line\": {\"color\": \"#2a3f5f\"}}, \"ternary\": {\"aaxis\": {\"gridcolor\": \"white\", \"linecolor\": \"white\", \"ticks\": \"\"}, \"baxis\": {\"gridcolor\": \"white\", \"linecolor\": \"white\", \"ticks\": \"\"}, \"bgcolor\": \"#E5ECF6\", \"caxis\": {\"gridcolor\": \"white\", \"linecolor\": \"white\", \"ticks\": \"\"}}, \"title\": {\"x\": 0.05}, \"xaxis\": {\"automargin\": true, \"gridcolor\": \"white\", \"linecolor\": \"white\", \"ticks\": \"\", \"title\": {\"standoff\": 15}, \"zerolinecolor\": \"white\", \"zerolinewidth\": 2}, \"yaxis\": {\"automargin\": true, \"gridcolor\": \"white\", \"linecolor\": \"white\", \"ticks\": \"\", \"title\": {\"standoff\": 15}, \"zerolinecolor\": \"white\", \"zerolinewidth\": 2}}}, \"title\": {\"text\": \"Job locations\"}},\n",
       "                        {\"responsive\": true}\n",
       "                    ).then(function(){\n",
       "                            \n",
       "var gd = document.getElementById('ff555d90-fc70-48df-b1cf-519ada75e70d');\n",
       "var x = new MutationObserver(function (mutations, observer) {{\n",
       "        var display = window.getComputedStyle(gd).display;\n",
       "        if (!display || display === 'none') {{\n",
       "            console.log([gd, 'removed!']);\n",
       "            Plotly.purge(gd);\n",
       "            observer.disconnect();\n",
       "        }}\n",
       "}});\n",
       "\n",
       "// Listen for the removal of the full notebook cells\n",
       "var notebookContainer = gd.closest('#notebook-container');\n",
       "if (notebookContainer) {{\n",
       "    x.observe(notebookContainer, {childList: true});\n",
       "}}\n",
       "\n",
       "// Listen for the clearing of the current output cell\n",
       "var outputEl = gd.closest('.output');\n",
       "if (outputEl) {{\n",
       "    x.observe(outputEl, {childList: true});\n",
       "}}\n",
       "\n",
       "                        })\n",
       "                };\n",
       "                });\n",
       "            </script>\n",
       "        </div>"
      ]
     },
     "metadata": {},
     "output_type": "display_data"
    }
   ],
   "source": [
    "# Interactive location plot\n",
    "\n",
    "import plotly.graph_objs as go \n",
    "from plotly.offline import init_notebook_mode,iplot\n",
    "init_notebook_mode(connected=True) \n",
    "\n",
    "data = [\n",
    "        go.Scattergeo(\n",
    "        locationmode = 'country names',\n",
    "        lon = df['long'],\n",
    "        lat = df['lat'],\n",
    "        text = df['Location']+', '+df['location_count'].astype('str'),\n",
    "        mode = 'markers',\n",
    "        marker = dict( \n",
    "            size = df['location_count'],\n",
    "            colorscale= 'Viridis',  \n",
    "            color = df['location_count'],\n",
    "            colorbar = dict(\n",
    "                title = 'Job_Count',\n",
    "                titleside = 'top',\n",
    "                tickmode = 'array',\n",
    "        )))]\n",
    "\n",
    "layout = dict(\n",
    "        title = 'Job locations', \n",
    "        autosize=True,\n",
    "        geo = dict(\n",
    "            scope='north america',\n",
    "            projection=dict(type = 'equirectangular'),\n",
    "            showland = True,\n",
    "            landcolor = \"rgb(250, 250, 250)\",\n",
    "            subunitcolor = \"rgb(217, 217, 217)\",\n",
    "            countrycolor = \"rgb(217, 217, 217)\",\n",
    "            countrywidth = 0.5,\n",
    "            subunitwidth = 0.5        \n",
    "        ),\n",
    "    )\n",
    "\n",
    "fig = go.Figure(data = data, layout = layout)\n",
    "iplot(fig,validate=False)"
   ]
  },
  {
   "cell_type": "code",
   "execution_count": 145,
   "metadata": {},
   "outputs": [
    {
     "data": {
      "text/plain": [
       "(array([0, 1, 2, 3, 4, 5, 6, 7, 8, 9]), <a list of 10 Text xticklabel objects>)"
      ]
     },
     "execution_count": 145,
     "metadata": {},
     "output_type": "execute_result"
    },
    {
     "data": {
      "image/png": "[encoded data removed]",
      "text/plain": [
       "<Figure size 720x432 with 1 Axes>"
      ]
     },
     "metadata": {
      "needs_background": "light"
     },
     "output_type": "display_data"
    }
   ],
   "source": [
    "# Plot of postings per province (top 10)\n",
    "\n",
    "plt.figure(figsize=(10,6))\n",
    "splot = sns.countplot('Province', data=df, order = df['Province'].value_counts().iloc[:10].index, palette = 'coolwarm')\n",
    "\n",
    "for p in splot.patches:\n",
    "    splot.annotate(format(p.get_height()), (p.get_x() + p.get_width() / 2., p.get_height()), ha = 'center', va = 'center', xytext = (0, 10), textcoords = 'offset points')\n",
    "plt.xticks(rotation=90)"
   ]
  },
  {
   "cell_type": "code",
   "execution_count": 146,
   "metadata": {},
   "outputs": [
    {
     "data": {
      "text/plain": [
       "(array([0, 1, 2, 3, 4, 5, 6, 7, 8, 9]), <a list of 10 Text xticklabel objects>)"
      ]
     },
     "execution_count": 146,
     "metadata": {},
     "output_type": "execute_result"
    },
    {
     "data": {
      "image/png": "[encoded data removed]",
      "text/plain": [
       "<Figure size 720x432 with 1 Axes>"
      ]
     },
     "metadata": {
      "needs_background": "light"
     },
     "output_type": "display_data"
    }
   ],
   "source": [
    "# Plot of postings per city (top 10)\n",
    "\n",
    "plt.figure(figsize=(10,6))\n",
    "splot = sns.countplot('City', data=df, order = df['City'].value_counts().iloc[:10].index, palette='coolwarm')\n",
    "\n",
    "for p in splot.patches:\n",
    "    splot.annotate(format(p.get_height()), (p.get_x() + p.get_width() / 2., p.get_height()), ha = 'center', va = 'center', xytext = (0, 10), textcoords = 'offset points')\n",
    "plt.xticks(rotation=90)"
   ]
  },
  {
   "cell_type": "code",
   "execution_count": 147,
   "metadata": {},
   "outputs": [
    {
     "data": {
      "text/plain": [
       "(array([0, 1, 2, 3, 4, 5, 6, 7, 8, 9]), <a list of 10 Text xticklabel objects>)"
      ]
     },
     "execution_count": 147,
     "metadata": {},
     "output_type": "execute_result"
    },
    {
     "data": {
      "image/png": "[encoded data removed]",
      "text/plain": [
       "<Figure size 720x432 with 1 Axes>"
      ]
     },
     "metadata": {
      "needs_background": "light"
     },
     "output_type": "display_data"
    }
   ],
   "source": [
    "# Plot of postings per Company (top 10)\n",
    "\n",
    "plt.figure(figsize=(10,6))\n",
    "splot = sns.countplot('Company', data=df, order = df['Company'].value_counts().iloc[:10].index, palette='coolwarm')\n",
    "\n",
    "for p in splot.patches:\n",
    "    splot.annotate(format(p.get_height()), (p.get_x() + p.get_width() / 2., p.get_height()), ha = 'center', va = 'center', xytext = (0, 10), textcoords = 'offset points')\n",
    "plt.xticks(rotation=90)"
   ]
  },
  {
   "cell_type": "code",
   "execution_count": 148,
   "metadata": {},
   "outputs": [],
   "source": [
    "jobs_to_search = [\n",
    "    'project engineer',\n",
    "    'project manager',\n",
    "    'mechanical engineer',\n",
    "    'manufacturing engineer',\n",
    "    'mechancial designer',\n",
    "    'process engineer',\n",
    "    'chemical engineer',\n",
    "    'civil engineer',\n",
    "    'structural engineer',\n",
    "    'electrical engineer',\n",
    "    'petroleum'\n",
    "]\n",
    "\n",
    "d = {el:0 for el in jobs_to_search}\n",
    "\n",
    "def job_search(df):\n",
    "    for job in df['JobTitle']:\n",
    "        for search_job in jobs_to_search:\n",
    "            if search_job in job:\n",
    "                d[search_job] = d[search_job]+1\n",
    "    job_counts = pd.DataFrame(d,index=[1])\n",
    "    return job_counts.transpose().reset_index().sort_values(by=1,ascending=False).rename(columns={'index':'Job',1:'Count'})\n",
    "\n",
    "job_search_df = job_search(df)"
   ]
  },
  {
   "cell_type": "code",
   "execution_count": 150,
   "metadata": {},
   "outputs": [
    {
     "data": {
      "text/plain": [
       "(0, 50)"
      ]
     },
     "execution_count": 150,
     "metadata": {},
     "output_type": "execute_result"
    },
    {
     "data": {
      "image/png": "[encoded data removed]",
      "text/plain": [
       "<Figure size 720x432 with 1 Axes>"
      ]
     },
     "metadata": {
      "needs_background": "light"
     },
     "output_type": "display_data"
    }
   ],
   "source": [
    "plt.figure(figsize=(10,6))\n",
    "splot = sns.barplot(x=job_search_df['Job'],y=job_search_df['Count'], palette='coolwarm')\n",
    "\n",
    "for p in splot.patches:\n",
    "    splot.annotate(format(p.get_height()), (p.get_x() + p.get_width() / 2., p.get_height()), ha = 'center', va = 'center', xytext = (0, 10), textcoords = 'offset points')\n",
    "plt.xticks(rotation=90)\n",
    "plt.ylim(0,50)"
   ]
  },
  {
   "cell_type": "code",
   "execution_count": 154,
   "metadata": {},
   "outputs": [],
   "source": [
    "keywords_to_search = [\n",
    "    'autocad',\n",
    "    'solidworks',\n",
    "    'autodesk', \n",
    "    'revit']\n",
    "\n",
    "from text_breakdown import word_search"
   ]
  },
  {
   "cell_type": "code",
   "execution_count": 155,
   "metadata": {},
   "outputs": [
    {
     "name": "stdout",
     "output_type": "stream",
     "text": [
      "\n",
      "560 jobs have been searched. The result is:\n",
      "\n",
      "{'autocad': 81, 'solidworks': 73, 'autodesk': 5, 'revit': 5}\n"
     ]
    }
   ],
   "source": [
    "search1 = word_search(keywords_to_search,descr_file)\n",
    "search_values = search1.complete()"
   ]
  },
  {
   "cell_type": "code",
   "execution_count": 156,
   "metadata": {},
   "outputs": [
    {
     "data": {
      "text/plain": [
       "(0, 100)"
      ]
     },
     "execution_count": 156,
     "metadata": {},
     "output_type": "execute_result"
    },
    {
     "data": {
      "image/png": "[encoded data removed]",
      "text/plain": [
       "<Figure size 720x432 with 1 Axes>"
      ]
     },
     "metadata": {
      "needs_background": "light"
     },
     "output_type": "display_data"
    }
   ],
   "source": [
    "search_value_df = pd.DataFrame(search_values,index=[1])\n",
    "search_value_df = search_value_df.transpose().reset_index().rename(columns={'index':'Searched Value',1:'Count'})\n",
    "\n",
    "plt.figure(figsize=(10,6))\n",
    "splot = sns.barplot(x=search_value_df['Searched Value'],y=search_value_df['Count'], palette='coolwarm')\n",
    "\n",
    "for p in splot.patches:\n",
    "    splot.annotate(format(p.get_height()), (p.get_x() + p.get_width() / 2., p.get_height()), ha = 'center', va = 'center', xytext = (0, 10), textcoords = 'offset points')\n",
    "plt.xticks(rotation=90)\n",
    "plt.ylim(0,100)\n"
   ]
  }
 ],
 "metadata": {
  "kernelspec": {
   "display_name": "indeed_project_venv",
   "language": "python",
   "name": "project_venv"
  },
  "language_info": {
   "codemirror_mode": {
    "name": "ipython",
    "version": 3
   },
   "file_extension": ".py",
   "mimetype": "text/x-python",
   "name": "python",
   "nbconvert_exporter": "python",
   "pygments_lexer": "ipython3",
   "version": "3.7.5"
  },
  "toc": {
   "base_numbering": 1,
   "nav_menu": {},
   "number_sections": true,
   "sideBar": true,
   "skip_h1_title": false,
   "title_cell": "Table of Contents",
   "title_sidebar": "Contents",
   "toc_cell": false,
   "toc_position": {},
   "toc_section_display": true,
   "toc_window_display": true
  }
 },
 "nbformat": 4,
 "nbformat_minor": 4
}
